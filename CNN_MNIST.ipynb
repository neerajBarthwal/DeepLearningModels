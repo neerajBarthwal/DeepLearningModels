{
  "nbformat": 4,
  "nbformat_minor": 0,
  "metadata": {
    "colab": {
      "name": "CNN_MNIST.ipynb",
      "provenance": [],
      "collapsed_sections": []
    },
    "kernelspec": {
      "name": "python3",
      "display_name": "Python 3"
    },
    "accelerator": "GPU"
  },
  "cells": [
    {
      "cell_type": "code",
      "metadata": {
        "id": "FOYBRsvtaB6f",
        "colab_type": "code",
        "colab": {}
      },
      "source": [
        "# Credits: https://github.com/keras-team/keras/blob/master/examples/mnist_cnn.py\n",
        "from __future__ import print_function\n",
        "import keras\n",
        "from keras.datasets import mnist\n",
        "from keras.models import Sequential\n",
        "from keras.layers import Dense, Dropout, Flatten\n",
        "from keras.layers import Conv2D, MaxPooling2D\n",
        "from keras import backend as K\n",
        "import matplotlib.pyplot as plt\n",
        "import seaborn as sns\n",
        "%matplotlib inline"
      ],
      "execution_count": 0,
      "outputs": []
    },
    {
      "cell_type": "code",
      "metadata": {
        "id": "H9EU0e8yzFOm",
        "colab_type": "code",
        "outputId": "8cbde60c-cc05-475f-a352-31dfe47fe3d7",
        "colab": {
          "base_uri": "https://localhost:8080/",
          "height": 1000
        }
      },
      "source": [
        "\n",
        "\n",
        "batch_size = 128\n",
        "num_classes = 10\n",
        "epochs = 12\n",
        "\n",
        "# input image dimensions\n",
        "img_rows, img_cols = 28, 28\n",
        "\n",
        "# the data, split between train and test sets\n",
        "(x_train, y_train), (x_test, y_test) = mnist.load_data()\n",
        "\n",
        "if K.image_data_format() == 'channels_first':\n",
        "    x_train = x_train.reshape(x_train.shape[0], 1, img_rows, img_cols)\n",
        "    x_test = x_test.reshape(x_test.shape[0], 1, img_rows, img_cols)\n",
        "    input_shape = (1, img_rows, img_cols)\n",
        "else:\n",
        "    x_train = x_train.reshape(x_train.shape[0], img_rows, img_cols, 1)\n",
        "    x_test = x_test.reshape(x_test.shape[0], img_rows, img_cols, 1)\n",
        "    input_shape = (img_rows, img_cols, 1)\n",
        "\n",
        "x_train = x_train.astype('float32')\n",
        "x_test = x_test.astype('float32')\n",
        "x_train /= 255\n",
        "x_test /= 255\n",
        "print('x_train shape:', x_train.shape)\n",
        "print(x_train.shape[0], 'train samples')\n",
        "print(x_test.shape[0], 'test samples')\n",
        "\n",
        "# convert class vectors to binary class matrices\n",
        "y_train = keras.utils.to_categorical(y_train, num_classes)\n",
        "y_test = keras.utils.to_categorical(y_test, num_classes)\n",
        "\n",
        "model = Sequential()\n",
        "model.add(Conv2D(32, kernel_size=(3, 3),\n",
        "                 activation='relu',\n",
        "                 input_shape=input_shape))\n",
        "model.add(Conv2D(64, (3, 3), activation='relu'))\n",
        "model.add(MaxPooling2D(pool_size=(2, 2)))\n",
        "model.add(Dropout(0.25))\n",
        "model.add(Flatten())\n",
        "model.add(Dense(128, activation='relu'))\n",
        "model.add(Dropout(0.5))\n",
        "model.add(Dense(num_classes, activation='softmax'))\n",
        "\n",
        "model.compile(loss=keras.losses.categorical_crossentropy,\n",
        "              optimizer=keras.optimizers.Adadelta(),\n",
        "              metrics=['accuracy'])\n",
        "\n",
        "model.fit(x_train, y_train,\n",
        "          batch_size=batch_size,\n",
        "          epochs=epochs,\n",
        "          verbose=1,\n",
        "          validation_data=(x_test, y_test))\n",
        "score = model.evaluate(x_test, y_test, verbose=0)\n",
        "print('Test loss:', score[0])\n",
        "print('Test accuracy:', score[1])"
      ],
      "execution_count": 1,
      "outputs": [
        {
          "output_type": "stream",
          "text": [
            "Using TensorFlow backend.\n"
          ],
          "name": "stderr"
        },
        {
          "output_type": "display_data",
          "data": {
            "text/html": [
              "<p style=\"color: red;\">\n",
              "The default version of TensorFlow in Colab will soon switch to TensorFlow 2.x.<br>\n",
              "We recommend you <a href=\"https://www.tensorflow.org/guide/migrate\" target=\"_blank\">upgrade</a> now \n",
              "or ensure your notebook will continue to use TensorFlow 1.x via the <code>%tensorflow_version 1.x</code> magic:\n",
              "<a href=\"https://colab.research.google.com/notebooks/tensorflow_version.ipynb\" target=\"_blank\">more info</a>.</p>\n"
            ],
            "text/plain": [
              "<IPython.core.display.HTML object>"
            ]
          },
          "metadata": {
            "tags": []
          }
        },
        {
          "output_type": "stream",
          "text": [
            "Downloading data from https://s3.amazonaws.com/img-datasets/mnist.npz\n",
            "11493376/11490434 [==============================] - 1s 0us/step\n",
            "x_train shape: (60000, 28, 28, 1)\n",
            "60000 train samples\n",
            "10000 test samples\n",
            "WARNING:tensorflow:From /usr/local/lib/python3.6/dist-packages/keras/backend/tensorflow_backend.py:66: The name tf.get_default_graph is deprecated. Please use tf.compat.v1.get_default_graph instead.\n",
            "\n",
            "WARNING:tensorflow:From /usr/local/lib/python3.6/dist-packages/keras/backend/tensorflow_backend.py:541: The name tf.placeholder is deprecated. Please use tf.compat.v1.placeholder instead.\n",
            "\n",
            "WARNING:tensorflow:From /usr/local/lib/python3.6/dist-packages/keras/backend/tensorflow_backend.py:4432: The name tf.random_uniform is deprecated. Please use tf.random.uniform instead.\n",
            "\n",
            "WARNING:tensorflow:From /usr/local/lib/python3.6/dist-packages/keras/backend/tensorflow_backend.py:4267: The name tf.nn.max_pool is deprecated. Please use tf.nn.max_pool2d instead.\n",
            "\n",
            "WARNING:tensorflow:From /usr/local/lib/python3.6/dist-packages/keras/backend/tensorflow_backend.py:148: The name tf.placeholder_with_default is deprecated. Please use tf.compat.v1.placeholder_with_default instead.\n",
            "\n",
            "WARNING:tensorflow:From /usr/local/lib/python3.6/dist-packages/keras/backend/tensorflow_backend.py:3733: calling dropout (from tensorflow.python.ops.nn_ops) with keep_prob is deprecated and will be removed in a future version.\n",
            "Instructions for updating:\n",
            "Please use `rate` instead of `keep_prob`. Rate should be set to `rate = 1 - keep_prob`.\n",
            "WARNING:tensorflow:From /usr/local/lib/python3.6/dist-packages/keras/optimizers.py:793: The name tf.train.Optimizer is deprecated. Please use tf.compat.v1.train.Optimizer instead.\n",
            "\n",
            "WARNING:tensorflow:From /usr/local/lib/python3.6/dist-packages/keras/backend/tensorflow_backend.py:3576: The name tf.log is deprecated. Please use tf.math.log instead.\n",
            "\n",
            "WARNING:tensorflow:From /usr/local/lib/python3.6/dist-packages/tensorflow_core/python/ops/math_grad.py:1424: where (from tensorflow.python.ops.array_ops) is deprecated and will be removed in a future version.\n",
            "Instructions for updating:\n",
            "Use tf.where in 2.0, which has the same broadcast rule as np.where\n",
            "WARNING:tensorflow:From /usr/local/lib/python3.6/dist-packages/keras/backend/tensorflow_backend.py:1033: The name tf.assign_add is deprecated. Please use tf.compat.v1.assign_add instead.\n",
            "\n",
            "WARNING:tensorflow:From /usr/local/lib/python3.6/dist-packages/keras/backend/tensorflow_backend.py:1020: The name tf.assign is deprecated. Please use tf.compat.v1.assign instead.\n",
            "\n",
            "WARNING:tensorflow:From /usr/local/lib/python3.6/dist-packages/keras/backend/tensorflow_backend.py:3005: The name tf.Session is deprecated. Please use tf.compat.v1.Session instead.\n",
            "\n",
            "Train on 60000 samples, validate on 10000 samples\n",
            "Epoch 1/12\n",
            "WARNING:tensorflow:From /usr/local/lib/python3.6/dist-packages/keras/backend/tensorflow_backend.py:190: The name tf.get_default_session is deprecated. Please use tf.compat.v1.get_default_session instead.\n",
            "\n",
            "WARNING:tensorflow:From /usr/local/lib/python3.6/dist-packages/keras/backend/tensorflow_backend.py:197: The name tf.ConfigProto is deprecated. Please use tf.compat.v1.ConfigProto instead.\n",
            "\n",
            "WARNING:tensorflow:From /usr/local/lib/python3.6/dist-packages/keras/backend/tensorflow_backend.py:207: The name tf.global_variables is deprecated. Please use tf.compat.v1.global_variables instead.\n",
            "\n",
            "WARNING:tensorflow:From /usr/local/lib/python3.6/dist-packages/keras/backend/tensorflow_backend.py:216: The name tf.is_variable_initialized is deprecated. Please use tf.compat.v1.is_variable_initialized instead.\n",
            "\n",
            "WARNING:tensorflow:From /usr/local/lib/python3.6/dist-packages/keras/backend/tensorflow_backend.py:223: The name tf.variables_initializer is deprecated. Please use tf.compat.v1.variables_initializer instead.\n",
            "\n",
            "60000/60000 [==============================] - 20s 338us/step - loss: 0.2541 - acc: 0.9221 - val_loss: 0.0559 - val_acc: 0.9811\n",
            "Epoch 2/12\n",
            "60000/60000 [==============================] - 6s 100us/step - loss: 0.0840 - acc: 0.9747 - val_loss: 0.0389 - val_acc: 0.9871\n",
            "Epoch 3/12\n",
            "60000/60000 [==============================] - 6s 102us/step - loss: 0.0637 - acc: 0.9812 - val_loss: 0.0339 - val_acc: 0.9885\n",
            "Epoch 4/12\n",
            "60000/60000 [==============================] - 6s 102us/step - loss: 0.0518 - acc: 0.9847 - val_loss: 0.0321 - val_acc: 0.9879\n",
            "Epoch 5/12\n",
            "60000/60000 [==============================] - 6s 102us/step - loss: 0.0443 - acc: 0.9861 - val_loss: 0.0317 - val_acc: 0.9895\n",
            "Epoch 6/12\n",
            "60000/60000 [==============================] - 6s 102us/step - loss: 0.0405 - acc: 0.9874 - val_loss: 0.0338 - val_acc: 0.9895\n",
            "Epoch 7/12\n",
            "60000/60000 [==============================] - 6s 104us/step - loss: 0.0355 - acc: 0.9890 - val_loss: 0.0289 - val_acc: 0.9900\n",
            "Epoch 8/12\n",
            "60000/60000 [==============================] - 6s 101us/step - loss: 0.0327 - acc: 0.9900 - val_loss: 0.0278 - val_acc: 0.9913\n",
            "Epoch 9/12\n",
            "60000/60000 [==============================] - 6s 102us/step - loss: 0.0296 - acc: 0.9907 - val_loss: 0.0270 - val_acc: 0.9912\n",
            "Epoch 10/12\n",
            "60000/60000 [==============================] - 6s 102us/step - loss: 0.0262 - acc: 0.9918 - val_loss: 0.0254 - val_acc: 0.9922\n",
            "Epoch 11/12\n",
            "60000/60000 [==============================] - 6s 102us/step - loss: 0.0254 - acc: 0.9921 - val_loss: 0.0260 - val_acc: 0.9920\n",
            "Epoch 12/12\n",
            "60000/60000 [==============================] - 6s 102us/step - loss: 0.0256 - acc: 0.9924 - val_loss: 0.0279 - val_acc: 0.9905\n",
            "Test loss: 0.027925510946988835\n",
            "Test accuracy: 0.9905\n"
          ],
          "name": "stdout"
        }
      ]
    },
    {
      "cell_type": "markdown",
      "metadata": {
        "id": "OMnEM2_hYNVg",
        "colab_type": "text"
      },
      "source": [
        "# ================ Assignment ================================="
      ]
    },
    {
      "cell_type": "code",
      "metadata": {
        "id": "B66weHvmamI_",
        "colab_type": "code",
        "colab": {}
      },
      "source": [
        "import numpy as np\n",
        "import time\n",
        "# https://gist.github.com/greydanus/f6eee59eaf1d90fcb3b534a25362cea4\n",
        "# https://stackoverflow.com/a/14434334\n",
        "# this function is used to update the plots for each epoch and error\n",
        "def plt_dynamic(x, vy, ty, ax, colors=['b']):\n",
        "    ax.plot(x, vy, 'b', label=\"Validation Loss\")\n",
        "    ax.plot(x, ty, 'r', label=\"Train Loss\")\n",
        "    plt.legend()\n",
        "    plt.grid()\n",
        "    fig.canvas.draw()"
      ],
      "execution_count": 0,
      "outputs": []
    },
    {
      "cell_type": "markdown",
      "metadata": {
        "id": "KwXoGzRTa27h",
        "colab_type": "text"
      },
      "source": [
        "<h1> Model 1: 7 conv layers + filter size = 3x3 + relu activation + dropout + maxpool</h1>\n"
      ]
    },
    {
      "cell_type": "code",
      "metadata": {
        "id": "YYAiITTUXKqN",
        "colab_type": "code",
        "colab": {
          "base_uri": "https://localhost:8080/",
          "height": 513
        },
        "outputId": "d77aff8f-cdc0-43ed-8296-f9b8d71059c5"
      },
      "source": [
        "model = Sequential()\n",
        "\n",
        "model.add(Conv2D(20, kernel_size=(3, 3),activation='relu',input_shape=input_shape))\n",
        "model.add(MaxPooling2D(pool_size=(2, 2)))\n",
        "model.add(Dropout(0.25))\n",
        "\n",
        "model.add(Conv2D(25, (3, 3), activation='relu',padding='same'))\n",
        "model.add(MaxPooling2D(pool_size=(2, 2)))\n",
        "model.add(Dropout(0.25))\n",
        "\n",
        "model.add(Conv2D(35, (3, 3), activation='relu',padding='same'))\n",
        "model.add(MaxPooling2D(pool_size=(2, 2)))\n",
        "\n",
        "model.add(Conv2D(45, (3, 3), activation='relu',padding='same'))\n",
        "model.add(MaxPooling2D(pool_size=(2, 2)))\n",
        "\n",
        "model.add(Conv2D(55, (3, 3), activation='relu',padding='same'))\n",
        "\n",
        "\n",
        "model.add(Conv2D(65, (3, 3), activation='relu',padding='same'))\n",
        "\n",
        "\n",
        "model.add(Conv2D(75, (3, 3), activation='relu',padding='same'))\n",
        "model.add(Dropout(0.75))\n",
        "\n",
        "model.add(Flatten())\n",
        "model.add(Dense(128, activation='relu'))\n",
        "model.add(Dropout(0.5))\n",
        "model.add(Dense(num_classes, activation='softmax'))\n",
        "\n",
        "model.compile(loss=keras.losses.categorical_crossentropy,\n",
        "              optimizer=keras.optimizers.Adadelta(),\n",
        "              metrics=['accuracy'])\n",
        "\n",
        "history = model.fit(x_train, y_train,\n",
        "          batch_size=batch_size,\n",
        "          epochs=epochs,\n",
        "          verbose=1,\n",
        "          validation_data=(x_test, y_test))\n",
        "score = model.evaluate(x_test, y_test, verbose=0)\n",
        "print('Test loss:', score[0])\n",
        "print('Test accuracy:', score[1])\n"
      ],
      "execution_count": 3,
      "outputs": [
        {
          "output_type": "stream",
          "text": [
            "WARNING:tensorflow:Large dropout rate: 0.75 (>0.5). In TensorFlow 2.x, dropout() uses dropout rate instead of keep_prob. Please ensure that this is intended.\n",
            "Train on 60000 samples, validate on 10000 samples\n",
            "Epoch 1/12\n",
            "60000/60000 [==============================] - 6s 92us/step - loss: 1.9629 - acc: 0.2586 - val_loss: 1.0974 - val_acc: 0.5476\n",
            "Epoch 2/12\n",
            "60000/60000 [==============================] - 5s 77us/step - loss: 0.8247 - acc: 0.7071 - val_loss: 0.3049 - val_acc: 0.9334\n",
            "Epoch 3/12\n",
            "60000/60000 [==============================] - 5s 75us/step - loss: 0.4365 - acc: 0.8773 - val_loss: 0.1613 - val_acc: 0.9644\n",
            "Epoch 4/12\n",
            "60000/60000 [==============================] - 5s 75us/step - loss: 0.3244 - acc: 0.9146 - val_loss: 0.1257 - val_acc: 0.9698\n",
            "Epoch 5/12\n",
            "60000/60000 [==============================] - 5s 76us/step - loss: 0.2699 - acc: 0.9323 - val_loss: 0.1060 - val_acc: 0.9759\n",
            "Epoch 6/12\n",
            "60000/60000 [==============================] - 4s 74us/step - loss: 0.2348 - acc: 0.9408 - val_loss: 0.1107 - val_acc: 0.9726\n",
            "Epoch 7/12\n",
            "60000/60000 [==============================] - 4s 74us/step - loss: 0.2188 - acc: 0.9465 - val_loss: 0.0783 - val_acc: 0.9825\n",
            "Epoch 8/12\n",
            "60000/60000 [==============================] - 5s 75us/step - loss: 0.1909 - acc: 0.9529 - val_loss: 0.0725 - val_acc: 0.9811\n",
            "Epoch 9/12\n",
            "60000/60000 [==============================] - 5s 77us/step - loss: 0.1835 - acc: 0.9555 - val_loss: 0.0634 - val_acc: 0.9877\n",
            "Epoch 10/12\n",
            "60000/60000 [==============================] - 5s 75us/step - loss: 0.1739 - acc: 0.9565 - val_loss: 0.0622 - val_acc: 0.9870\n",
            "Epoch 11/12\n",
            "60000/60000 [==============================] - 5s 76us/step - loss: 0.1600 - acc: 0.9603 - val_loss: 0.0796 - val_acc: 0.9847\n",
            "Epoch 12/12\n",
            "60000/60000 [==============================] - 5s 77us/step - loss: 0.1572 - acc: 0.9614 - val_loss: 0.0701 - val_acc: 0.9860\n",
            "Test loss: 0.07009304843556602\n",
            "Test accuracy: 0.986\n"
          ],
          "name": "stdout"
        }
      ]
    },
    {
      "cell_type": "code",
      "metadata": {
        "id": "yATARmyoZDR2",
        "colab_type": "code",
        "colab": {
          "base_uri": "https://localhost:8080/",
          "height": 313
        },
        "outputId": "4ba685fb-40b9-4f6c-fd2c-5b0084e82284"
      },
      "source": [
        "score = model.evaluate(x_test, y_test, verbose=0) \n",
        "print('Test score:', score[0]) \n",
        "print('Test accuracy:', score[1])\n",
        "\n",
        "fig,ax = plt.subplots(1,1)\n",
        "ax.set_xlabel('epoch') ; ax.set_ylabel('Categorical Crossentropy Loss')\n",
        "\n",
        "# list of epoch numbers\n",
        "x = list(range(1,12+1))\n",
        "# we will get val_loss and val_acc only when you pass the paramter validation_data\n",
        "# val_loss : validation loss\n",
        "# val_acc : validation accuracy\n",
        "\n",
        "# loss : training loss\n",
        "# acc : train accuracy\n",
        "# for each key in histrory.histrory we will have a list of length equal to number of epochs\n",
        "\n",
        "vy = history.history['val_loss']\n",
        "ty = history.history['loss']\n",
        "plt_dynamic(x, vy, ty, ax)"
      ],
      "execution_count": 8,
      "outputs": [
        {
          "output_type": "stream",
          "text": [
            "Test score: 0.07009304843556602\n",
            "Test accuracy: 0.986\n"
          ],
          "name": "stdout"
        },
        {
          "output_type": "display_data",
          "data": {
            "image/png": "[encoded data removed]",
            "text/plain": [
              "<Figure size 432x288 with 1 Axes>"
            ]
          },
          "metadata": {
            "tags": []
          }
        }
      ]
    },
    {
      "cell_type": "code",
      "metadata": {
        "id": "qp77Lu3uZ2Cj",
        "colab_type": "code",
        "colab": {
          "base_uri": "https://localhost:8080/",
          "height": 285
        },
        "outputId": "9c0da5ff-4834-4b25-c2b9-0e2dfe5ef478"
      },
      "source": [
        "w_after = model.get_weights()\n",
        "\n",
        "h1_w = w_after[0].flatten().reshape(-1,1)\n",
        "h2_w = w_after[2].flatten().reshape(-1,1)\n",
        "out_w = w_after[4].flatten().reshape(-1,1)\n",
        "\n",
        "\n",
        "fig = plt.figure()\n",
        "plt.title(\"Weight matrices after model trained\")\n",
        "plt.subplot(1, 3, 1)\n",
        "plt.title(\"Trained model Weights\")\n",
        "ax = sns.violinplot(y=h1_w,color='b')\n",
        "plt.xlabel('Hidden Layer 1')\n",
        "\n",
        "plt.subplot(1, 3, 2)\n",
        "plt.title(\"Trained model Weights\")\n",
        "ax = sns.violinplot(y=h2_w, color='r')\n",
        "plt.xlabel('Hidden Layer 2 ')\n",
        "\n",
        "plt.subplot(1, 3, 3)\n",
        "plt.title(\"Trained model Weights\")\n",
        "ax = sns.violinplot(y=out_w,color='y')\n",
        "plt.xlabel('Output Layer ')\n",
        "plt.show()"
      ],
      "execution_count": 11,
      "outputs": [
        {
          "output_type": "display_data",
          "data": {
            "image/png": "[encoded data removed]",
            "text/plain": [
              "<Figure size 432x288 with 3 Axes>"
            ]
          },
          "metadata": {
            "tags": []
          }
        }
      ]
    },
    {
      "cell_type": "markdown",
      "metadata": {
        "id": "iP0Ya_CAbHtC",
        "colab_type": "text"
      },
      "source": [
        "<h1> Model 2: 5 conv layers + filter size = 3x3 + relu activation + dropout + maxpool</h1>\n",
        "\n"
      ]
    },
    {
      "cell_type": "code",
      "metadata": {
        "id": "w32NCkcsbHaB",
        "colab_type": "code",
        "colab": {
          "base_uri": "https://localhost:8080/",
          "height": 629
        },
        "outputId": "cd0dcaa2-1509-43ca-d404-340e52ac4b3a"
      },
      "source": [
        "model = Sequential()\n",
        "\n",
        "model.add(Conv2D(40, kernel_size=(3, 3),activation='relu',input_shape=input_shape))\n",
        "model.add(MaxPooling2D(pool_size=(2, 2)))\n",
        "model.add(Dropout(0.25))\n",
        "\n",
        "model.add(Conv2D(40, (3, 3), activation='relu',padding='same'))\n",
        "model.add(MaxPooling2D(pool_size=(2, 2)))\n",
        "model.add(Dropout(0.25))\n",
        "\n",
        "model.add(Conv2D(50, (3, 3), activation='relu',padding='same'))\n",
        "model.add(MaxPooling2D(pool_size=(2, 2)))\n",
        "\n",
        "model.add(Conv2D(55, (3, 3), activation='relu',padding='same'))\n",
        "#model.add(MaxPooling2D(pool_size=(2, 2)))\n",
        "\n",
        "model.add(Conv2D(55, (3, 3), activation='relu',padding='same'))\n",
        "#model.add(MaxPooling2D(pool_size=(2, 2)))\n",
        "\n",
        "\n",
        "model.add(Flatten())\n",
        "model.add(Dense(128, activation='relu'))\n",
        "model.add(Dropout(0.5))\n",
        "model.add(Dense(num_classes, activation='softmax'))\n",
        "\n",
        "model.summary()"
      ],
      "execution_count": 17,
      "outputs": [
        {
          "output_type": "stream",
          "text": [
            "Model: \"sequential_8\"\n",
            "_________________________________________________________________\n",
            "Layer (type)                 Output Shape              Param #   \n",
            "=================================================================\n",
            "conv2d_37 (Conv2D)           (None, 26, 26, 40)        400       \n",
            "_________________________________________________________________\n",
            "max_pooling2d_27 (MaxPooling (None, 13, 13, 40)        0         \n",
            "_________________________________________________________________\n",
            "dropout_21 (Dropout)         (None, 13, 13, 40)        0         \n",
            "_________________________________________________________________\n",
            "conv2d_38 (Conv2D)           (None, 13, 13, 40)        14440     \n",
            "_________________________________________________________________\n",
            "max_pooling2d_28 (MaxPooling (None, 6, 6, 40)          0         \n",
            "_________________________________________________________________\n",
            "dropout_22 (Dropout)         (None, 6, 6, 40)          0         \n",
            "_________________________________________________________________\n",
            "conv2d_39 (Conv2D)           (None, 6, 6, 50)          18050     \n",
            "_________________________________________________________________\n",
            "max_pooling2d_29 (MaxPooling (None, 3, 3, 50)          0         \n",
            "_________________________________________________________________\n",
            "conv2d_40 (Conv2D)           (None, 3, 3, 55)          24805     \n",
            "_________________________________________________________________\n",
            "conv2d_41 (Conv2D)           (None, 3, 3, 55)          27280     \n",
            "_________________________________________________________________\n",
            "flatten_6 (Flatten)          (None, 495)               0         \n",
            "_________________________________________________________________\n",
            "dense_11 (Dense)             (None, 128)               63488     \n",
            "_________________________________________________________________\n",
            "dropout_23 (Dropout)         (None, 128)               0         \n",
            "_________________________________________________________________\n",
            "dense_12 (Dense)             (None, 10)                1290      \n",
            "=================================================================\n",
            "Total params: 149,753\n",
            "Trainable params: 149,753\n",
            "Non-trainable params: 0\n",
            "_________________________________________________________________\n"
          ],
          "name": "stdout"
        }
      ]
    },
    {
      "cell_type": "code",
      "metadata": {
        "id": "AlqoESXfcrWy",
        "colab_type": "code",
        "colab": {
          "base_uri": "https://localhost:8080/",
          "height": 476
        },
        "outputId": "c2599fd7-be86-4b28-d9b5-c23415887974"
      },
      "source": [
        "model.compile(loss=keras.losses.categorical_crossentropy,\n",
        "              optimizer=keras.optimizers.Adadelta(),\n",
        "              metrics=['accuracy'])\n",
        "\n",
        "history = model.fit(x_train, y_train,\n",
        "          batch_size=batch_size,\n",
        "          epochs=epochs,\n",
        "          verbose=1,\n",
        "          validation_data=(x_test, y_test))\n",
        "score = model.evaluate(x_test, y_test, verbose=0)\n",
        "print('Test loss:', score[0])\n",
        "print('Test accuracy:', score[1])"
      ],
      "execution_count": 18,
      "outputs": [
        {
          "output_type": "stream",
          "text": [
            "Train on 60000 samples, validate on 10000 samples\n",
            "Epoch 1/12\n",
            "60000/60000 [==============================] - 6s 104us/step - loss: 0.4544 - acc: 0.8515 - val_loss: 0.0679 - val_acc: 0.9779\n",
            "Epoch 2/12\n",
            "60000/60000 [==============================] - 5s 83us/step - loss: 0.1046 - acc: 0.9702 - val_loss: 0.0475 - val_acc: 0.9848\n",
            "Epoch 3/12\n",
            "60000/60000 [==============================] - 5s 83us/step - loss: 0.0747 - acc: 0.9786 - val_loss: 0.0424 - val_acc: 0.9861\n",
            "Epoch 4/12\n",
            "60000/60000 [==============================] - 5s 85us/step - loss: 0.0580 - acc: 0.9834 - val_loss: 0.0546 - val_acc: 0.9837\n",
            "Epoch 5/12\n",
            "60000/60000 [==============================] - 5s 83us/step - loss: 0.0510 - acc: 0.9854 - val_loss: 0.0302 - val_acc: 0.9907\n",
            "Epoch 6/12\n",
            "60000/60000 [==============================] - 5s 83us/step - loss: 0.0437 - acc: 0.9872 - val_loss: 0.0314 - val_acc: 0.9908\n",
            "Epoch 7/12\n",
            "60000/60000 [==============================] - 5s 83us/step - loss: 0.0374 - acc: 0.9893 - val_loss: 0.0273 - val_acc: 0.9927\n",
            "Epoch 8/12\n",
            "60000/60000 [==============================] - 5s 86us/step - loss: 0.0343 - acc: 0.9902 - val_loss: 0.0268 - val_acc: 0.9915\n",
            "Epoch 9/12\n",
            "60000/60000 [==============================] - 5s 82us/step - loss: 0.0311 - acc: 0.9907 - val_loss: 0.0269 - val_acc: 0.9916\n",
            "Epoch 10/12\n",
            "60000/60000 [==============================] - 5s 85us/step - loss: 0.0293 - acc: 0.9917 - val_loss: 0.0268 - val_acc: 0.9922\n",
            "Epoch 11/12\n",
            "60000/60000 [==============================] - 5s 82us/step - loss: 0.0269 - acc: 0.9919 - val_loss: 0.0299 - val_acc: 0.9910\n",
            "Epoch 12/12\n",
            "60000/60000 [==============================] - 5s 83us/step - loss: 0.0255 - acc: 0.9928 - val_loss: 0.0249 - val_acc: 0.9927\n",
            "Test loss: 0.024910171242001615\n",
            "Test accuracy: 0.9927\n"
          ],
          "name": "stdout"
        }
      ]
    },
    {
      "cell_type": "code",
      "metadata": {
        "id": "lZYJp1M8cxRL",
        "colab_type": "code",
        "colab": {
          "base_uri": "https://localhost:8080/",
          "height": 313
        },
        "outputId": "16074777-ce3c-45ea-88ae-883a0f95b199"
      },
      "source": [
        "score = model.evaluate(x_test, y_test, verbose=0) \n",
        "print('Test score:', score[0]) \n",
        "print('Test accuracy:', score[1])\n",
        "\n",
        "fig,ax = plt.subplots(1,1)\n",
        "ax.set_xlabel('epoch') ; ax.set_ylabel('Categorical Crossentropy Loss')\n",
        "\n",
        "# list of epoch numbers\n",
        "x = list(range(1,12+1))\n",
        "# we will get val_loss and val_acc only when you pass the paramter validation_data\n",
        "# val_loss : validation loss\n",
        "# val_acc : validation accuracy\n",
        "\n",
        "# loss : training loss\n",
        "# acc : train accuracy\n",
        "# for each key in histrory.histrory we will have a list of length equal to number of epochs\n",
        "\n",
        "vy = history.history['val_loss']\n",
        "ty = history.history['loss']\n",
        "plt_dynamic(x, vy, ty, ax)"
      ],
      "execution_count": 19,
      "outputs": [
        {
          "output_type": "stream",
          "text": [
            "Test score: 0.024910171242001615\n",
            "Test accuracy: 0.9927\n"
          ],
          "name": "stdout"
        },
        {
          "output_type": "display_data",
          "data": {
            "image/png": "[encoded data removed]",
            "text/plain": [
              "<Figure size 432x288 with 1 Axes>"
            ]
          },
          "metadata": {
            "tags": []
          }
        }
      ]
    },
    {
      "cell_type": "code",
      "metadata": {
        "id": "HaujDgSfc0T2",
        "colab_type": "code",
        "colab": {
          "base_uri": "https://localhost:8080/",
          "height": 285
        },
        "outputId": "4981716d-28cf-40da-9bca-e147466a4c65"
      },
      "source": [
        "w_after = model.get_weights()\n",
        "\n",
        "h1_w = w_after[0].flatten().reshape(-1,1)\n",
        "h2_w = w_after[2].flatten().reshape(-1,1)\n",
        "out_w = w_after[4].flatten().reshape(-1,1)\n",
        "\n",
        "\n",
        "fig = plt.figure()\n",
        "plt.title(\"Weight matrices after model trained\")\n",
        "plt.subplot(1, 3, 1)\n",
        "plt.title(\"Trained model Weights\")\n",
        "ax = sns.violinplot(y=h1_w,color='b')\n",
        "plt.xlabel('Hidden Layer 1')\n",
        "\n",
        "plt.subplot(1, 3, 2)\n",
        "plt.title(\"Trained model Weights\")\n",
        "ax = sns.violinplot(y=h2_w, color='r')\n",
        "plt.xlabel('Hidden Layer 2 ')\n",
        "\n",
        "plt.subplot(1, 3, 3)\n",
        "plt.title(\"Trained model Weights\")\n",
        "ax = sns.violinplot(y=out_w,color='y')\n",
        "plt.xlabel('Output Layer ')\n",
        "plt.show()"
      ],
      "execution_count": 20,
      "outputs": [
        {
          "output_type": "display_data",
          "data": {
            "image/png": "[encoded data removed]",
            "text/plain": [
              "<Figure size 432x288 with 3 Axes>"
            ]
          },
          "metadata": {
            "tags": []
          }
        }
      ]
    },
    {
      "cell_type": "markdown",
      "metadata": {
        "id": "GYsHh35Nc1rx",
        "colab_type": "text"
      },
      "source": [
        "<h1>Model 3: 3 Convolution Layers + filter size = 5x5 + dropout + maxpool</h1>\n"
      ]
    },
    {
      "cell_type": "code",
      "metadata": {
        "id": "Vk9NAl--d4eF",
        "colab_type": "code",
        "colab": {
          "base_uri": "https://localhost:8080/",
          "height": 459
        },
        "outputId": "9df8930c-37f7-437c-a0b3-11e8c5e866ad"
      },
      "source": [
        "model = Sequential()\n",
        "\n",
        "model.add(Conv2D(40, kernel_size=(5, 5),activation='relu',input_shape=input_shape))\n",
        "model.add(MaxPooling2D(pool_size=(2, 2)))\n",
        "model.add(Dropout(0.25))\n",
        "\n",
        "model.add(Conv2D(50, (5, 5), activation='relu',padding='same'))\n",
        "\n",
        "\n",
        "model.add(Conv2D(55, (5, 5), activation='relu',padding='same'))\n",
        "\n",
        "model.add(Flatten())\n",
        "model.add(Dense(128, activation='relu'))\n",
        "model.add(Dropout(0.5))\n",
        "model.add(Dense(num_classes, activation='softmax'))\n",
        "\n",
        "model.summary()"
      ],
      "execution_count": 21,
      "outputs": [
        {
          "output_type": "stream",
          "text": [
            "Model: \"sequential_9\"\n",
            "_________________________________________________________________\n",
            "Layer (type)                 Output Shape              Param #   \n",
            "=================================================================\n",
            "conv2d_42 (Conv2D)           (None, 24, 24, 40)        1040      \n",
            "_________________________________________________________________\n",
            "max_pooling2d_30 (MaxPooling (None, 12, 12, 40)        0         \n",
            "_________________________________________________________________\n",
            "dropout_24 (Dropout)         (None, 12, 12, 40)        0         \n",
            "_________________________________________________________________\n",
            "conv2d_43 (Conv2D)           (None, 12, 12, 50)        50050     \n",
            "_________________________________________________________________\n",
            "conv2d_44 (Conv2D)           (None, 12, 12, 55)        68805     \n",
            "_________________________________________________________________\n",
            "flatten_7 (Flatten)          (None, 7920)              0         \n",
            "_________________________________________________________________\n",
            "dense_13 (Dense)             (None, 128)               1013888   \n",
            "_________________________________________________________________\n",
            "dropout_25 (Dropout)         (None, 128)               0         \n",
            "_________________________________________________________________\n",
            "dense_14 (Dense)             (None, 10)                1290      \n",
            "=================================================================\n",
            "Total params: 1,135,073\n",
            "Trainable params: 1,135,073\n",
            "Non-trainable params: 0\n",
            "_________________________________________________________________\n"
          ],
          "name": "stdout"
        }
      ]
    },
    {
      "cell_type": "code",
      "metadata": {
        "id": "JJduuLMFedFR",
        "colab_type": "code",
        "colab": {
          "base_uri": "https://localhost:8080/",
          "height": 476
        },
        "outputId": "02049247-f505-411f-91ad-b7a9680b9d39"
      },
      "source": [
        "model.compile(loss=keras.losses.categorical_crossentropy,\n",
        "              optimizer=keras.optimizers.Adadelta(),\n",
        "              metrics=['accuracy'])\n",
        "\n",
        "history = model.fit(x_train, y_train,\n",
        "          batch_size=batch_size,\n",
        "          epochs=epochs,\n",
        "          verbose=1,\n",
        "          validation_data=(x_test, y_test))\n",
        "score = model.evaluate(x_test, y_test, verbose=0)\n",
        "print('Test loss:', score[0])\n",
        "print('Test accuracy:', score[1])"
      ],
      "execution_count": 22,
      "outputs": [
        {
          "output_type": "stream",
          "text": [
            "Train on 60000 samples, validate on 10000 samples\n",
            "Epoch 1/12\n",
            "60000/60000 [==============================] - 7s 118us/step - loss: 0.2478 - acc: 0.9226 - val_loss: 0.0481 - val_acc: 0.9846\n",
            "Epoch 2/12\n",
            "60000/60000 [==============================] - 6s 99us/step - loss: 0.0675 - acc: 0.9807 - val_loss: 0.0274 - val_acc: 0.9907\n",
            "Epoch 3/12\n",
            "60000/60000 [==============================] - 6s 101us/step - loss: 0.0445 - acc: 0.9870 - val_loss: 0.0267 - val_acc: 0.9907\n",
            "Epoch 4/12\n",
            "60000/60000 [==============================] - 6s 99us/step - loss: 0.0356 - acc: 0.9894 - val_loss: 0.0222 - val_acc: 0.9928\n",
            "Epoch 5/12\n",
            "60000/60000 [==============================] - 6s 100us/step - loss: 0.0286 - acc: 0.9914 - val_loss: 0.0230 - val_acc: 0.9925\n",
            "Epoch 6/12\n",
            "60000/60000 [==============================] - 6s 101us/step - loss: 0.0228 - acc: 0.9932 - val_loss: 0.0219 - val_acc: 0.9936\n",
            "Epoch 7/12\n",
            "60000/60000 [==============================] - 6s 99us/step - loss: 0.0205 - acc: 0.9939 - val_loss: 0.0286 - val_acc: 0.9912\n",
            "Epoch 8/12\n",
            "60000/60000 [==============================] - 6s 105us/step - loss: 0.0178 - acc: 0.9946 - val_loss: 0.0212 - val_acc: 0.9933\n",
            "Epoch 9/12\n",
            "60000/60000 [==============================] - 6s 103us/step - loss: 0.0159 - acc: 0.9953 - val_loss: 0.0238 - val_acc: 0.9933\n",
            "Epoch 10/12\n",
            "60000/60000 [==============================] - 6s 101us/step - loss: 0.0137 - acc: 0.9958 - val_loss: 0.0198 - val_acc: 0.9941\n",
            "Epoch 11/12\n",
            "60000/60000 [==============================] - 6s 99us/step - loss: 0.0125 - acc: 0.9963 - val_loss: 0.0242 - val_acc: 0.9938\n",
            "Epoch 12/12\n",
            "60000/60000 [==============================] - 6s 99us/step - loss: 0.0117 - acc: 0.9966 - val_loss: 0.0226 - val_acc: 0.9934\n",
            "Test loss: 0.022570345474630403\n",
            "Test accuracy: 0.9934\n"
          ],
          "name": "stdout"
        }
      ]
    },
    {
      "cell_type": "code",
      "metadata": {
        "id": "cxoCjkQMejpa",
        "colab_type": "code",
        "colab": {
          "base_uri": "https://localhost:8080/",
          "height": 313
        },
        "outputId": "540aa70a-29e4-4a91-facc-00725456e159"
      },
      "source": [
        "score = model.evaluate(x_test, y_test, verbose=0) \n",
        "print('Test score:', score[0]) \n",
        "print('Test accuracy:', score[1])\n",
        "\n",
        "fig,ax = plt.subplots(1,1)\n",
        "ax.set_xlabel('epoch') ; ax.set_ylabel('Categorical Crossentropy Loss')\n",
        "\n",
        "# list of epoch numbers\n",
        "x = list(range(1,12+1))\n",
        "# we will get val_loss and val_acc only when you pass the paramter validation_data\n",
        "# val_loss : validation loss\n",
        "# val_acc : validation accuracy\n",
        "\n",
        "# loss : training loss\n",
        "# acc : train accuracy\n",
        "# for each key in histrory.histrory we will have a list of length equal to number of epochs\n",
        "\n",
        "vy = history.history['val_loss']\n",
        "ty = history.history['loss']\n",
        "plt_dynamic(x, vy, ty, ax)"
      ],
      "execution_count": 23,
      "outputs": [
        {
          "output_type": "stream",
          "text": [
            "Test score: 0.022570345474630403\n",
            "Test accuracy: 0.9934\n"
          ],
          "name": "stdout"
        },
        {
          "output_type": "display_data",
          "data": {
            "image/png": "[encoded data removed]",
            "text/plain": [
              "<Figure size 432x288 with 1 Axes>"
            ]
          },
          "metadata": {
            "tags": []
          }
        }
      ]
    },
    {
      "cell_type": "code",
      "metadata": {
        "id": "mtQrKSyAen-m",
        "colab_type": "code",
        "colab": {
          "base_uri": "https://localhost:8080/",
          "height": 285
        },
        "outputId": "f7e78d9c-d246-4b15-e319-141d143ffd7e"
      },
      "source": [
        "w_after = model.get_weights()\n",
        "\n",
        "h1_w = w_after[0].flatten().reshape(-1,1)\n",
        "h2_w = w_after[2].flatten().reshape(-1,1)\n",
        "out_w = w_after[4].flatten().reshape(-1,1)\n",
        "\n",
        "\n",
        "fig = plt.figure()\n",
        "plt.title(\"Weight matrices after model trained\")\n",
        "plt.subplot(1, 3, 1)\n",
        "plt.title(\"Trained model Weights\")\n",
        "ax = sns.violinplot(y=h1_w,color='b')\n",
        "plt.xlabel('Hidden Layer 1')\n",
        "\n",
        "plt.subplot(1, 3, 2)\n",
        "plt.title(\"Trained model Weights\")\n",
        "ax = sns.violinplot(y=h2_w, color='r')\n",
        "plt.xlabel('Hidden Layer 2 ')\n",
        "\n",
        "plt.subplot(1, 3, 3)\n",
        "plt.title(\"Trained model Weights\")\n",
        "ax = sns.violinplot(y=out_w,color='y')\n",
        "plt.xlabel('Output Layer ')\n",
        "plt.show()"
      ],
      "execution_count": 24,
      "outputs": [
        {
          "output_type": "display_data",
          "data": {
            "image/png": "[encoded data removed]",
            "text/plain": [
              "<Figure size 432x288 with 3 Axes>"
            ]
          },
          "metadata": {
            "tags": []
          }
        }
      ]
    },
    {
      "cell_type": "markdown",
      "metadata": {
        "id": "FSps5pJRetCw",
        "colab_type": "text"
      },
      "source": [
        "# Conclusion"
      ]
    },
    {
      "cell_type": "code",
      "metadata": {
        "id": "bCy3SuUSeo3S",
        "colab_type": "code",
        "colab": {
          "base_uri": "https://localhost:8080/",
          "height": 136
        },
        "outputId": "8f80fd6d-8c1a-4d25-d75f-6d04a0835116"
      },
      "source": [
        "from prettytable import PrettyTable\n",
        "x = PrettyTable()\n",
        "x.field_names = [\"Model\",\"Conv Layers\",\"Filter Size\", \"Max Pool\", \"Test Accuracy\"]\n",
        "x.add_row([\"1\",\"7\", \"(3X3)\" ,\"(2x2)\", \"98.60\"])\n",
        "x.add_row([\"2\",\"5\", \"(3x3)\" ,\"(2x2)\", \"99.27\"])\n",
        "x.add_row([\"3\",\"3\", \"(5x5)\" ,\"(2x2)\", \"99.34\"])\n",
        "print(x)"
      ],
      "execution_count": 26,
      "outputs": [
        {
          "output_type": "stream",
          "text": [
            "+-------+-------------+-------------+----------+---------------+\n",
            "| Model | Conv Layers | Filter Size | Max Pool | Test Accuracy |\n",
            "+-------+-------------+-------------+----------+---------------+\n",
            "|   1   |      7      |    (3X3)    |  (2x2)   |     98.60     |\n",
            "|   2   |      5      |    (3x3)    |  (2x2)   |     99.27     |\n",
            "|   3   |      3      |    (5x5)    |  (2x2)   |     99.34     |\n",
            "+-------+-------------+-------------+----------+---------------+\n"
          ],
          "name": "stdout"
        }
      ]
    }
  ]
}