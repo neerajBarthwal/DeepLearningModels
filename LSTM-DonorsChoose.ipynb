{
  "nbformat": 4,
  "nbformat_minor": 0,
  "metadata": {
    "kernelspec": {
      "name": "python3",
      "display_name": "Python 3"
    },
    "language_info": {
      "codemirror_mode": {
        "name": "ipython",
        "version": 3
      },
      "file_extension": ".py",
      "mimetype": "text/x-python",
      "name": "python",
      "nbconvert_exporter": "python",
      "pygments_lexer": "ipython3",
      "version": "3.7.4"
    },
    "colab": {
      "name": "LSTMAssignment.ipynb",
      "provenance": [],
      "collapsed_sections": [
        "nJKV6-nLfkV-"
      ]
    },
    "accelerator": "GPU",
    "widgets": {
      "application/vnd.jupyter.widget-state+json": {
        "25a34bb263664682b7b0c73c352d1480": {
          "model_module": "@jupyter-widgets/controls",
          "model_name": "HBoxModel",
          "state": {
            "_view_name": "HBoxView",
            "_dom_classes": [],
            "_model_name": "HBoxModel",
            "_view_module": "@jupyter-widgets/controls",
            "_model_module_version": "1.5.0",
            "_view_count": null,
            "_view_module_version": "1.5.0",
            "box_style": "",
            "layout": "IPY_MODEL_3abd14c5203a499eb861ebe692c9aac1",
            "_model_module": "@jupyter-widgets/controls",
            "children": [
              "IPY_MODEL_5cfaf20d545a4b1dba2d21035dc91adb",
              "IPY_MODEL_483785ea6afc463bb8d85e06c5148182"
            ]
          }
        },
        "3abd14c5203a499eb861ebe692c9aac1": {
          "model_module": "@jupyter-widgets/base",
          "model_name": "LayoutModel",
          "state": {
            "_view_name": "LayoutView",
            "grid_template_rows": null,
            "right": null,
            "justify_content": null,
            "_view_module": "@jupyter-widgets/base",
            "overflow": null,
            "_model_module_version": "1.2.0",
            "_view_count": null,
            "flex_flow": null,
            "width": null,
            "min_width": null,
            "border": null,
            "align_items": null,
            "bottom": null,
            "_model_module": "@jupyter-widgets/base",
            "top": null,
            "grid_column": null,
            "overflow_y": null,
            "overflow_x": null,
            "grid_auto_flow": null,
            "grid_area": null,
            "grid_template_columns": null,
            "flex": null,
            "_model_name": "LayoutModel",
            "justify_items": null,
            "grid_row": null,
            "max_height": null,
            "align_content": null,
            "visibility": null,
            "align_self": null,
            "height": null,
            "min_height": null,
            "padding": null,
            "grid_auto_rows": null,
            "grid_gap": null,
            "max_width": null,
            "order": null,
            "_view_module_version": "1.2.0",
            "grid_template_areas": null,
            "object_position": null,
            "object_fit": null,
            "grid_auto_columns": null,
            "margin": null,
            "display": null,
            "left": null
          }
        },
        "5cfaf20d545a4b1dba2d21035dc91adb": {
          "model_module": "@jupyter-widgets/controls",
          "model_name": "IntProgressModel",
          "state": {
            "_view_name": "ProgressView",
            "style": "IPY_MODEL_e98af9c6536b461caac3c2b380fbf251",
            "_dom_classes": [],
            "description": "",
            "_model_name": "IntProgressModel",
            "bar_style": "success",
            "max": 69918,
            "_view_module": "@jupyter-widgets/controls",
            "_model_module_version": "1.5.0",
            "value": 69918,
            "_view_count": null,
            "_view_module_version": "1.5.0",
            "orientation": "horizontal",
            "min": 0,
            "description_tooltip": null,
            "_model_module": "@jupyter-widgets/controls",
            "layout": "IPY_MODEL_9a31a724dbfe48c484694148b0891a20"
          }
        },
        "483785ea6afc463bb8d85e06c5148182": {
          "model_module": "@jupyter-widgets/controls",
          "model_name": "HTMLModel",
          "state": {
            "_view_name": "HTMLView",
            "style": "IPY_MODEL_865a543bf19d4c2aadad9539288149e4",
            "_dom_classes": [],
            "description": "",
            "_model_name": "HTMLModel",
            "placeholder": "​",
            "_view_module": "@jupyter-widgets/controls",
            "_model_module_version": "1.5.0",
            "value": "100% 69918/69918 [20:04&lt;00:00, 58.04it/s]",
            "_view_count": null,
            "_view_module_version": "1.5.0",
            "description_tooltip": null,
            "_model_module": "@jupyter-widgets/controls",
            "layout": "IPY_MODEL_bbc3fd4764e844688abcaf1ec9231a9f"
          }
        },
        "e98af9c6536b461caac3c2b380fbf251": {
          "model_module": "@jupyter-widgets/controls",
          "model_name": "ProgressStyleModel",
          "state": {
            "_view_name": "StyleView",
            "_model_name": "ProgressStyleModel",
            "description_width": "",
            "_view_module": "@jupyter-widgets/base",
            "_model_module_version": "1.5.0",
            "_view_count": null,
            "_view_module_version": "1.2.0",
            "bar_color": null,
            "_model_module": "@jupyter-widgets/controls"
          }
        },
        "9a31a724dbfe48c484694148b0891a20": {
          "model_module": "@jupyter-widgets/base",
          "model_name": "LayoutModel",
          "state": {
            "_view_name": "LayoutView",
            "grid_template_rows": null,
            "right": null,
            "justify_content": null,
            "_view_module": "@jupyter-widgets/base",
            "overflow": null,
            "_model_module_version": "1.2.0",
            "_view_count": null,
            "flex_flow": null,
            "width": null,
            "min_width": null,
            "border": null,
            "align_items": null,
            "bottom": null,
            "_model_module": "@jupyter-widgets/base",
            "top": null,
            "grid_column": null,
            "overflow_y": null,
            "overflow_x": null,
            "grid_auto_flow": null,
            "grid_area": null,
            "grid_template_columns": null,
            "flex": null,
            "_model_name": "LayoutModel",
            "justify_items": null,
            "grid_row": null,
            "max_height": null,
            "align_content": null,
            "visibility": null,
            "align_self": null,
            "height": null,
            "min_height": null,
            "padding": null,
            "grid_auto_rows": null,
            "grid_gap": null,
            "max_width": null,
            "order": null,
            "_view_module_version": "1.2.0",
            "grid_template_areas": null,
            "object_position": null,
            "object_fit": null,
            "grid_auto_columns": null,
            "margin": null,
            "display": null,
            "left": null
          }
        },
        "865a543bf19d4c2aadad9539288149e4": {
          "model_module": "@jupyter-widgets/controls",
          "model_name": "DescriptionStyleModel",
          "state": {
            "_view_name": "StyleView",
            "_model_name": "DescriptionStyleModel",
            "description_width": "",
            "_view_module": "@jupyter-widgets/base",
            "_model_module_version": "1.5.0",
            "_view_count": null,
            "_view_module_version": "1.2.0",
            "_model_module": "@jupyter-widgets/controls"
          }
        },
        "bbc3fd4764e844688abcaf1ec9231a9f": {
          "model_module": "@jupyter-widgets/base",
          "model_name": "LayoutModel",
          "state": {
            "_view_name": "LayoutView",
            "grid_template_rows": null,
            "right": null,
            "justify_content": null,
            "_view_module": "@jupyter-widgets/base",
            "overflow": null,
            "_model_module_version": "1.2.0",
            "_view_count": null,
            "flex_flow": null,
            "width": null,
            "min_width": null,
            "border": null,
            "align_items": null,
            "bottom": null,
            "_model_module": "@jupyter-widgets/base",
            "top": null,
            "grid_column": null,
            "overflow_y": null,
            "overflow_x": null,
            "grid_auto_flow": null,
            "grid_area": null,
            "grid_template_columns": null,
            "flex": null,
            "_model_name": "LayoutModel",
            "justify_items": null,
            "grid_row": null,
            "max_height": null,
            "align_content": null,
            "visibility": null,
            "align_self": null,
            "height": null,
            "min_height": null,
            "padding": null,
            "grid_auto_rows": null,
            "grid_gap": null,
            "max_width": null,
            "order": null,
            "_view_module_version": "1.2.0",
            "grid_template_areas": null,
            "object_position": null,
            "object_fit": null,
            "grid_auto_columns": null,
            "margin": null,
            "display": null,
            "left": null
          }
        },
        "a92b7b1fa2434b6fb01794c0c9527bfc": {
          "model_module": "@jupyter-widgets/controls",
          "model_name": "HBoxModel",
          "state": {
            "_view_name": "HBoxView",
            "_dom_classes": [],
            "_model_name": "HBoxModel",
            "_view_module": "@jupyter-widgets/controls",
            "_model_module_version": "1.5.0",
            "_view_count": null,
            "_view_module_version": "1.5.0",
            "box_style": "",
            "layout": "IPY_MODEL_6c6822f202df41c39712b3adfb23e1bf",
            "_model_module": "@jupyter-widgets/controls",
            "children": [
              "IPY_MODEL_7376b90cf6b24b6183807cea29a0d072",
              "IPY_MODEL_09b42ff53c4b4fa69d184d7ee3e2ae3a"
            ]
          }
        },
        "6c6822f202df41c39712b3adfb23e1bf": {
          "model_module": "@jupyter-widgets/base",
          "model_name": "LayoutModel",
          "state": {
            "_view_name": "LayoutView",
            "grid_template_rows": null,
            "right": null,
            "justify_content": null,
            "_view_module": "@jupyter-widgets/base",
            "overflow": null,
            "_model_module_version": "1.2.0",
            "_view_count": null,
            "flex_flow": null,
            "width": null,
            "min_width": null,
            "border": null,
            "align_items": null,
            "bottom": null,
            "_model_module": "@jupyter-widgets/base",
            "top": null,
            "grid_column": null,
            "overflow_y": null,
            "overflow_x": null,
            "grid_auto_flow": null,
            "grid_area": null,
            "grid_template_columns": null,
            "flex": null,
            "_model_name": "LayoutModel",
            "justify_items": null,
            "grid_row": null,
            "max_height": null,
            "align_content": null,
            "visibility": null,
            "align_self": null,
            "height": null,
            "min_height": null,
            "padding": null,
            "grid_auto_rows": null,
            "grid_gap": null,
            "max_width": null,
            "order": null,
            "_view_module_version": "1.2.0",
            "grid_template_areas": null,
            "object_position": null,
            "object_fit": null,
            "grid_auto_columns": null,
            "margin": null,
            "display": null,
            "left": null
          }
        },
        "7376b90cf6b24b6183807cea29a0d072": {
          "model_module": "@jupyter-widgets/controls",
          "model_name": "IntProgressModel",
          "state": {
            "_view_name": "ProgressView",
            "style": "IPY_MODEL_f4f97060190f4ad682c81ff0087fb4eb",
            "_dom_classes": [],
            "description": "",
            "_model_name": "IntProgressModel",
            "bar_style": "success",
            "max": 17480,
            "_view_module": "@jupyter-widgets/controls",
            "_model_module_version": "1.5.0",
            "value": 17480,
            "_view_count": null,
            "_view_module_version": "1.5.0",
            "orientation": "horizontal",
            "min": 0,
            "description_tooltip": null,
            "_model_module": "@jupyter-widgets/controls",
            "layout": "IPY_MODEL_d3d71012207548bda4390d7f7796b783"
          }
        },
        "09b42ff53c4b4fa69d184d7ee3e2ae3a": {
          "model_module": "@jupyter-widgets/controls",
          "model_name": "HTMLModel",
          "state": {
            "_view_name": "HTMLView",
            "style": "IPY_MODEL_f526b26962b6430c892efbc0700fbe4e",
            "_dom_classes": [],
            "description": "",
            "_model_name": "HTMLModel",
            "placeholder": "​",
            "_view_module": "@jupyter-widgets/controls",
            "_model_module_version": "1.5.0",
            "value": "100% 17480/17480 [04:56&lt;00:00, 59.05it/s]",
            "_view_count": null,
            "_view_module_version": "1.5.0",
            "description_tooltip": null,
            "_model_module": "@jupyter-widgets/controls",
            "layout": "IPY_MODEL_4705468d531b484186d4ac21cb2f6c2d"
          }
        },
        "f4f97060190f4ad682c81ff0087fb4eb": {
          "model_module": "@jupyter-widgets/controls",
          "model_name": "ProgressStyleModel",
          "state": {
            "_view_name": "StyleView",
            "_model_name": "ProgressStyleModel",
            "description_width": "",
            "_view_module": "@jupyter-widgets/base",
            "_model_module_version": "1.5.0",
            "_view_count": null,
            "_view_module_version": "1.2.0",
            "bar_color": null,
            "_model_module": "@jupyter-widgets/controls"
          }
        },
        "d3d71012207548bda4390d7f7796b783": {
          "model_module": "@jupyter-widgets/base",
          "model_name": "LayoutModel",
          "state": {
            "_view_name": "LayoutView",
            "grid_template_rows": null,
            "right": null,
            "justify_content": null,
            "_view_module": "@jupyter-widgets/base",
            "overflow": null,
            "_model_module_version": "1.2.0",
            "_view_count": null,
            "flex_flow": null,
            "width": null,
            "min_width": null,
            "border": null,
            "align_items": null,
            "bottom": null,
            "_model_module": "@jupyter-widgets/base",
            "top": null,
            "grid_column": null,
            "overflow_y": null,
            "overflow_x": null,
            "grid_auto_flow": null,
            "grid_area": null,
            "grid_template_columns": null,
            "flex": null,
            "_model_name": "LayoutModel",
            "justify_items": null,
            "grid_row": null,
            "max_height": null,
            "align_content": null,
            "visibility": null,
            "align_self": null,
            "height": null,
            "min_height": null,
            "padding": null,
            "grid_auto_rows": null,
            "grid_gap": null,
            "max_width": null,
            "order": null,
            "_view_module_version": "1.2.0",
            "grid_template_areas": null,
            "object_position": null,
            "object_fit": null,
            "grid_auto_columns": null,
            "margin": null,
            "display": null,
            "left": null
          }
        },
        "f526b26962b6430c892efbc0700fbe4e": {
          "model_module": "@jupyter-widgets/controls",
          "model_name": "DescriptionStyleModel",
          "state": {
            "_view_name": "StyleView",
            "_model_name": "DescriptionStyleModel",
            "description_width": "",
            "_view_module": "@jupyter-widgets/base",
            "_model_module_version": "1.5.0",
            "_view_count": null,
            "_view_module_version": "1.2.0",
            "_model_module": "@jupyter-widgets/controls"
          }
        },
        "4705468d531b484186d4ac21cb2f6c2d": {
          "model_module": "@jupyter-widgets/base",
          "model_name": "LayoutModel",
          "state": {
            "_view_name": "LayoutView",
            "grid_template_rows": null,
            "right": null,
            "justify_content": null,
            "_view_module": "@jupyter-widgets/base",
            "overflow": null,
            "_model_module_version": "1.2.0",
            "_view_count": null,
            "flex_flow": null,
            "width": null,
            "min_width": null,
            "border": null,
            "align_items": null,
            "bottom": null,
            "_model_module": "@jupyter-widgets/base",
            "top": null,
            "grid_column": null,
            "overflow_y": null,
            "overflow_x": null,
            "grid_auto_flow": null,
            "grid_area": null,
            "grid_template_columns": null,
            "flex": null,
            "_model_name": "LayoutModel",
            "justify_items": null,
            "grid_row": null,
            "max_height": null,
            "align_content": null,
            "visibility": null,
            "align_self": null,
            "height": null,
            "min_height": null,
            "padding": null,
            "grid_auto_rows": null,
            "grid_gap": null,
            "max_width": null,
            "order": null,
            "_view_module_version": "1.2.0",
            "grid_template_areas": null,
            "object_position": null,
            "object_fit": null,
            "grid_auto_columns": null,
            "margin": null,
            "display": null,
            "left": null
          }
        },
        "35005dc514b1457498575ae1ac776344": {
          "model_module": "@jupyter-widgets/controls",
          "model_name": "HBoxModel",
          "state": {
            "_view_name": "HBoxView",
            "_dom_classes": [],
            "_model_name": "HBoxModel",
            "_view_module": "@jupyter-widgets/controls",
            "_model_module_version": "1.5.0",
            "_view_count": null,
            "_view_module_version": "1.5.0",
            "box_style": "",
            "layout": "IPY_MODEL_9051da359c3449d2beaa9c07ab37d24b",
            "_model_module": "@jupyter-widgets/controls",
            "children": [
              "IPY_MODEL_29b846c63dec46378f32b9621dc57ed6",
              "IPY_MODEL_b3ce48b7378b44ea977616e1af4eb07e"
            ]
          }
        },
        "9051da359c3449d2beaa9c07ab37d24b": {
          "model_module": "@jupyter-widgets/base",
          "model_name": "LayoutModel",
          "state": {
            "_view_name": "LayoutView",
            "grid_template_rows": null,
            "right": null,
            "justify_content": null,
            "_view_module": "@jupyter-widgets/base",
            "overflow": null,
            "_model_module_version": "1.2.0",
            "_view_count": null,
            "flex_flow": null,
            "width": null,
            "min_width": null,
            "border": null,
            "align_items": null,
            "bottom": null,
            "_model_module": "@jupyter-widgets/base",
            "top": null,
            "grid_column": null,
            "overflow_y": null,
            "overflow_x": null,
            "grid_auto_flow": null,
            "grid_area": null,
            "grid_template_columns": null,
            "flex": null,
            "_model_name": "LayoutModel",
            "justify_items": null,
            "grid_row": null,
            "max_height": null,
            "align_content": null,
            "visibility": null,
            "align_self": null,
            "height": null,
            "min_height": null,
            "padding": null,
            "grid_auto_rows": null,
            "grid_gap": null,
            "max_width": null,
            "order": null,
            "_view_module_version": "1.2.0",
            "grid_template_areas": null,
            "object_position": null,
            "object_fit": null,
            "grid_auto_columns": null,
            "margin": null,
            "display": null,
            "left": null
          }
        },
        "29b846c63dec46378f32b9621dc57ed6": {
          "model_module": "@jupyter-widgets/controls",
          "model_name": "IntProgressModel",
          "state": {
            "_view_name": "ProgressView",
            "style": "IPY_MODEL_6bb10922674e4e17a2c4e16866dd69f4",
            "_dom_classes": [],
            "description": "",
            "_model_name": "IntProgressModel",
            "bar_style": "success",
            "max": 21850,
            "_view_module": "@jupyter-widgets/controls",
            "_model_module_version": "1.5.0",
            "value": 21850,
            "_view_count": null,
            "_view_module_version": "1.5.0",
            "orientation": "horizontal",
            "min": 0,
            "description_tooltip": null,
            "_model_module": "@jupyter-widgets/controls",
            "layout": "IPY_MODEL_6ed9417470b5460aba3837d5430db201"
          }
        },
        "b3ce48b7378b44ea977616e1af4eb07e": {
          "model_module": "@jupyter-widgets/controls",
          "model_name": "HTMLModel",
          "state": {
            "_view_name": "HTMLView",
            "style": "IPY_MODEL_6d42994eb2c34a5e9e00734ce5aaadd2",
            "_dom_classes": [],
            "description": "",
            "_model_name": "HTMLModel",
            "placeholder": "​",
            "_view_module": "@jupyter-widgets/controls",
            "_model_module_version": "1.5.0",
            "value": "100% 21850/21850 [06:22&lt;00:00, 57.18it/s]",
            "_view_count": null,
            "_view_module_version": "1.5.0",
            "description_tooltip": null,
            "_model_module": "@jupyter-widgets/controls",
            "layout": "IPY_MODEL_09471638a0614ff48cf07f99a58809f3"
          }
        },
        "6bb10922674e4e17a2c4e16866dd69f4": {
          "model_module": "@jupyter-widgets/controls",
          "model_name": "ProgressStyleModel",
          "state": {
            "_view_name": "StyleView",
            "_model_name": "ProgressStyleModel",
            "description_width": "",
            "_view_module": "@jupyter-widgets/base",
            "_model_module_version": "1.5.0",
            "_view_count": null,
            "_view_module_version": "1.2.0",
            "bar_color": null,
            "_model_module": "@jupyter-widgets/controls"
          }
        },
        "6ed9417470b5460aba3837d5430db201": {
          "model_module": "@jupyter-widgets/base",
          "model_name": "LayoutModel",
          "state": {
            "_view_name": "LayoutView",
            "grid_template_rows": null,
            "right": null,
            "justify_content": null,
            "_view_module": "@jupyter-widgets/base",
            "overflow": null,
            "_model_module_version": "1.2.0",
            "_view_count": null,
            "flex_flow": null,
            "width": null,
            "min_width": null,
            "border": null,
            "align_items": null,
            "bottom": null,
            "_model_module": "@jupyter-widgets/base",
            "top": null,
            "grid_column": null,
            "overflow_y": null,
            "overflow_x": null,
            "grid_auto_flow": null,
            "grid_area": null,
            "grid_template_columns": null,
            "flex": null,
            "_model_name": "LayoutModel",
            "justify_items": null,
            "grid_row": null,
            "max_height": null,
            "align_content": null,
            "visibility": null,
            "align_self": null,
            "height": null,
            "min_height": null,
            "padding": null,
            "grid_auto_rows": null,
            "grid_gap": null,
            "max_width": null,
            "order": null,
            "_view_module_version": "1.2.0",
            "grid_template_areas": null,
            "object_position": null,
            "object_fit": null,
            "grid_auto_columns": null,
            "margin": null,
            "display": null,
            "left": null
          }
        },
        "6d42994eb2c34a5e9e00734ce5aaadd2": {
          "model_module": "@jupyter-widgets/controls",
          "model_name": "DescriptionStyleModel",
          "state": {
            "_view_name": "StyleView",
            "_model_name": "DescriptionStyleModel",
            "description_width": "",
            "_view_module": "@jupyter-widgets/base",
            "_model_module_version": "1.5.0",
            "_view_count": null,
            "_view_module_version": "1.2.0",
            "_model_module": "@jupyter-widgets/controls"
          }
        },
        "09471638a0614ff48cf07f99a58809f3": {
          "model_module": "@jupyter-widgets/base",
          "model_name": "LayoutModel",
          "state": {
            "_view_name": "LayoutView",
            "grid_template_rows": null,
            "right": null,
            "justify_content": null,
            "_view_module": "@jupyter-widgets/base",
            "overflow": null,
            "_model_module_version": "1.2.0",
            "_view_count": null,
            "flex_flow": null,
            "width": null,
            "min_width": null,
            "border": null,
            "align_items": null,
            "bottom": null,
            "_model_module": "@jupyter-widgets/base",
            "top": null,
            "grid_column": null,
            "overflow_y": null,
            "overflow_x": null,
            "grid_auto_flow": null,
            "grid_area": null,
            "grid_template_columns": null,
            "flex": null,
            "_model_name": "LayoutModel",
            "justify_items": null,
            "grid_row": null,
            "max_height": null,
            "align_content": null,
            "visibility": null,
            "align_self": null,
            "height": null,
            "min_height": null,
            "padding": null,
            "grid_auto_rows": null,
            "grid_gap": null,
            "max_width": null,
            "order": null,
            "_view_module_version": "1.2.0",
            "grid_template_areas": null,
            "object_position": null,
            "object_fit": null,
            "grid_auto_columns": null,
            "margin": null,
            "display": null,
            "left": null
          }
        }
      }
    }
  },
  "cells": [
    {
      "cell_type": "markdown",
      "metadata": {
        "id": "r0_6TMRRfkVr",
        "colab_type": "text"
      },
      "source": [
        "## Assignment : 14"
      ]
    },
    {
      "cell_type": "code",
      "metadata": {
        "id": "cFeVxwC0f-ym",
        "colab_type": "code",
        "colab": {}
      },
      "source": [
        "from keras.utils import np_utils \n",
        "from keras.datasets import mnist \n",
        "import seaborn as sns\n",
        "from keras.initializers import RandomNormal\n",
        "from keras.initializers import he_normal\n",
        "from keras.layers.normalization import BatchNormalization\n",
        "from keras.layers import Dropout\n",
        "import matplotlib.pyplot as plt\n",
        "import numpy as np\n",
        "import time\n",
        "import pandas as pd\n",
        "from sklearn.model_selection import train_test_split\n",
        "from keras.utils import to_categorical\n",
        "from keras.preprocessing.text import Tokenizer\n",
        "from collections import Counter \n",
        "from keras.preprocessing.sequence import pad_sequences\n",
        "from sklearn.feature_extraction.text import CountVectorizer\n",
        "from sklearn import preprocessing\n",
        "import pickle\n",
        "from keras.layers import Input\n",
        "from keras.layers.embeddings import Embedding\n",
        "from keras.models import Sequential\n",
        "from keras.layers import Dense, Input\n",
        "from keras.layers import Flatten\n",
        "from keras.layers import concatenate\n",
        "from keras.layers import LSTM\n",
        "from keras.layers import Conv1D\n",
        "from keras.regularizers import l2\n",
        "from keras.models import Model\n",
        "from tensorboardcolab import TensorBoardColab, TensorBoardColabCallback\n",
        "from keras.callbacks import ModelCheckpoint, ReduceLROnPlateau, EarlyStopping\n",
        "import tensorflow as tf\n",
        "from sklearn.metrics import roc_auc_score\n",
        "from keras.models import load_model\n",
        "from sklearn.feature_extraction.text import TfidfVectorizer\n",
        "from IPython.display import Image\n",
        "from tqdm import tqdm_notebook\n",
        "from keras import optimizers\n",
        "from keras.layers import LeakyReLU\n",
        "from collections import Counter\n",
        "from scipy.sparse import hstack"
      ],
      "execution_count": 0,
      "outputs": []
    },
    {
      "cell_type": "code",
      "metadata": {
        "id": "3iAVAV9JgN3g",
        "colab_type": "code",
        "colab": {}
      },
      "source": [
        "# https://gist.github.com/greydanus/f6eee59eaf1d90fcb3b534a25362cea4\n",
        "# https://stackoverflow.com/a/14434334\n",
        "# this function is used to update the plots for each epoch and error\n",
        "def plt_dynamic(x, vy, ty, ax, colors=['b']):\n",
        "    ax.plot(x, vy, 'b', label=\"Validation Loss\")\n",
        "    ax.plot(x, ty, 'r', label=\"Train Loss\")\n",
        "    plt.legend()\n",
        "    plt.grid()\n",
        "    fig.canvas.draw()"
      ],
      "execution_count": 0,
      "outputs": []
    },
    {
      "cell_type": "code",
      "metadata": {
        "id": "t5AXypawgz0i",
        "colab_type": "code",
        "outputId": "2c4e4ef4-926c-46c4-f295-23b44a741478",
        "colab": {
          "base_uri": "https://localhost:8080/",
          "height": 34
        }
      },
      "source": [
        "from google.colab import drive\n",
        "drive.mount('/content/gdrive')"
      ],
      "execution_count": 96,
      "outputs": [
        {
          "output_type": "stream",
          "text": [
            "Drive already mounted at /content/gdrive; to attempt to forcibly remount, call drive.mount(\"/content/gdrive\", force_remount=True).\n"
          ],
          "name": "stdout"
        }
      ]
    },
    {
      "cell_type": "code",
      "metadata": {
        "id": "EDLYb01Sg-6u",
        "colab_type": "code",
        "outputId": "53c6e2e9-7d4d-4aa1-a598-1d6984f61fbc",
        "colab": {
          "base_uri": "https://localhost:8080/",
          "height": 191
        }
      },
      "source": [
        "root_path = '/content/gdrive/My Drive/LSTM Assignment/'\n",
        "!ls '/content/gdrive/My Drive/LSTM Assignment'\n",
        "working_dir = '/content/gdrive/My Drive/model-weights-lstm/'\n",
        "!ls '/content/gdrive/My Drive/model-weights-lstm/'"
      ],
      "execution_count": 97,
      "outputs": [
        {
          "output_type": "stream",
          "text": [
            " 1_Reference_EDA.ipynb\t\t  'LSTM - Assignment.ipynb'   train_data.csv\n",
            " 2_Reference_Preprocessing.ipynb   preprocessed_data.csv\n",
            " glove_vectors\t\t\t   resources.csv\n",
            "best_model_1.h5   test-essay-imp.pkl\n",
            "best_model.h5\t  train-essay-imp.pkl\n",
            "cv-essay-imp.pkl  weights-improvement-01-0.61.hdf5\n",
            "hello\t\t  weights-improvement-01-0.64.hdf5\n",
            "model1.png\t  weights-improvement-02-0.65.hdf5\n",
            "model2.png\t  weights-improvement-02-0.67.hdf5\n",
            "tb_1.png\n"
          ],
          "name": "stdout"
        }
      ]
    },
    {
      "cell_type": "markdown",
      "metadata": {
        "id": "T2ffs1uSfkVu",
        "colab_type": "text"
      },
      "source": [
        "<pre>\n",
        "1. Download the preprocessed DonorsChoose data from here <a href='https://drive.google.com/file/d/1GU3LIJJ3zS1xLXXe-sdItSJHtI5txjVO/view?usp=sharing'>Dataset</a>\n",
        "2. Split the data into train, cv, and test\n",
        "3. After step 2 you have to train 3 types of models as discussed below. \n",
        "4. For all the model use <a href='https://scikit-learn.org/stable/modules/model_evaluation.html#roc-metrics'>'auc'</a> as a metric. check <a href='https://datascience.stackexchange.com/a/20192'>this</a> for using auc as a metric. you need to print the AUC value for each epoch. Note: you should NOT use the tf.metric.auc\n",
        "5. You are free to choose any number of layers/hiddden units but you have to use same type of architectures shown below. \n",
        "6. You can use any one of the optimizers and choice of Learning rate and momentum, resources: <a href='http://cs231n.github.io/neural-networks-3/'>cs231n class notes</a>, <a href='https://www.youtube.com/watch?v=hd_KFJ5ktUc'>cs231n class video</a>. \n",
        "7. You should Save the best model weights.\n",
        "8. For all the model's use <a href='https://www.youtube.com/watch?v=2U6Jl7oqRkM'>TensorBoard</a> and plot the Metric value and Loss with epoch. While submitting, take a screenshot of plots and include those images in .ipynb notebook and PDF. \n",
        "9. Use Categorical Cross Entropy as Loss to minimize.\n",
        "10. try to get AUC more than 0.8 for atleast one model\n",
        "</pre>"
      ]
    },
    {
      "cell_type": "markdown",
      "metadata": {
        "id": "Hgi5p7iMfkVv",
        "colab_type": "text"
      },
      "source": [
        "### Model-1\n",
        "\n",
        "Build and Train deep neural network as shown below"
      ]
    },
    {
      "cell_type": "markdown",
      "metadata": {
        "id": "sP7NqAyAfkVx",
        "colab_type": "text"
      },
      "source": [
        "<img src='https://i.imgur.com/w395Yk9.png'>\n",
        "ref: https://i.imgur.com/w395Yk9.png"
      ]
    },
    {
      "cell_type": "markdown",
      "metadata": {
        "id": "RZ-trePmfkVy",
        "colab_type": "text"
      },
      "source": [
        "- __Input_seq_total_text_data__ --- You have to give Total text data columns. After this use the Embedding layer to get word vectors. Use given predefined glove word vectors, don't train any word vectors. After this use LSTM and get the LSTM output and Flatten that output. \n",
        "- __Input_school_state__ --- Give 'school_state' column as input to embedding layer and Train the Keras Embedding layer. \n",
        "- __Project_grade_category__  --- Give 'project_grade_category' column as input to embedding layer and Train the Keras Embedding layer.\n",
        "- __Input_clean_categories__ --- Give 'input_clean_categories' column as input to embedding layer and Train the Keras Embedding layer.\n",
        "- __Input_clean_subcategories__ --- Give 'input_clean_subcategories' column as input to embedding layer and Train the Keras Embedding layer.\n",
        "- __Input_clean_subcategories__ --- Give 'input_teacher_prefix' column as input to embedding layer and Train the Keras Embedding layer.\n",
        "- __Input_remaining_teacher_number_of_previously_posted_projects._resource_summary_contains_numerical_digits._price._quantity__ ---concatenate remaining columns and add a Dense layer after that. \n",
        "\n"
      ]
    },
    {
      "cell_type": "markdown",
      "metadata": {
        "id": "mjmj02vEfkVz",
        "colab_type": "text"
      },
      "source": [
        "- For LSTM, you can choose your sequence padding methods on your own or you can train your LSTM without padding, there is no restriction on that."
      ]
    },
    {
      "cell_type": "markdown",
      "metadata": {
        "id": "xy5ek5-gfkV0",
        "colab_type": "text"
      },
      "source": [
        "Below is an example of embedding layer for a categorical columns. In below code all are dummy values, we gave only for referance. "
      ]
    },
    {
      "cell_type": "code",
      "metadata": {
        "id": "1HNvXob1iFLT",
        "colab_type": "code",
        "outputId": "9261ac00-bad2-49ea-b52d-e17d991f8e24",
        "colab": {
          "base_uri": "https://localhost:8080/",
          "height": 34
        }
      },
      "source": [
        "df = pd.read_csv(root_path+'preprocessed_data.csv')\n",
        "print(df.shape)"
      ],
      "execution_count": 98,
      "outputs": [
        {
          "output_type": "stream",
          "text": [
            "(109248, 9)\n"
          ],
          "name": "stdout"
        }
      ]
    },
    {
      "cell_type": "code",
      "metadata": {
        "id": "_fSbidffil4_",
        "colab_type": "code",
        "outputId": "e3621024-5fb9-4abf-9cb5-9549733d5b1f",
        "colab": {
          "base_uri": "https://localhost:8080/",
          "height": 678
        }
      },
      "source": [
        "df.head()"
      ],
      "execution_count": 99,
      "outputs": [
        {
          "output_type": "execute_result",
          "data": {
            "text/html": [
              "<div>\n",
              "<style scoped>\n",
              "    .dataframe tbody tr th:only-of-type {\n",
              "        vertical-align: middle;\n",
              "    }\n",
              "\n",
              "    .dataframe tbody tr th {\n",
              "        vertical-align: top;\n",
              "    }\n",
              "\n",
              "    .dataframe thead th {\n",
              "        text-align: right;\n",
              "    }\n",
              "</style>\n",
              "<table border=\"1\" class=\"dataframe\">\n",
              "  <thead>\n",
              "    <tr style=\"text-align: right;\">\n",
              "      <th></th>\n",
              "      <th>school_state</th>\n",
              "      <th>teacher_prefix</th>\n",
              "      <th>project_grade_category</th>\n",
              "      <th>teacher_number_of_previously_posted_projects</th>\n",
              "      <th>project_is_approved</th>\n",
              "      <th>clean_categories</th>\n",
              "      <th>clean_subcategories</th>\n",
              "      <th>essay</th>\n",
              "      <th>price</th>\n",
              "    </tr>\n",
              "  </thead>\n",
              "  <tbody>\n",
              "    <tr>\n",
              "      <th>0</th>\n",
              "      <td>ca</td>\n",
              "      <td>mrs</td>\n",
              "      <td>grades_prek_2</td>\n",
              "      <td>53</td>\n",
              "      <td>1</td>\n",
              "      <td>math_science</td>\n",
              "      <td>appliedsciences health_lifescience</td>\n",
              "      <td>i fortunate enough use fairy tale stem kits cl...</td>\n",
              "      <td>725.05</td>\n",
              "    </tr>\n",
              "    <tr>\n",
              "      <th>1</th>\n",
              "      <td>ut</td>\n",
              "      <td>ms</td>\n",
              "      <td>grades_3_5</td>\n",
              "      <td>4</td>\n",
              "      <td>1</td>\n",
              "      <td>specialneeds</td>\n",
              "      <td>specialneeds</td>\n",
              "      <td>imagine 8 9 years old you third grade classroo...</td>\n",
              "      <td>213.03</td>\n",
              "    </tr>\n",
              "    <tr>\n",
              "      <th>2</th>\n",
              "      <td>ca</td>\n",
              "      <td>mrs</td>\n",
              "      <td>grades_prek_2</td>\n",
              "      <td>10</td>\n",
              "      <td>1</td>\n",
              "      <td>literacy_language</td>\n",
              "      <td>literacy</td>\n",
              "      <td>having class 24 students comes diverse learner...</td>\n",
              "      <td>329.00</td>\n",
              "    </tr>\n",
              "    <tr>\n",
              "      <th>3</th>\n",
              "      <td>ga</td>\n",
              "      <td>mrs</td>\n",
              "      <td>grades_prek_2</td>\n",
              "      <td>2</td>\n",
              "      <td>1</td>\n",
              "      <td>appliedlearning</td>\n",
              "      <td>earlydevelopment</td>\n",
              "      <td>i recently read article giving students choice...</td>\n",
              "      <td>481.04</td>\n",
              "    </tr>\n",
              "    <tr>\n",
              "      <th>4</th>\n",
              "      <td>wa</td>\n",
              "      <td>mrs</td>\n",
              "      <td>grades_3_5</td>\n",
              "      <td>2</td>\n",
              "      <td>1</td>\n",
              "      <td>literacy_language</td>\n",
              "      <td>literacy</td>\n",
              "      <td>my students crave challenge eat obstacles brea...</td>\n",
              "      <td>17.74</td>\n",
              "    </tr>\n",
              "  </tbody>\n",
              "</table>\n",
              "</div>"
            ],
            "text/plain": [
              "  school_state  ...   price\n",
              "0           ca  ...  725.05\n",
              "1           ut  ...  213.03\n",
              "2           ca  ...  329.00\n",
              "3           ga  ...  481.04\n",
              "4           wa  ...   17.74\n",
              "\n",
              "[5 rows x 9 columns]"
            ]
          },
          "metadata": {
            "tags": []
          },
          "execution_count": 99
        }
      ]
    },
    {
      "cell_type": "markdown",
      "metadata": {
        "id": "5tsqy4R9055x",
        "colab_type": "text"
      },
      "source": [
        "# Splitting data into Train and Test\n"
      ]
    },
    {
      "cell_type": "code",
      "metadata": {
        "id": "M9ZXy4efAJpg",
        "colab_type": "code",
        "colab": {}
      },
      "source": [
        "Y = df['project_is_approved'].values\n",
        "df.drop(['project_is_approved'],axis=1,inplace=True)"
      ],
      "execution_count": 0,
      "outputs": []
    },
    {
      "cell_type": "code",
      "metadata": {
        "id": "R2YFUpx204X1",
        "colab_type": "code",
        "outputId": "f2b13399-68a4-48f6-a822-9a5cb0e4eff7",
        "colab": {
          "base_uri": "https://localhost:8080/",
          "height": 121
        }
      },
      "source": [
        "X_train, X_test, Y_train, Y_test = train_test_split(df,Y,stratify=Y,test_size=0.20)\n",
        "X_train, X_cv, Y_train, Y_cv = train_test_split(X_train,Y_train,stratify=Y_train,test_size=0.20)\n",
        "\n",
        "print(\"Size of X_train: \",X_train.shape)\n",
        "print(\"Size of Y_train: \",Y_train.shape)\n",
        "\n",
        "print(\"Size of X_cv: \",X_cv.shape)\n",
        "print(\"Size of Y_cv: \",Y_cv.shape)\n",
        "\n",
        "print(\"Size of X_test: \",X_test.shape)\n",
        "print(\"Size of Y_test: \",Y_test.shape)"
      ],
      "execution_count": 101,
      "outputs": [
        {
          "output_type": "stream",
          "text": [
            "Size of X_train:  (69918, 8)\n",
            "Size of Y_train:  (69918,)\n",
            "Size of X_cv:  (17480, 8)\n",
            "Size of Y_cv:  (17480,)\n",
            "Size of X_test:  (21850, 8)\n",
            "Size of Y_test:  (21850,)\n"
          ],
          "name": "stdout"
        }
      ]
    },
    {
      "cell_type": "markdown",
      "metadata": {
        "id": "vheuwQue4tv1",
        "colab_type": "text"
      },
      "source": [
        "# Convert Y label to binary class matrix"
      ]
    },
    {
      "cell_type": "code",
      "metadata": {
        "id": "hWczLwUn4HOY",
        "colab_type": "code",
        "outputId": "511fa744-eb46-43ed-fd03-b652ca7c3747",
        "colab": {
          "base_uri": "https://localhost:8080/",
          "height": 69
        }
      },
      "source": [
        "Y_train = to_categorical(Y_train,num_classes=2)\n",
        "Y_cv = to_categorical(Y_cv,num_classes=2)\n",
        "Y_test = to_categorical(Y_test, num_classes=2)\n",
        "print(\"Shape of Y_train: \", Y_train.shape)\n",
        "print(\"Shape of Y_cv: \", Y_cv.shape)\n",
        "print(\"Shape of Y_test: \",Y_test.shape)"
      ],
      "execution_count": 102,
      "outputs": [
        {
          "output_type": "stream",
          "text": [
            "Shape of Y_train:  (69918, 2)\n",
            "Shape of Y_cv:  (17480, 2)\n",
            "Shape of Y_test:  (21850, 2)\n"
          ],
          "name": "stdout"
        }
      ]
    },
    {
      "cell_type": "markdown",
      "metadata": {
        "id": "MFAsvqqu5h6O",
        "colab_type": "text"
      },
      "source": [
        "# Encoding text data as integers\n",
        "* Keras offers an Embedding layer that can be used for neural networks on text data.\n",
        "\n",
        "* It requires that the input data be integer encoded, so that each word is represented by a unique integer.\n"
      ]
    },
    {
      "cell_type": "code",
      "metadata": {
        "id": "WS0XDgo-5Umb",
        "colab_type": "code",
        "outputId": "05a8529a-0dc3-41d8-d3e6-f8958eb4cf4d",
        "colab": {
          "base_uri": "https://localhost:8080/",
          "height": 34
        }
      },
      "source": [
        "# prepare tokenizer\n",
        "t = Tokenizer()\n",
        "t.fit_on_texts(X_train['essay'])\n",
        "vocab_size = len(t.word_index) + 1\n",
        "print(\"Vocabulary Size: \",vocab_size)"
      ],
      "execution_count": 103,
      "outputs": [
        {
          "output_type": "stream",
          "text": [
            "Vocabulary Size:  47336\n"
          ],
          "name": "stdout"
        }
      ]
    },
    {
      "cell_type": "code",
      "metadata": {
        "id": "g6JFeuBJ5Mih",
        "colab_type": "code",
        "outputId": "8d4fa83a-623c-4bc8-9fd6-566da8a2c26f",
        "colab": {
          "base_uri": "https://localhost:8080/",
          "height": 54
        }
      },
      "source": [
        "# # integer encode the documents\n",
        "encoded_train_essay = t.texts_to_sequences(X_train['essay'])\n",
        "encoded_cv_essay = t.texts_to_sequences(X_cv['essay'])\n",
        "encoded_test_essay = t.texts_to_sequences(X_test['essay'])\n",
        "print(encoded_train_essay[0])"
      ],
      "execution_count": 104,
      "outputs": [
        {
          "output_type": "stream",
          "text": [
            "[719, 1, 437, 764, 23, 719, 1, 493, 35, 1076, 3764, 71, 1061, 218, 226, 30363, 71, 317, 9555, 59, 176, 421, 3, 30, 2, 34, 1, 1171, 19, 5, 841, 220, 1, 94, 194, 2568, 329, 196, 3429, 1961, 117, 37, 539, 1, 492, 464, 195, 9, 437, 48, 110, 495, 238, 488, 9, 34, 290, 48, 592, 2, 50, 231, 209, 418, 2, 20, 82, 1, 418, 2, 34, 33, 35, 9, 15, 75, 152, 705, 10, 705, 2, 19, 1, 20, 159, 705, 450, 267, 719, 375, 27, 159, 71, 627, 1930, 1, 294, 687, 3, 5, 27, 15, 4, 1, 687, 364, 9, 34, 159, 118, 475, 188, 535, 3, 1198, 11637, 231, 78, 719, 60, 26, 499, 130, 719, 60, 8, 800, 897, 3957, 331, 499, 261, 349, 86, 6, 2, 34, 1, 20, 10, 475, 326, 337, 57, 2, 235, 394, 1, 75, 159, 327, 3, 101, 69, 250, 57, 2, 19, 18, 3310, 8378, 23, 1, 285, 138, 159, 297, 1348, 1165, 1492, 1, 28, 18, 26, 56, 968, 194, 460, 26, 153, 2, 34, 1, 100, 724, 259, 124, 719, 1, 238, 336, 12, 312, 8, 102, 2524, 15198, 170, 8, 18, 15198, 252, 774, 2, 34, 1237, 19, 5, 719, 1, 365, 3, 268, 772, 203, 6, 2, 49, 1180, 1, 418, 7, 232, 252, 1, 159, 383, 5, 13]\n"
          ],
          "name": "stdout"
        }
      ]
    },
    {
      "cell_type": "markdown",
      "metadata": {
        "id": "-lZzK26w_B1R",
        "colab_type": "text"
      },
      "source": [
        "# Analysing Essay lengths to find the padding size"
      ]
    },
    {
      "cell_type": "code",
      "metadata": {
        "id": "pge1mRI28gRq",
        "colab_type": "code",
        "colab": {}
      },
      "source": [
        "len_of_essays = []\n",
        "for essay in encoded_train_essay:\n",
        "    len_of_essays.append(len(essay))\n",
        "\n",
        "uniq_len = list(set(len_of_essays))\n",
        "freq = []\n",
        "for c in uniq_len:\n",
        "    freq.append(len_of_essays.count(c))"
      ],
      "execution_count": 0,
      "outputs": []
    },
    {
      "cell_type": "code",
      "metadata": {
        "id": "2BL3e0FX-_OE",
        "colab_type": "code",
        "outputId": "0545d1e1-97d4-428b-e3f1-33de25f25f45",
        "colab": {
          "base_uri": "https://localhost:8080/",
          "height": 34
        }
      },
      "source": [
        "print(\"Mean Length of Essays = \", sum(len_of_essays)/len(len_of_essays))"
      ],
      "execution_count": 106,
      "outputs": [
        {
          "output_type": "stream",
          "text": [
            "Mean Length of Essays =  151.39409021997196\n"
          ],
          "name": "stdout"
        }
      ]
    },
    {
      "cell_type": "markdown",
      "metadata": {
        "id": "MlzI-Hk9IX-R",
        "colab_type": "text"
      },
      "source": [
        "Plotting distribution of essay length"
      ]
    },
    {
      "cell_type": "code",
      "metadata": {
        "id": "xeL-NnCACWSu",
        "colab_type": "code",
        "outputId": "b4f86150-67ea-4c47-892f-acfb2f738228",
        "colab": {
          "base_uri": "https://localhost:8080/",
          "height": 301
        }
      },
      "source": [
        "%matplotlib inline\n",
        "sns.set_context('notebook')\n",
        "plt.plot(uniq_len,freq)\n",
        "plt.xlabel('Length')\n",
        "plt.ylabel('count of data')\n",
        "plt.title('Distribution of length of text data')\n",
        "plt.show()"
      ],
      "execution_count": 107,
      "outputs": [
        {
          "output_type": "display_data",
          "data": {
            "image/png": "[encoded data removed]",
            "text/plain": [
              "<Figure size 432x288 with 1 Axes>"
            ]
          },
          "metadata": {
            "tags": []
          }
        }
      ]
    },
    {
      "cell_type": "markdown",
      "metadata": {
        "id": "xpvlgu2zIf0h",
        "colab_type": "text"
      },
      "source": [
        "# Conclusion\n",
        "* As observed from the distribution a essay lenth of  **300** covers most of the data points."
      ]
    },
    {
      "cell_type": "code",
      "metadata": {
        "id": "9lVw2JfxJCpU",
        "colab_type": "code",
        "outputId": "bffd9f62-e8a7-405f-efc7-7a1f0de25100",
        "colab": {
          "base_uri": "https://localhost:8080/",
          "height": 1000
        }
      },
      "source": [
        "max_length = 300\n",
        "padded_train_essay = pad_sequences(encoded_train_essay, maxlen=max_length, padding='post')\n",
        "padded_cv_essay = pad_sequences(encoded_cv_essay, maxlen=max_length, padding='post')\n",
        "padded_test_essay = pad_sequences(encoded_test_essay, maxlen=max_length, padding='post')\n",
        "print(\"After padding train essay\",padded_train_essay[0])\n",
        "print(\"After padding cv essay\",padded_cv_essay[0])\n",
        "print(\"After padding test essay\",padded_test_essay[0])"
      ],
      "execution_count": 108,
      "outputs": [
        {
          "output_type": "stream",
          "text": [
            "After padding train essay [  719     1   437   764    23   719     1   493    35  1076  3764    71\n",
            "  1061   218   226 30363    71   317  9555    59   176   421     3    30\n",
            "     2    34     1  1171    19     5   841   220     1    94   194  2568\n",
            "   329   196  3429  1961   117    37   539     1   492   464   195     9\n",
            "   437    48   110   495   238   488     9    34   290    48   592     2\n",
            "    50   231   209   418     2    20    82     1   418     2    34    33\n",
            "    35     9    15    75   152   705    10   705     2    19     1    20\n",
            "   159   705   450   267   719   375    27   159    71   627  1930     1\n",
            "   294   687     3     5    27    15     4     1   687   364     9    34\n",
            "   159   118   475   188   535     3  1198 11637   231    78   719    60\n",
            "    26   499   130   719    60     8   800   897  3957   331   499   261\n",
            "   349    86     6     2    34     1    20    10   475   326   337    57\n",
            "     2   235   394     1    75   159   327     3   101    69   250    57\n",
            "     2    19    18  3310  8378    23     1   285   138   159   297  1348\n",
            "  1165  1492     1    28    18    26    56   968   194   460    26   153\n",
            "     2    34     1   100   724   259   124   719     1   238   336    12\n",
            "   312     8   102  2524 15198   170     8    18 15198   252   774     2\n",
            "    34  1237    19     5   719     1   365     3   268   772   203     6\n",
            "     2    49  1180     1   418     7   232   252     1   159   383     5\n",
            "    13     0     0     0     0     0     0     0     0     0     0     0\n",
            "     0     0     0     0     0     0     0     0     0     0     0     0\n",
            "     0     0     0     0     0     0     0     0     0     0     0     0\n",
            "     0     0     0     0     0     0     0     0     0     0     0     0\n",
            "     0     0     0     0     0     0     0     0     0     0     0     0\n",
            "     0     0     0     0     0     0     0     0     0     0     0     0]\n",
            "After padding cv essay [ 107  112   37 2831 2118    3 3294    1  958  133 1053  199   24    8\n",
            "  102  321  237   44   21   94   10  107  103   60   76  264    3   26\n",
            "   37  130  111 1488  905  360 1054  409    1 1191  963 1650  632    2\n",
            "  525   18  230  944  285   72   63   75  208  316  143  407  841   26\n",
            "   51  218    5  178 2162  188 2168 1882  842  481   51    2 2906  103\n",
            "   60    1    7   51  932  256 2280 1121  619  166   30   72   85   97\n",
            "   26  392    7  619 1111   41   65  218   28 1515 1120  400  657   24\n",
            "  252 1090 3704 1276  619  274 1972    3 1072 3999    1  374  794    3\n",
            "   30   13    0    0    0    0    0    0    0    0    0    0    0    0\n",
            "    0    0    0    0    0    0    0    0    0    0    0    0    0    0\n",
            "    0    0    0    0    0    0    0    0    0    0    0    0    0    0\n",
            "    0    0    0    0    0    0    0    0    0    0    0    0    0    0\n",
            "    0    0    0    0    0    0    0    0    0    0    0    0    0    0\n",
            "    0    0    0    0    0    0    0    0    0    0    0    0    0    0\n",
            "    0    0    0    0    0    0    0    0    0    0    0    0    0    0\n",
            "    0    0    0    0    0    0    0    0    0    0    0    0    0    0\n",
            "    0    0    0    0    0    0    0    0    0    0    0    0    0    0\n",
            "    0    0    0    0    0    0    0    0    0    0    0    0    0    0\n",
            "    0    0    0    0    0    0    0    0    0    0    0    0    0    0\n",
            "    0    0    0    0    0    0    0    0    0    0    0    0    0    0\n",
            "    0    0    0    0    0    0    0    0    0    0    0    0    0    0\n",
            "    0    0    0    0    0    0]\n",
            "After padding test essay [ 1288   782  5770  2672  2759  1581    12     1   430     8    46  2416\n",
            "  2759     4     1  4698   315   922  1949    50  3988  3699     4  2043\n",
            "     1  2027  1127    57     9   737   895   183    12     1    23  1648\n",
            "     5   220  3971   267  1041   200   353   130   136  1396    46  1066\n",
            "  3322    68   573     4    45   733  1183   456   848   362   982  6768\n",
            "    30  7900     1   101   976   183    25     3   120   844    17    29\n",
            "    83    61   200   218     1    17   219    44    21     1   131  2671\n",
            "   205  1177    46  1059    35  1015    17   844    17   337    17    25\n",
            "     3    52   227    92    57   303     1    46  1059    35  4705   793\n",
            "   764    46  1059    76  1083  4948    17  1370  5195     1   194   265\n",
            " 13081   326    50  1498  1462    38    31    46    46  2741   312    29\n",
            "    51    47     1   761   118  5770  2672  2759    96    46  1059    35\n",
            "     1    46  2759    50   614    10   130    69   186  2416   315    12\n",
            "     1   300  1394   315  1138   162   187   496    17   128    38    31\n",
            "  6387  1494   105  2454     1   205     0     0     0     0     0     0\n",
            "     0     0     0     0     0     0     0     0     0     0     0     0\n",
            "     0     0     0     0     0     0     0     0     0     0     0     0\n",
            "     0     0     0     0     0     0     0     0     0     0     0     0\n",
            "     0     0     0     0     0     0     0     0     0     0     0     0\n",
            "     0     0     0     0     0     0     0     0     0     0     0     0\n",
            "     0     0     0     0     0     0     0     0     0     0     0     0\n",
            "     0     0     0     0     0     0     0     0     0     0     0     0\n",
            "     0     0     0     0     0     0     0     0     0     0     0     0\n",
            "     0     0     0     0     0     0     0     0     0     0     0     0\n",
            "     0     0     0     0     0     0     0     0     0     0     0     0]\n"
          ],
          "name": "stdout"
        }
      ]
    },
    {
      "cell_type": "markdown",
      "metadata": {
        "id": "4yCqAILUSWXp",
        "colab_type": "text"
      },
      "source": [
        "# Using Glove Embedding for essays"
      ]
    },
    {
      "cell_type": "code",
      "metadata": {
        "id": "eV8qNk3ZRNYH",
        "colab_type": "code",
        "colab": {}
      },
      "source": [
        "def get_embedding_matrix(tokenizer,vocab_size):\n",
        "  '''\n",
        "  Takes input a tokenizer trained on the training set and vocabulary size\n",
        "  \n",
        "  Returns glove vector encoding for each word in the vocabulary (300 dim)\n",
        "  as embedding_matrix.\n",
        "  '''\n",
        "\n",
        "  with open(root_path+'glove_vectors', 'rb') as f:\n",
        "      model = pickle.load(f)\n",
        "      glove_words =  set(model.keys())\n",
        "\n",
        "  embedding_matrix = np.zeros((vocab_size, 300))\n",
        "  cnt=0\n",
        "  for word, i in tokenizer.word_index.items():\n",
        "    if word in glove_words:\n",
        "      embedding_matrix[i] = model[word]\n",
        "  return embedding_matrix"
      ],
      "execution_count": 0,
      "outputs": []
    },
    {
      "cell_type": "code",
      "metadata": {
        "id": "g2Xa95URRP2h",
        "colab_type": "code",
        "outputId": "a283c4a0-bc59-4edf-dbb3-74aee7f18d03",
        "colab": {
          "base_uri": "https://localhost:8080/",
          "height": 34
        }
      },
      "source": [
        "embedding_matrix_train = get_embedding_matrix(t,vocab_size)\n",
        "print(embedding_matrix_train.shape)"
      ],
      "execution_count": 110,
      "outputs": [
        {
          "output_type": "stream",
          "text": [
            "(47336, 300)\n"
          ],
          "name": "stdout"
        }
      ]
    },
    {
      "cell_type": "markdown",
      "metadata": {
        "id": "5LPWjZkYKqvA",
        "colab_type": "text"
      },
      "source": [
        "<h2>Make Data Model Ready: encoding numerical, categorical features</h2>\n"
      ]
    },
    {
      "cell_type": "markdown",
      "metadata": {
        "id": "YhUntVgDKw0B",
        "colab_type": "text"
      },
      "source": [
        "## Encoding Categorical Features"
      ]
    },
    {
      "cell_type": "code",
      "metadata": {
        "id": "uMQgjnxfSNqe",
        "colab_type": "code",
        "colab": {}
      },
      "source": [
        "from sklearn.preprocessing import LabelEncoder\n",
        "import numpy as np\n",
        "#credits: https://stackoverflow.com/questions/21057621/sklearn-labelencoder-with-never-seen-before-values\n",
        "class LabelEncoderExt(object):\n",
        "    def __init__(self):\n",
        "        \"\"\"\n",
        "        It differs from LabelEncoder by handling new classes and providing a value for it [Unknown]\n",
        "        Unknown will be added in fit and transform will take care of new item. It gives unknown class id\n",
        "        \"\"\"\n",
        "        self.label_encoder = LabelEncoder()\n",
        "        # self.classes_ = self.label_encoder.classes_\n",
        "\n",
        "    def fit(self, data_list):\n",
        "        \"\"\"\n",
        "        This will fit the encoder for all the unique values and introduce unknown value\n",
        "        :param data_list: A list of string\n",
        "        :return: self\n",
        "        \"\"\"\n",
        "        self.label_encoder = self.label_encoder.fit(list(data_list) + ['Unknown'])\n",
        "        self.classes_ = self.label_encoder.classes_\n",
        "\n",
        "        return self\n",
        "\n",
        "    def transform(self, data_list):\n",
        "        \"\"\"\n",
        "        This will transform the data_list to id list where the new values get assigned to Unknown class\n",
        "        :param data_list:\n",
        "        :return:\n",
        "        \"\"\"\n",
        "        new_data_list = list(data_list)\n",
        "        for unique_item in np.unique(data_list):\n",
        "            if unique_item not in self.label_encoder.classes_:\n",
        "                new_data_list = ['Unknown' if x==unique_item else x for x in new_data_list]\n",
        "\n",
        "        return self.label_encoder.transform(new_data_list)"
      ],
      "execution_count": 0,
      "outputs": []
    },
    {
      "cell_type": "markdown",
      "metadata": {
        "id": "WfzCOnA9TnfG",
        "colab_type": "text"
      },
      "source": [
        "**Integer Encoding: clean_categories**"
      ]
    },
    {
      "cell_type": "code",
      "metadata": {
        "id": "rZ17aEakSufE",
        "colab_type": "code",
        "outputId": "b87362ba-4ca5-4002-a6c6-88f21cea0611",
        "colab": {
          "base_uri": "https://localhost:8080/",
          "height": 538
        }
      },
      "source": [
        "category_encoder = LabelEncoderExt()\n",
        "\n",
        "category_encoder.fit(list(X_train['clean_categories']))\n",
        "print(category_encoder.classes_) # you can see new class called Unknown\n",
        "#total number of unique category classes\n",
        "category_vocab_size = len(category_encoder.classes_)\n",
        "print(\"Category size: \", category_vocab_size)\n",
        "\n",
        "category_encoded_train =  category_encoder.transform(X_train['clean_categories'])\n",
        "category_encoded_cv =  category_encoder.transform(X_cv['clean_categories'])\n",
        "category_encoded_test =  category_encoder.transform(X_test['clean_categories'])\n",
        "category_embd_size = min(50,category_vocab_size//2+1)\n",
        "\n",
        "print(category_encoded_train)\n",
        "print(category_encoded_cv)\n",
        "print(category_encoded_test)\n",
        "print(category_embd_size)"
      ],
      "execution_count": 112,
      "outputs": [
        {
          "output_type": "stream",
          "text": [
            "['Unknown' 'appliedlearning' 'appliedlearning health_sports'\n",
            " 'appliedlearning history_civics' 'appliedlearning literacy_language'\n",
            " 'appliedlearning math_science' 'appliedlearning music_arts'\n",
            " 'appliedlearning specialneeds' 'appliedlearning warmth care_hunger'\n",
            " 'health_sports' 'health_sports appliedlearning'\n",
            " 'health_sports history_civics' 'health_sports literacy_language'\n",
            " 'health_sports math_science' 'health_sports music_arts'\n",
            " 'health_sports specialneeds' 'health_sports warmth care_hunger'\n",
            " 'history_civics' 'history_civics appliedlearning'\n",
            " 'history_civics health_sports' 'history_civics literacy_language'\n",
            " 'history_civics math_science' 'history_civics music_arts'\n",
            " 'history_civics specialneeds' 'history_civics warmth care_hunger'\n",
            " 'literacy_language' 'literacy_language appliedlearning'\n",
            " 'literacy_language health_sports' 'literacy_language history_civics'\n",
            " 'literacy_language math_science' 'literacy_language music_arts'\n",
            " 'literacy_language specialneeds' 'literacy_language warmth care_hunger'\n",
            " 'math_science' 'math_science appliedlearning'\n",
            " 'math_science health_sports' 'math_science history_civics'\n",
            " 'math_science literacy_language' 'math_science music_arts'\n",
            " 'math_science specialneeds' 'math_science warmth care_hunger'\n",
            " 'music_arts' 'music_arts appliedlearning' 'music_arts health_sports'\n",
            " 'music_arts history_civics' 'music_arts specialneeds'\n",
            " 'music_arts warmth care_hunger' 'specialneeds'\n",
            " 'specialneeds health_sports' 'specialneeds music_arts'\n",
            " 'specialneeds warmth care_hunger' 'warmth care_hunger']\n",
            "Category size:  52\n",
            "[47 38  9 ... 29 34 39]\n",
            "[33 41  9 ... 25 33  9]\n",
            "[25 41 38 ... 38 31 25]\n",
            "27\n"
          ],
          "name": "stdout"
        }
      ]
    },
    {
      "cell_type": "markdown",
      "metadata": {
        "id": "nvZ3lPL7LXJV",
        "colab_type": "text"
      },
      "source": [
        "**Integer Encoding: clean_subcategories**"
      ]
    },
    {
      "cell_type": "code",
      "metadata": {
        "id": "EDs-9BpTT6oF",
        "colab_type": "code",
        "outputId": "121360dd-706a-498f-ff7a-d22858c2cf68",
        "colab": {
          "base_uri": "https://localhost:8080/",
          "height": 1000
        }
      },
      "source": [
        "subcategory_encoder = LabelEncoderExt()\n",
        "\n",
        "subcategory_encoder.fit(list(X_train['clean_subcategories']))\n",
        "print(subcategory_encoder.classes_) # you can see new class called Unknown\n",
        "#total number of unique category classes\n",
        "subcategory_vocab_size = len(subcategory_encoder.classes_)\n",
        "print(\"subcategory size: \", subcategory_vocab_size)\n",
        "\n",
        "subcategory_encoded_train =  subcategory_encoder.transform(X_train['clean_subcategories'])\n",
        "subcategory_encoded_cv =  subcategory_encoder.transform(X_cv['clean_subcategories'])\n",
        "subcategory_encoded_test =  subcategory_encoder.transform(X_test['clean_subcategories'])\n",
        "subcategory_embd_size = min(50,subcategory_vocab_size//2+1)\n",
        "\n",
        "\n",
        "print(subcategory_encoded_train)\n",
        "print(subcategory_encoded_test)\n",
        "print(subcategory_encoded_cv)\n",
        "print(subcategory_embd_size)"
      ],
      "execution_count": 113,
      "outputs": [
        {
          "output_type": "stream",
          "text": [
            "['Unknown' 'appliedsciences' 'appliedsciences charactereducation'\n",
            " 'appliedsciences civics_government' 'appliedsciences college_careerprep'\n",
            " 'appliedsciences communityservice' 'appliedsciences earlydevelopment'\n",
            " 'appliedsciences economics' 'appliedsciences environmentalscience'\n",
            " 'appliedsciences esl' 'appliedsciences extracurricular'\n",
            " 'appliedsciences financialliteracy' 'appliedsciences foreignlanguages'\n",
            " 'appliedsciences gym_fitness' 'appliedsciences health_lifescience'\n",
            " 'appliedsciences health_wellness' 'appliedsciences history_geography'\n",
            " 'appliedsciences literacy' 'appliedsciences literature_writing'\n",
            " 'appliedsciences mathematics' 'appliedsciences music'\n",
            " 'appliedsciences nutritioneducation' 'appliedsciences other'\n",
            " 'appliedsciences parentinvolvement' 'appliedsciences performingarts'\n",
            " 'appliedsciences socialsciences' 'appliedsciences specialneeds'\n",
            " 'appliedsciences teamsports' 'appliedsciences visualarts'\n",
            " 'appliedsciences warmth care_hunger' 'charactereducation'\n",
            " 'charactereducation civics_government'\n",
            " 'charactereducation college_careerprep'\n",
            " 'charactereducation communityservice'\n",
            " 'charactereducation earlydevelopment' 'charactereducation economics'\n",
            " 'charactereducation environmentalscience' 'charactereducation esl'\n",
            " 'charactereducation extracurricular'\n",
            " 'charactereducation financialliteracy'\n",
            " 'charactereducation foreignlanguages' 'charactereducation gym_fitness'\n",
            " 'charactereducation health_lifescience'\n",
            " 'charactereducation health_wellness'\n",
            " 'charactereducation history_geography' 'charactereducation literacy'\n",
            " 'charactereducation literature_writing' 'charactereducation mathematics'\n",
            " 'charactereducation music' 'charactereducation other'\n",
            " 'charactereducation parentinvolvement'\n",
            " 'charactereducation performingarts' 'charactereducation socialsciences'\n",
            " 'charactereducation specialneeds' 'charactereducation teamsports'\n",
            " 'charactereducation visualarts' 'charactereducation warmth care_hunger'\n",
            " 'civics_government' 'civics_government college_careerprep'\n",
            " 'civics_government communityservice' 'civics_government economics'\n",
            " 'civics_government environmentalscience' 'civics_government esl'\n",
            " 'civics_government extracurricular' 'civics_government financialliteracy'\n",
            " 'civics_government foreignlanguages'\n",
            " 'civics_government health_lifescience'\n",
            " 'civics_government health_wellness' 'civics_government history_geography'\n",
            " 'civics_government literacy' 'civics_government literature_writing'\n",
            " 'civics_government mathematics' 'civics_government parentinvolvement'\n",
            " 'civics_government performingarts' 'civics_government socialsciences'\n",
            " 'civics_government specialneeds' 'civics_government teamsports'\n",
            " 'civics_government visualarts' 'college_careerprep'\n",
            " 'college_careerprep communityservice'\n",
            " 'college_careerprep earlydevelopment' 'college_careerprep economics'\n",
            " 'college_careerprep environmentalscience' 'college_careerprep esl'\n",
            " 'college_careerprep extracurricular'\n",
            " 'college_careerprep financialliteracy'\n",
            " 'college_careerprep foreignlanguages'\n",
            " 'college_careerprep health_lifescience'\n",
            " 'college_careerprep health_wellness'\n",
            " 'college_careerprep history_geography' 'college_careerprep literacy'\n",
            " 'college_careerprep literature_writing' 'college_careerprep mathematics'\n",
            " 'college_careerprep music' 'college_careerprep nutritioneducation'\n",
            " 'college_careerprep other' 'college_careerprep parentinvolvement'\n",
            " 'college_careerprep performingarts' 'college_careerprep socialsciences'\n",
            " 'college_careerprep specialneeds' 'college_careerprep teamsports'\n",
            " 'college_careerprep visualarts' 'college_careerprep warmth care_hunger'\n",
            " 'communityservice' 'communityservice earlydevelopment'\n",
            " 'communityservice economics' 'communityservice environmentalscience'\n",
            " 'communityservice esl' 'communityservice extracurricular'\n",
            " 'communityservice gym_fitness' 'communityservice health_lifescience'\n",
            " 'communityservice health_wellness' 'communityservice history_geography'\n",
            " 'communityservice literacy' 'communityservice literature_writing'\n",
            " 'communityservice mathematics' 'communityservice music'\n",
            " 'communityservice nutritioneducation' 'communityservice other'\n",
            " 'communityservice parentinvolvement' 'communityservice performingarts'\n",
            " 'communityservice socialsciences' 'communityservice specialneeds'\n",
            " 'communityservice visualarts' 'earlydevelopment'\n",
            " 'earlydevelopment economics' 'earlydevelopment environmentalscience'\n",
            " 'earlydevelopment extracurricular' 'earlydevelopment financialliteracy'\n",
            " 'earlydevelopment foreignlanguages' 'earlydevelopment gym_fitness'\n",
            " 'earlydevelopment health_lifescience' 'earlydevelopment health_wellness'\n",
            " 'earlydevelopment history_geography' 'earlydevelopment literacy'\n",
            " 'earlydevelopment literature_writing' 'earlydevelopment mathematics'\n",
            " 'earlydevelopment music' 'earlydevelopment nutritioneducation'\n",
            " 'earlydevelopment other' 'earlydevelopment parentinvolvement'\n",
            " 'earlydevelopment performingarts' 'earlydevelopment socialsciences'\n",
            " 'earlydevelopment specialneeds' 'earlydevelopment teamsports'\n",
            " 'earlydevelopment visualarts' 'earlydevelopment warmth care_hunger'\n",
            " 'economics' 'economics environmentalscience'\n",
            " 'economics financialliteracy' 'economics health_lifescience'\n",
            " 'economics history_geography' 'economics literacy'\n",
            " 'economics literature_writing' 'economics mathematics'\n",
            " 'economics nutritioneducation' 'economics socialsciences'\n",
            " 'economics specialneeds' 'economics visualarts' 'environmentalscience'\n",
            " 'environmentalscience extracurricular'\n",
            " 'environmentalscience financialliteracy'\n",
            " 'environmentalscience foreignlanguages'\n",
            " 'environmentalscience gym_fitness'\n",
            " 'environmentalscience health_lifescience'\n",
            " 'environmentalscience health_wellness'\n",
            " 'environmentalscience history_geography' 'environmentalscience literacy'\n",
            " 'environmentalscience literature_writing'\n",
            " 'environmentalscience mathematics' 'environmentalscience music'\n",
            " 'environmentalscience nutritioneducation' 'environmentalscience other'\n",
            " 'environmentalscience parentinvolvement'\n",
            " 'environmentalscience performingarts'\n",
            " 'environmentalscience socialsciences' 'environmentalscience specialneeds'\n",
            " 'environmentalscience teamsports' 'environmentalscience visualarts'\n",
            " 'environmentalscience warmth care_hunger' 'esl' 'esl earlydevelopment'\n",
            " 'esl economics' 'esl environmentalscience' 'esl extracurricular'\n",
            " 'esl financialliteracy' 'esl foreignlanguages' 'esl gym_fitness'\n",
            " 'esl health_lifescience' 'esl health_wellness' 'esl history_geography'\n",
            " 'esl literacy' 'esl literature_writing' 'esl mathematics' 'esl music'\n",
            " 'esl nutritioneducation' 'esl other' 'esl parentinvolvement'\n",
            " 'esl performingarts' 'esl socialsciences' 'esl specialneeds'\n",
            " 'esl teamsports' 'esl visualarts' 'extracurricular'\n",
            " 'extracurricular financialliteracy' 'extracurricular foreignlanguages'\n",
            " 'extracurricular gym_fitness' 'extracurricular health_lifescience'\n",
            " 'extracurricular health_wellness' 'extracurricular history_geography'\n",
            " 'extracurricular literacy' 'extracurricular literature_writing'\n",
            " 'extracurricular mathematics' 'extracurricular music'\n",
            " 'extracurricular nutritioneducation' 'extracurricular other'\n",
            " 'extracurricular parentinvolvement' 'extracurricular performingarts'\n",
            " 'extracurricular socialsciences' 'extracurricular specialneeds'\n",
            " 'extracurricular teamsports' 'extracurricular visualarts'\n",
            " 'financialliteracy' 'financialliteracy health_lifescience'\n",
            " 'financialliteracy health_wellness' 'financialliteracy history_geography'\n",
            " 'financialliteracy literacy' 'financialliteracy literature_writing'\n",
            " 'financialliteracy mathematics' 'financialliteracy other'\n",
            " 'financialliteracy parentinvolvement' 'financialliteracy socialsciences'\n",
            " 'financialliteracy specialneeds' 'financialliteracy visualarts'\n",
            " 'foreignlanguages' 'foreignlanguages health_lifescience'\n",
            " 'foreignlanguages health_wellness' 'foreignlanguages history_geography'\n",
            " 'foreignlanguages literacy' 'foreignlanguages literature_writing'\n",
            " 'foreignlanguages mathematics' 'foreignlanguages music'\n",
            " 'foreignlanguages other' 'foreignlanguages performingarts'\n",
            " 'foreignlanguages socialsciences' 'foreignlanguages specialneeds'\n",
            " 'foreignlanguages visualarts' 'gym_fitness'\n",
            " 'gym_fitness health_lifescience' 'gym_fitness health_wellness'\n",
            " 'gym_fitness history_geography' 'gym_fitness literacy'\n",
            " 'gym_fitness literature_writing' 'gym_fitness mathematics'\n",
            " 'gym_fitness music' 'gym_fitness nutritioneducation' 'gym_fitness other'\n",
            " 'gym_fitness performingarts' 'gym_fitness socialsciences'\n",
            " 'gym_fitness specialneeds' 'gym_fitness teamsports'\n",
            " 'gym_fitness visualarts' 'gym_fitness warmth care_hunger'\n",
            " 'health_lifescience' 'health_lifescience health_wellness'\n",
            " 'health_lifescience history_geography' 'health_lifescience literacy'\n",
            " 'health_lifescience literature_writing' 'health_lifescience mathematics'\n",
            " 'health_lifescience music' 'health_lifescience nutritioneducation'\n",
            " 'health_lifescience other' 'health_lifescience parentinvolvement'\n",
            " 'health_lifescience performingarts' 'health_lifescience socialsciences'\n",
            " 'health_lifescience specialneeds' 'health_lifescience teamsports'\n",
            " 'health_lifescience visualarts' 'health_lifescience warmth care_hunger'\n",
            " 'health_wellness' 'health_wellness history_geography'\n",
            " 'health_wellness literacy' 'health_wellness literature_writing'\n",
            " 'health_wellness mathematics' 'health_wellness music'\n",
            " 'health_wellness nutritioneducation' 'health_wellness other'\n",
            " 'health_wellness parentinvolvement' 'health_wellness performingarts'\n",
            " 'health_wellness socialsciences' 'health_wellness specialneeds'\n",
            " 'health_wellness teamsports' 'health_wellness visualarts'\n",
            " 'health_wellness warmth care_hunger' 'history_geography'\n",
            " 'history_geography literacy' 'history_geography literature_writing'\n",
            " 'history_geography mathematics' 'history_geography music'\n",
            " 'history_geography other' 'history_geography parentinvolvement'\n",
            " 'history_geography performingarts' 'history_geography socialsciences'\n",
            " 'history_geography specialneeds' 'history_geography teamsports'\n",
            " 'history_geography visualarts' 'history_geography warmth care_hunger'\n",
            " 'literacy' 'literacy literature_writing' 'literacy mathematics'\n",
            " 'literacy music' 'literacy nutritioneducation' 'literacy other'\n",
            " 'literacy parentinvolvement' 'literacy performingarts'\n",
            " 'literacy socialsciences' 'literacy specialneeds' 'literacy teamsports'\n",
            " 'literacy visualarts' 'literacy warmth care_hunger' 'literature_writing'\n",
            " 'literature_writing mathematics' 'literature_writing music'\n",
            " 'literature_writing nutritioneducation' 'literature_writing other'\n",
            " 'literature_writing parentinvolvement'\n",
            " 'literature_writing performingarts' 'literature_writing socialsciences'\n",
            " 'literature_writing specialneeds' 'literature_writing teamsports'\n",
            " 'literature_writing visualarts' 'literature_writing warmth care_hunger'\n",
            " 'mathematics' 'mathematics music' 'mathematics nutritioneducation'\n",
            " 'mathematics other' 'mathematics parentinvolvement'\n",
            " 'mathematics performingarts' 'mathematics socialsciences'\n",
            " 'mathematics specialneeds' 'mathematics teamsports'\n",
            " 'mathematics visualarts' 'mathematics warmth care_hunger' 'music'\n",
            " 'music other' 'music parentinvolvement' 'music performingarts'\n",
            " 'music socialsciences' 'music specialneeds' 'music teamsports'\n",
            " 'music visualarts' 'nutritioneducation' 'nutritioneducation other'\n",
            " 'nutritioneducation socialsciences' 'nutritioneducation specialneeds'\n",
            " 'nutritioneducation teamsports' 'nutritioneducation visualarts'\n",
            " 'nutritioneducation warmth care_hunger' 'other' 'other parentinvolvement'\n",
            " 'other performingarts' 'other socialsciences' 'other specialneeds'\n",
            " 'other teamsports' 'other visualarts' 'parentinvolvement'\n",
            " 'parentinvolvement performingarts' 'parentinvolvement socialsciences'\n",
            " 'parentinvolvement specialneeds' 'parentinvolvement teamsports'\n",
            " 'parentinvolvement visualarts' 'parentinvolvement warmth care_hunger'\n",
            " 'performingarts' 'performingarts socialsciences'\n",
            " 'performingarts specialneeds' 'performingarts teamsports'\n",
            " 'performingarts visualarts' 'socialsciences'\n",
            " 'socialsciences specialneeds' 'socialsciences teamsports'\n",
            " 'socialsciences visualarts' 'specialneeds' 'specialneeds teamsports'\n",
            " 'specialneeds visualarts' 'specialneeds warmth care_hunger' 'teamsports'\n",
            " 'teamsports visualarts' 'visualarts' 'visualarts warmth care_hunger'\n",
            " 'warmth care_hunger']\n",
            "subcategory size:  390\n",
            "[381  20 247 ... 321 336 339]\n",
            "[308 387 341 ... 341 200 308]\n",
            "[268 346 247 ... 320   1 279]\n",
            "50\n"
          ],
          "name": "stdout"
        }
      ]
    },
    {
      "cell_type": "markdown",
      "metadata": {
        "id": "_cqZ4Yz_L8sr",
        "colab_type": "text"
      },
      "source": [
        "**Integer Encoding: school_state**"
      ]
    },
    {
      "cell_type": "code",
      "metadata": {
        "id": "-gtLQi83UJYa",
        "colab_type": "code",
        "outputId": "2fbc0ce4-2b19-4dfe-a3ec-aad067b9c4ef",
        "colab": {
          "base_uri": "https://localhost:8080/",
          "height": 173
        }
      },
      "source": [
        "school_state_encoder = LabelEncoderExt()\n",
        "\n",
        "school_state_encoder.fit(list(X_train['school_state']))\n",
        "print(school_state_encoder.classes_) # you can see new class called Unknown\n",
        "#total number of unique school_state classes\n",
        "school_state_vocab_size = len(school_state_encoder.classes_)\n",
        "print(\"school_state_vocab_size: \", school_state_vocab_size)\n",
        "\n",
        "school_state_encoded_train =  school_state_encoder.transform(X_train['school_state'])\n",
        "school_state_encoded_cv =  school_state_encoder.transform(X_cv['school_state'])\n",
        "school_state_encoded_test =  school_state_encoder.transform(X_test['school_state'])\n",
        "school_state_embd_size = min(50,school_state_vocab_size//2+1)\n",
        "print(school_state_encoded_train)\n",
        "print(school_state_encoded_cv)\n",
        "print(school_state_encoded_test)\n",
        "print(school_state_embd_size)"
      ],
      "execution_count": 114,
      "outputs": [
        {
          "output_type": "stream",
          "text": [
            "['Unknown' 'ak' 'al' 'ar' 'az' 'ca' 'co' 'ct' 'dc' 'de' 'fl' 'ga' 'hi'\n",
            " 'ia' 'id' 'il' 'in' 'ks' 'ky' 'la' 'ma' 'md' 'me' 'mi' 'mn' 'mo' 'ms'\n",
            " 'mt' 'nc' 'nd' 'ne' 'nh' 'nj' 'nm' 'nv' 'ny' 'oh' 'ok' 'or' 'pa' 'ri'\n",
            " 'sc' 'sd' 'tn' 'tx' 'ut' 'va' 'vt' 'wa' 'wi' 'wv' 'wy']\n",
            "school_state_vocab_size:  52\n",
            "[ 2  4  5 ... 29  5 11]\n",
            "[44 18  7 ... 16 34 11]\n",
            "[ 5  5  5 ... 10 35 10]\n",
            "27\n"
          ],
          "name": "stdout"
        }
      ]
    },
    {
      "cell_type": "markdown",
      "metadata": {
        "id": "iXbh9mXeMEGp",
        "colab_type": "text"
      },
      "source": [
        "**Integer Encoding: teacher_prefix**"
      ]
    },
    {
      "cell_type": "code",
      "metadata": {
        "id": "tOFkJSj3MG-G",
        "colab_type": "code",
        "outputId": "825e0bf3-4f54-42ed-9d51-f31e23f6df1f",
        "colab": {
          "base_uri": "https://localhost:8080/",
          "height": 121
        }
      },
      "source": [
        "teacher_prefix_encoder = LabelEncoderExt()\n",
        "\n",
        "teacher_prefix_encoder.fit(list(X_train['teacher_prefix']))\n",
        "print(teacher_prefix_encoder.classes_) # you can see new class called Unknown\n",
        "#total number of unique techer_prefix classes\n",
        "teacher_prefix_vocab_size = len(teacher_prefix_encoder.classes_)\n",
        "print(\"techer_prefix_vocab_size: \", teacher_prefix_vocab_size)\n",
        "\n",
        "teacher_prefix_encoded_train =  teacher_prefix_encoder.transform(X_train['teacher_prefix'])\n",
        "teacher_prefix_encoded_cv =  teacher_prefix_encoder.transform(X_cv['teacher_prefix'])\n",
        "teacher_prefix_encoded_test =  teacher_prefix_encoder.transform(X_test['teacher_prefix'])\n",
        "\n",
        "teacher_prefix_embd_size = min(50,teacher_prefix_vocab_size//2+1)\n",
        "\n",
        "print(teacher_prefix_encoded_train)\n",
        "print(teacher_prefix_encoded_cv)\n",
        "print(teacher_prefix_encoded_test)\n",
        "print(teacher_prefix_embd_size)"
      ],
      "execution_count": 115,
      "outputs": [
        {
          "output_type": "stream",
          "text": [
            "['Unknown' 'dr' 'mr' 'mrs' 'ms' 'teacher']\n",
            "techer_prefix_vocab_size:  6\n",
            "[3 3 3 ... 3 4 3]\n",
            "[2 2 2 ... 3 2 3]\n",
            "[4 4 4 ... 4 3 3]\n",
            "4\n"
          ],
          "name": "stdout"
        }
      ]
    },
    {
      "cell_type": "markdown",
      "metadata": {
        "id": "-DZPPZm-MK6e",
        "colab_type": "text"
      },
      "source": [
        "**Integer Encoding: project_grade_category**"
      ]
    },
    {
      "cell_type": "code",
      "metadata": {
        "id": "6yBHl1svMNXH",
        "colab_type": "code",
        "outputId": "8e4f875e-bb69-4693-c730-671febdec833",
        "colab": {
          "base_uri": "https://localhost:8080/",
          "height": 121
        }
      },
      "source": [
        "project_grade_cat_encoder = LabelEncoderExt()\n",
        "\n",
        "project_grade_cat_encoder.fit(list(X_train['project_grade_category']))\n",
        "print(project_grade_cat_encoder.classes_) # you can see new class called Unknown\n",
        "project_grade_cat_size = len(project_grade_cat_encoder.classes_)\n",
        "print(\"project_grade_cat_size: \", project_grade_cat_size)\n",
        "\n",
        "project_grade_cat_encoded_train =  project_grade_cat_encoder.transform(X_train['project_grade_category'])\n",
        "project_grade_cat_encoded_cv =  project_grade_cat_encoder.transform(X_cv['project_grade_category'])\n",
        "project_grade_cat_encoded_test =  project_grade_cat_encoder.transform(X_test['project_grade_category'])\n",
        "project_grade_cat_embd_size = min(50,project_grade_cat_size//2+1)\n",
        "\n",
        "print(project_grade_cat_encoded_train)\n",
        "print(project_grade_cat_encoded_train)\n",
        "print(project_grade_cat_encoded_test)\n",
        "print(project_grade_cat_embd_size)"
      ],
      "execution_count": 116,
      "outputs": [
        {
          "output_type": "stream",
          "text": [
            "['Unknown' 'grades_3_5' 'grades_6_8' 'grades_9_12' 'grades_prek_2']\n",
            "project_grade_cat_size:  5\n",
            "[1 1 1 ... 1 4 4]\n",
            "[1 1 1 ... 1 4 4]\n",
            "[4 4 4 ... 4 2 4]\n",
            "3\n"
          ],
          "name": "stdout"
        }
      ]
    },
    {
      "cell_type": "markdown",
      "metadata": {
        "id": "9e3IPoOdNF-f",
        "colab_type": "text"
      },
      "source": [
        "##Encoding Numerical features"
      ]
    },
    {
      "cell_type": "markdown",
      "metadata": {
        "id": "oZD_OhKxNLP8",
        "colab_type": "text"
      },
      "source": [
        "**Normalizing Price**"
      ]
    },
    {
      "cell_type": "code",
      "metadata": {
        "id": "obXxRs2ZNIuP",
        "colab_type": "code",
        "outputId": "ff33ddd5-b0d0-4ad3-aa97-a885a97a4b50",
        "colab": {
          "base_uri": "https://localhost:8080/",
          "height": 69
        }
      },
      "source": [
        "price_vectorizer = preprocessing.Normalizer().fit(X_train['price'].values.reshape(1,-1))\n",
        "X_train_price_normalized = price_vectorizer.transform(X_train['price'].values.reshape(1,-1))\n",
        "X_cv_price_normalized = price_vectorizer.transform(X_cv['price'].values.reshape(1,-1))\n",
        "X_test_price_normalized = price_vectorizer.transform(X_test['price'].values.reshape(1, -1))\n",
        "\n",
        "\n",
        "X_train_price_normalized = X_train_price_normalized.reshape(-1,1)\n",
        "X_cv_price_normalized = X_cv_price_normalized.reshape(-1,1)\n",
        "X_test_price_normalized = X_test_price_normalized.reshape(-1,1)\n",
        "\n",
        "print(X_train_price_normalized.shape)\n",
        "print(X_cv_price_normalized.shape)\n",
        "print(X_test_price_normalized.shape)"
      ],
      "execution_count": 117,
      "outputs": [
        {
          "output_type": "stream",
          "text": [
            "(69918, 1)\n",
            "(17480, 1)\n",
            "(21850, 1)\n"
          ],
          "name": "stdout"
        }
      ]
    },
    {
      "cell_type": "markdown",
      "metadata": {
        "id": "xqPmeWC4N39D",
        "colab_type": "text"
      },
      "source": [
        "**Normalize teacher_number_of_previously_posted_projects**"
      ]
    },
    {
      "cell_type": "code",
      "metadata": {
        "id": "OV56wNRQN6d4",
        "colab_type": "code",
        "colab": {}
      },
      "source": [
        "project_vectorizer = preprocessing.Normalizer().fit(X_train['teacher_number_of_previously_posted_projects'].values.reshape(1,-1))\n",
        "X_train_normal_previous_project = project_vectorizer.transform(X_train['teacher_number_of_previously_posted_projects'].values.reshape(1, -1))\n",
        "X_cv_normal_previous_project = project_vectorizer.transform(X_cv['teacher_number_of_previously_posted_projects'].values.reshape(1, -1))\n",
        "X_test_normal_previous_project = project_vectorizer.transform(X_test['teacher_number_of_previously_posted_projects'].values.reshape(1, -1))"
      ],
      "execution_count": 0,
      "outputs": []
    },
    {
      "cell_type": "code",
      "metadata": {
        "id": "IiiokGeKnI6W",
        "colab_type": "code",
        "outputId": "14888b26-bac0-4a37-b91f-616c4a286b50",
        "colab": {
          "base_uri": "https://localhost:8080/",
          "height": 69
        }
      },
      "source": [
        "X_train_normal_previous_project = X_train_normal_previous_project.reshape(-1,1)\n",
        "X_cv_normal_previous_project = X_cv_normal_previous_project.reshape(-1,1)\n",
        "X_test_normal_previous_project = X_test_normal_previous_project.reshape(-1,1)\n",
        "print(X_train_normal_previous_project.shape)\n",
        "print(X_cv_normal_previous_project.shape)\n",
        "print(X_test_normal_previous_project.shape)"
      ],
      "execution_count": 119,
      "outputs": [
        {
          "output_type": "stream",
          "text": [
            "(69918, 1)\n",
            "(17480, 1)\n",
            "(21850, 1)\n"
          ],
          "name": "stdout"
        }
      ]
    },
    {
      "cell_type": "code",
      "metadata": {
        "id": "JHDrxfmEyNc0",
        "colab_type": "code",
        "outputId": "213b2afe-5775-4e7b-8082-5eb6cb8e3bd1",
        "colab": {
          "base_uri": "https://localhost:8080/",
          "height": 69
        }
      },
      "source": [
        "remaining_train = np.hstack((X_train_price_normalized,X_train_normal_previous_project))\n",
        "remaining_cv = np.hstack((X_cv_price_normalized,X_cv_normal_previous_project))\n",
        "remaining_test = np.hstack((X_test_price_normalized,X_test_normal_previous_project))\n",
        "print(remaining_train.shape,Y_train.shape)\n",
        "print(remaining_cv.shape,Y_cv.shape)\n",
        "print(remaining_test.shape, Y_test.shape)"
      ],
      "execution_count": 120,
      "outputs": [
        {
          "output_type": "stream",
          "text": [
            "(69918, 2) (69918, 2)\n",
            "(17480, 2) (17480, 2)\n",
            "(21850, 2) (21850, 2)\n"
          ],
          "name": "stdout"
        }
      ]
    },
    {
      "cell_type": "markdown",
      "metadata": {
        "id": "nJKV6-nLfkV-",
        "colab_type": "text"
      },
      "source": [
        "### 1. Go through this blog, if you have any doubt on using predefined Embedding values in Embedding layer - https://machinelearningmastery.com/use-word-embedding-layers-deep-learning-keras/\n",
        "### 2. Please go through this link https://keras.io/getting-started/functional-api-guide/ and check the 'Multi-input and multi-output models' then you will get to know how to give multiple inputs. "
      ]
    },
    {
      "cell_type": "markdown",
      "metadata": {
        "id": "wSA17bGzdK9S",
        "colab_type": "text"
      },
      "source": [
        "# Creating Model 1"
      ]
    },
    {
      "cell_type": "code",
      "metadata": {
        "id": "NQUkXoKMdKqW",
        "colab_type": "code",
        "outputId": "f23c7ffa-e52c-4a34-dcdc-38af60db8aff",
        "colab": {
          "base_uri": "https://localhost:8080/",
          "height": 1000
        }
      },
      "source": [
        "# https://stats.stackexchange.com/questions/270546/how-does-keras-embedding-layer-work\n",
        "\n",
        "#First Input : Essays\n",
        "essay_input = Input(shape=(300,), name='essay_input')\n",
        "embedding = Embedding(input_dim=vocab_size,output_dim=300,weights=[embedding_matrix_train],input_length=300)(essay_input)\n",
        "lstm_output = LSTM(units=150,dropout=0.5,return_sequences=True)(embedding)\n",
        "flatten_1 = Flatten()(lstm_output)\n",
        "\n",
        "#Second Input: school state\n",
        "\n",
        "state_input = Input(shape=(1,),name='school_state')\n",
        "state_embedding = Embedding(input_dim=school_state_vocab_size,output_dim=school_state_embd_size,input_length=1)(state_input)\n",
        "flatten_2 = Flatten()(state_embedding)\n",
        "\n",
        "#Third Input: project grade category\n",
        "project_grade_cat_input = Input(shape=(1,),name='project_grade_category')\n",
        "proj_gr_cat_embd = Embedding(input_dim=project_grade_cat_size,output_dim=project_grade_cat_embd_size,input_length=1)(project_grade_cat_input)\n",
        "flatten_3 = Flatten()(proj_gr_cat_embd)\n",
        "\n",
        "#Fourth Input: Project Category\n",
        "project_cat_input = Input(shape=(1,), name='project_category')\n",
        "proj_cat_embd = Embedding(input_dim=project_grade_cat_size,output_dim=project_grade_cat_embd_size,input_length=1)(project_cat_input)\n",
        "flatten_4 = Flatten()(proj_cat_embd)\n",
        "\n",
        "#Fifth Input: Teacher Prefix\n",
        "teacher_pre_input = Input(shape=(1,),name='teacher_prefix')\n",
        "teacher_pr_embd = Embedding(input_dim=teacher_prefix_vocab_size,output_dim=teacher_prefix_embd_size,input_length=1)(teacher_pre_input)\n",
        "flatten_5 = Flatten()(teacher_pr_embd)\n",
        "\n",
        "#Sixth Input: Project Subucategories\n",
        "subcat_input = Input(shape=(1,),name='project_subcategory')\n",
        "subcat_embd = Embedding(input_dim=subcategory_vocab_size,output_dim=subcategory_vocab_size,input_length=1)(subcat_input)\n",
        "flatten_6 = Flatten()(subcat_embd)\n",
        "\n",
        "#Remaining Input: Price, Number of previously posted project\n",
        "remaining_input = Input(shape=(2,),name='remaining_input')\n",
        "dense_1 = Dense(5, activation='relu',kernel_initializer=\"he_normal\",kernel_regularizer=l2(0.001))(remaining_input)\n",
        "\n",
        "#concatenating all inputs together\n",
        "cacatenated_inputs = concatenate([flatten_1,flatten_2,flatten_3,flatten_4,flatten_5,flatten_6,dense_1])\n",
        "\n",
        "x = Dense(256, activation='relu',kernel_initializer=\"he_normal\",kernel_regularizer=l2(0.001))(cacatenated_inputs)\n",
        "x = Dropout(0.5)(x)\n",
        "x = Dense(128, activation='relu',kernel_initializer=\"he_normal\",kernel_regularizer=l2(0.001))(x)\n",
        "x = Dropout(0.6)(x)\n",
        "x = BatchNormalization()(x)\n",
        "\n",
        "x = Dense(64, activation='relu',kernel_initializer=\"he_normal\",kernel_regularizer=l2(0.001))(x)\n",
        "final_output = Dense(2, activation='softmax')(x)\n",
        "\n",
        "model_1 = Model(inputs=[essay_input, state_input, project_grade_cat_input, project_cat_input, teacher_pre_input, subcat_input, remaining_input], outputs=[final_output])\n",
        "print(model_1.summary())"
      ],
      "execution_count": 0,
      "outputs": [
        {
          "output_type": "stream",
          "text": [
            "WARNING:tensorflow:Large dropout rate: 0.6 (>0.5). In TensorFlow 2.x, dropout() uses dropout rate instead of keep_prob. Please ensure that this is intended.\n",
            "Model: \"model_3\"\n",
            "__________________________________________________________________________________________________\n",
            "Layer (type)                    Output Shape         Param #     Connected to                     \n",
            "==================================================================================================\n",
            "essay_input (InputLayer)        (None, 300)          0                                            \n",
            "__________________________________________________________________________________________________\n",
            "embedding_13 (Embedding)        (None, 300, 300)     14203500    essay_input[0][0]                \n",
            "__________________________________________________________________________________________________\n",
            "school_state (InputLayer)       (None, 1)            0                                            \n",
            "__________________________________________________________________________________________________\n",
            "project_grade_category (InputLa (None, 1)            0                                            \n",
            "__________________________________________________________________________________________________\n",
            "project_category (InputLayer)   (None, 1)            0                                            \n",
            "__________________________________________________________________________________________________\n",
            "teacher_prefix (InputLayer)     (None, 1)            0                                            \n",
            "__________________________________________________________________________________________________\n",
            "project_subcategory (InputLayer (None, 1)            0                                            \n",
            "__________________________________________________________________________________________________\n",
            "lstm_3 (LSTM)                   (None, 300, 150)     270600      embedding_13[0][0]               \n",
            "__________________________________________________________________________________________________\n",
            "embedding_14 (Embedding)        (None, 1, 27)        1404        school_state[0][0]               \n",
            "__________________________________________________________________________________________________\n",
            "embedding_15 (Embedding)        (None, 1, 3)         15          project_grade_category[0][0]     \n",
            "__________________________________________________________________________________________________\n",
            "embedding_16 (Embedding)        (None, 1, 3)         15          project_category[0][0]           \n",
            "__________________________________________________________________________________________________\n",
            "embedding_17 (Embedding)        (None, 1, 4)         24          teacher_prefix[0][0]             \n",
            "__________________________________________________________________________________________________\n",
            "embedding_18 (Embedding)        (None, 1, 385)       148225      project_subcategory[0][0]        \n",
            "__________________________________________________________________________________________________\n",
            "remaining_input (InputLayer)    (None, 2)            0                                            \n",
            "__________________________________________________________________________________________________\n",
            "flatten_13 (Flatten)            (None, 45000)        0           lstm_3[0][0]                     \n",
            "__________________________________________________________________________________________________\n",
            "flatten_14 (Flatten)            (None, 27)           0           embedding_14[0][0]               \n",
            "__________________________________________________________________________________________________\n",
            "flatten_15 (Flatten)            (None, 3)            0           embedding_15[0][0]               \n",
            "__________________________________________________________________________________________________\n",
            "flatten_16 (Flatten)            (None, 3)            0           embedding_16[0][0]               \n",
            "__________________________________________________________________________________________________\n",
            "flatten_17 (Flatten)            (None, 4)            0           embedding_17[0][0]               \n",
            "__________________________________________________________________________________________________\n",
            "flatten_18 (Flatten)            (None, 385)          0           embedding_18[0][0]               \n",
            "__________________________________________________________________________________________________\n",
            "dense_11 (Dense)                (None, 5)            15          remaining_input[0][0]            \n",
            "__________________________________________________________________________________________________\n",
            "concatenate_3 (Concatenate)     (None, 45427)        0           flatten_13[0][0]                 \n",
            "                                                                 flatten_14[0][0]                 \n",
            "                                                                 flatten_15[0][0]                 \n",
            "                                                                 flatten_16[0][0]                 \n",
            "                                                                 flatten_17[0][0]                 \n",
            "                                                                 flatten_18[0][0]                 \n",
            "                                                                 dense_11[0][0]                   \n",
            "__________________________________________________________________________________________________\n",
            "dense_12 (Dense)                (None, 128)          5814784     concatenate_3[0][0]              \n",
            "__________________________________________________________________________________________________\n",
            "dropout_5 (Dropout)             (None, 128)          0           dense_12[0][0]                   \n",
            "__________________________________________________________________________________________________\n",
            "dense_13 (Dense)                (None, 256)          33024       dropout_5[0][0]                  \n",
            "__________________________________________________________________________________________________\n",
            "dropout_6 (Dropout)             (None, 256)          0           dense_13[0][0]                   \n",
            "__________________________________________________________________________________________________\n",
            "batch_normalization_3 (BatchNor (None, 256)          1024        dropout_6[0][0]                  \n",
            "__________________________________________________________________________________________________\n",
            "dense_14 (Dense)                (None, 64)           16448       batch_normalization_3[0][0]      \n",
            "__________________________________________________________________________________________________\n",
            "dense_15 (Dense)                (None, 2)            130         dense_14[0][0]                   \n",
            "==================================================================================================\n",
            "Total params: 20,489,208\n",
            "Trainable params: 20,488,696\n",
            "Non-trainable params: 512\n",
            "__________________________________________________________________________________________________\n",
            "None\n"
          ],
          "name": "stdout"
        }
      ]
    },
    {
      "cell_type": "code",
      "metadata": {
        "id": "uutFEZXm0j5_",
        "colab_type": "code",
        "outputId": "f67cd505-0e0f-4e88-94f1-13a7bb8a94dc",
        "colab": {
          "base_uri": "https://localhost:8080/",
          "height": 1000
        }
      },
      "source": [
        "#https://machinelearningmastery.com/visualize-deep-learning-neural-network-model-keras/\n",
        "from keras.utils.vis_utils import plot_model\n",
        "plot_model(model_1, to_file=working_dir+'model1.png', show_shapes=True, show_layer_names=True)"
      ],
      "execution_count": 0,
      "outputs": [
        {
          "output_type": "execute_result",
          "data": {
            "image/png": "[encoded data removed]",
            "text/plain": [
              "<IPython.core.display.Image object>"
            ]
          },
          "metadata": {
            "tags": []
          },
          "execution_count": 81
        }
      ]
    },
    {
      "cell_type": "code",
      "metadata": {
        "id": "xkzBiPgB4rJA",
        "colab_type": "code",
        "outputId": "766b2b9e-6f64-406a-edd6-1d7144f25410",
        "colab": {
          "base_uri": "https://localhost:8080/",
          "height": 68
        }
      },
      "source": [
        "# checkpoint\n",
        "file_path=working_dir+\"weights-improvement-{epoch:02d}-{val_auroc:.2f}.hdf5\"\n",
        "checkpoint_1 = ModelCheckpoint(filepath=file_path,\n",
        "                             monitor=\"val_auroc\",\n",
        "                             mode=\"max\",\n",
        "                             save_best_only = True,\n",
        "                             verbose=1)\n",
        "\n",
        "earlystop_1 = EarlyStopping(monitor='val_loss', patience=2, verbose=1)\n",
        "\n",
        "reduce_lr_1 = ReduceLROnPlateau(monitor='val_loss', factor=0.2, patience=1, min_lr=0.002,verbose = 1)\n",
        "\n",
        "tbc=TensorBoardColab()\n",
        "\n",
        "callbacks_list = [checkpoint_1,earlystop_1,earlystop_1,TensorBoardColabCallback(tbc)]"
      ],
      "execution_count": 0,
      "outputs": [
        {
          "output_type": "stream",
          "text": [
            "Wait for 8 seconds...\n",
            "TensorBoard link:\n",
            "https://4f618caf.ngrok.io\n"
          ],
          "name": "stdout"
        }
      ]
    },
    {
      "cell_type": "code",
      "metadata": {
        "id": "JqyxKaUvgfXc",
        "colab_type": "code",
        "colab": {}
      },
      "source": [
        "def auc1(y_true, y_pred):\n",
        "    if len(np.unique(y_true[:,1])) == 1:\n",
        "        return 0.5\n",
        "    else:\n",
        "        return roc_auc_score(y_true, y_pred)\n",
        "\n",
        "def auroc(y_true, y_pred):\n",
        "    return tf.py_func(auc1, (y_true, y_pred), tf.double)"
      ],
      "execution_count": 0,
      "outputs": []
    },
    {
      "cell_type": "code",
      "metadata": {
        "id": "7vfH64Fegw4_",
        "colab_type": "code",
        "colab": {}
      },
      "source": [
        "train_1 = [padded_train_essay,\n",
        "           school_state_encoded_train,\n",
        "           project_grade_cat_encoded_train,\n",
        "           category_encoded_train,\n",
        "           teacher_prefix_encoded_train,\n",
        "           subcategory_encoded_train,\n",
        "           remaining_train]\n",
        "\n",
        "\n",
        "cv1 = [padded_cv_essay,\n",
        "           school_state_encoded_cv,\n",
        "           project_grade_cat_encoded_cv,\n",
        "           category_encoded_cv,\n",
        "           teacher_prefix_encoded_cv,\n",
        "           subcategory_encoded_cv,\n",
        "           remaining_cv]\n",
        "\n",
        "test_1 = [padded_test_essay,\n",
        "           school_state_encoded_test,\n",
        "           project_grade_cat_encoded_test,\n",
        "           category_encoded_test,\n",
        "           teacher_prefix_encoded_test,\n",
        "           subcategory_encoded_test,\n",
        "           remaining_test]"
      ],
      "execution_count": 0,
      "outputs": []
    },
    {
      "cell_type": "code",
      "metadata": {
        "id": "JLVlubVEif8c",
        "colab_type": "code",
        "outputId": "4d7b0fb5-412f-4260-a7ec-1e20ccb20c94",
        "colab": {
          "base_uri": "https://localhost:8080/",
          "height": 326
        }
      },
      "source": [
        "model_1.compile(optimizer='adam', loss='categorical_crossentropy', metrics=[auroc])"
      ],
      "execution_count": 0,
      "outputs": [
        {
          "output_type": "stream",
          "text": [
            "WARNING:tensorflow:From /usr/local/lib/python3.6/dist-packages/keras/optimizers.py:793: The name tf.train.Optimizer is deprecated. Please use tf.compat.v1.train.Optimizer instead.\n",
            "\n",
            "WARNING:tensorflow:From /usr/local/lib/python3.6/dist-packages/keras/backend/tensorflow_backend.py:3576: The name tf.log is deprecated. Please use tf.math.log instead.\n",
            "\n",
            "WARNING:tensorflow:From <ipython-input-31-5611ee7c481f>:8: py_func (from tensorflow.python.ops.script_ops) is deprecated and will be removed in a future version.\n",
            "Instructions for updating:\n",
            "tf.py_func is deprecated in TF V2. Instead, there are two\n",
            "    options available in V2.\n",
            "    - tf.py_function takes a python function which manipulates tf eager\n",
            "    tensors instead of numpy arrays. It's easy to convert a tf eager tensor to\n",
            "    an ndarray (just call tensor.numpy()) but having access to eager tensors\n",
            "    means `tf.py_function`s can use accelerators such as GPUs as well as\n",
            "    being differentiable using a gradient tape.\n",
            "    - tf.numpy_function maintains the semantics of the deprecated tf.py_func\n",
            "    (it is not differentiable, and manipulates numpy arrays). It drops the\n",
            "    stateful argument making all functions stateful.\n",
            "    \n"
          ],
          "name": "stdout"
        }
      ]
    },
    {
      "cell_type": "code",
      "metadata": {
        "id": "p7I2viLui7fp",
        "colab_type": "code",
        "outputId": "f33e9dd5-538f-4558-e188-0256aa3f918c",
        "colab": {
          "base_uri": "https://localhost:8080/",
          "height": 853
        }
      },
      "source": [
        "history_1 = model_1.fit(train_1, Y_train, validation_data=(cv1,Y_cv),batch_size=512, epochs=20, verbose=1,callbacks=callbacks_list)"
      ],
      "execution_count": 0,
      "outputs": [
        {
          "output_type": "stream",
          "text": [
            "WARNING:tensorflow:From /usr/local/lib/python3.6/dist-packages/tensorflow_core/python/ops/math_grad.py:1424: where (from tensorflow.python.ops.array_ops) is deprecated and will be removed in a future version.\n",
            "Instructions for updating:\n",
            "Use tf.where in 2.0, which has the same broadcast rule as np.where\n",
            "WARNING:tensorflow:From /usr/local/lib/python3.6/dist-packages/keras/backend/tensorflow_backend.py:1033: The name tf.assign_add is deprecated. Please use tf.compat.v1.assign_add instead.\n",
            "\n",
            "WARNING:tensorflow:From /usr/local/lib/python3.6/dist-packages/keras/backend/tensorflow_backend.py:1020: The name tf.assign is deprecated. Please use tf.compat.v1.assign instead.\n",
            "\n",
            "Train on 69918 samples, validate on 17480 samples\n",
            "WARNING:tensorflow:From /usr/local/lib/python3.6/dist-packages/tensorboardcolab/core.py:49: The name tf.summary.FileWriter is deprecated. Please use tf.compat.v1.summary.FileWriter instead.\n",
            "\n",
            "WARNING:tensorflow:From /usr/local/lib/python3.6/dist-packages/keras/callbacks.py:1122: The name tf.summary.merge_all is deprecated. Please use tf.compat.v1.summary.merge_all instead.\n",
            "\n",
            "Epoch 1/20\n",
            "69918/69918 [==============================] - 73s 1ms/step - loss: 1.1789 - auroc: 0.5142 - val_loss: 0.9379 - val_auroc: 0.4245\n",
            "\n",
            "Epoch 00001: val_auroc improved from -inf to 0.42447, saving model to /content/gdrive/My Drive/model-weights-lstm/weights-improvement-01-0.42.hdf5\n",
            "WARNING:tensorflow:From /usr/local/lib/python3.6/dist-packages/tensorboardcolab/callbacks.py:51: The name tf.Summary is deprecated. Please use tf.compat.v1.Summary instead.\n",
            "\n",
            "Epoch 2/20\n",
            "69918/69918 [==============================] - 72s 1ms/step - loss: 0.7811 - auroc: 0.5191 - val_loss: 0.7143 - val_auroc: 0.6072\n",
            "\n",
            "Epoch 00002: val_auroc improved from 0.42447 to 0.60718, saving model to /content/gdrive/My Drive/model-weights-lstm/weights-improvement-02-0.61.hdf5\n",
            "Epoch 3/20\n",
            "69918/69918 [==============================] - 72s 1ms/step - loss: 0.6417 - auroc: 0.5088 - val_loss: 0.5913 - val_auroc: 0.5163\n",
            "\n",
            "Epoch 00003: val_auroc did not improve from 0.60718\n",
            "Epoch 4/20\n",
            "69918/69918 [==============================] - 71s 1ms/step - loss: 0.5613 - auroc: 0.5830 - val_loss: 0.5884 - val_auroc: 0.6963\n",
            "\n",
            "Epoch 00004: val_auroc improved from 0.60718 to 0.69633, saving model to /content/gdrive/My Drive/model-weights-lstm/weights-improvement-04-0.70.hdf5\n",
            "Epoch 5/20\n",
            "69918/69918 [==============================] - 71s 1ms/step - loss: 0.4960 - auroc: 0.7093 - val_loss: 0.5497 - val_auroc: 0.7387\n",
            "\n",
            "Epoch 00005: val_auroc improved from 0.69633 to 0.73872, saving model to /content/gdrive/My Drive/model-weights-lstm/weights-improvement-05-0.74.hdf5\n",
            "Epoch 6/20\n",
            "69918/69918 [==============================] - 72s 1ms/step - loss: 0.4482 - auroc: 0.7532 - val_loss: 0.4781 - val_auroc: 0.7411\n",
            "\n",
            "Epoch 00006: val_auroc improved from 0.73872 to 0.74109, saving model to /content/gdrive/My Drive/model-weights-lstm/weights-improvement-06-0.74.hdf5\n",
            "Epoch 7/20\n",
            "69918/69918 [==============================] - 71s 1ms/step - loss: 0.4188 - auroc: 0.7717 - val_loss: 0.4305 - val_auroc: 0.7433\n",
            "\n",
            "Epoch 00007: val_auroc improved from 0.74109 to 0.74329, saving model to /content/gdrive/My Drive/model-weights-lstm/weights-improvement-07-0.74.hdf5\n",
            "Epoch 8/20\n",
            "69918/69918 [==============================] - 71s 1ms/step - loss: 0.3936 - auroc: 0.7926 - val_loss: 0.4562 - val_auroc: 0.7465\n",
            "\n",
            "Epoch 00008: val_auroc improved from 0.74329 to 0.74653, saving model to /content/gdrive/My Drive/model-weights-lstm/weights-improvement-08-0.75.hdf5\n",
            "Epoch 00008: early stopping\n",
            "Epoch 00008: early stopping\n"
          ],
          "name": "stdout"
        }
      ]
    },
    {
      "cell_type": "code",
      "metadata": {
        "id": "rGc8Trg6sorP",
        "colab_type": "code",
        "outputId": "0ba7bbf9-0412-47dd-f2d8-7cdbf83309b0",
        "colab": {
          "base_uri": "https://localhost:8080/",
          "height": 54
        }
      },
      "source": [
        "#https://stackoverflow.com/posts/54978213/revisions\n",
        "custom_objects = {\"auroc\":auroc}\n",
        "from keras.models import load_model\n",
        "best_model_1 = load_model('/content/gdrive/My Drive/model-weights-lstm/weights-improvement-08-0.75.hdf5',custom_objects=custom_objects)"
      ],
      "execution_count": 0,
      "outputs": [
        {
          "output_type": "stream",
          "text": [
            "WARNING:tensorflow:Large dropout rate: 0.6 (>0.5). In TensorFlow 2.x, dropout() uses dropout rate instead of keep_prob. Please ensure that this is intended.\n"
          ],
          "name": "stdout"
        }
      ]
    },
    {
      "cell_type": "code",
      "metadata": {
        "id": "xvOIMzfu6rWO",
        "colab_type": "code",
        "outputId": "16b6aac3-3cbf-44b8-ea77-b043a8f18756",
        "colab": {
          "base_uri": "https://localhost:8080/",
          "height": 34
        }
      },
      "source": [
        "result = best_model_1.evaluate(x=test_1, y=Y_test, batch_size=512)"
      ],
      "execution_count": 0,
      "outputs": [
        {
          "output_type": "stream",
          "text": [
            "21850/21850 [==============================] - 8s 365us/step\n"
          ],
          "name": "stdout"
        }
      ]
    },
    {
      "cell_type": "code",
      "metadata": {
        "id": "CriGUXMj8XUR",
        "colab_type": "code",
        "outputId": "7e6e8af1-c098-4043-8d76-075504077bc9",
        "colab": {
          "base_uri": "https://localhost:8080/",
          "height": 51
        }
      },
      "source": [
        "print(\"{} of test data {}\". format(best_model_1.metrics_names[0],result[0]))\n",
        "print(\"{} of test data {}\". format(best_model_1.metrics_names[1],result[1]))"
      ],
      "execution_count": 0,
      "outputs": [
        {
          "output_type": "stream",
          "text": [
            "loss of test data 0.45637781578288744\n",
            "auroc of test data 0.7424118391000872\n"
          ],
          "name": "stdout"
        }
      ]
    },
    {
      "cell_type": "code",
      "metadata": {
        "id": "snaWXJSN-skk",
        "colab_type": "code",
        "colab": {}
      },
      "source": [
        "best_model_1.save(working_dir+\"best_model_1.h5\")"
      ],
      "execution_count": 0,
      "outputs": []
    },
    {
      "cell_type": "code",
      "metadata": {
        "id": "-7I5A9EzGcdt",
        "colab_type": "code",
        "outputId": "36cefd74-bbdf-4017-b477-cac9d6c1d381",
        "colab": {
          "base_uri": "https://localhost:8080/",
          "height": 285
        }
      },
      "source": [
        "fig,ax = plt.subplots(1,1)\n",
        "ax.set_xlabel('epoch') ; ax.set_ylabel('binary Crossentropy Loss')\n",
        "\n",
        "# list of epoch numbers\n",
        "x = list(range(1,8+1))\n",
        "\n",
        "# print(history.history.keys())\n",
        "# dict_keys(['val_loss', 'val_acc', 'loss', 'acc'])\n",
        "# history = model_drop.fit(X_train, Y_train, batch_size=batch_size, epochs=nb_epoch, verbose=1, validation_data=(X_test, Y_test))\n",
        "\n",
        "# we will get val_loss and val_acc only when you pass the paramter validation_data\n",
        "# val_loss : validation loss\n",
        "# val_acc : validation accuracy\n",
        "\n",
        "# loss : training loss\n",
        "# acc : train accuracy\n",
        "# for each key in histrory.histrory we will have a list of length equal to number of epochs\n",
        "\n",
        "\n",
        "vy = history_1.history['val_loss']\n",
        "ty = history_1.history['loss']\n",
        "plt_dynamic(x, vy, ty, ax)"
      ],
      "execution_count": 0,
      "outputs": [
        {
          "output_type": "display_data",
          "data": {
            "image/png": "[encoded data removed]",
            "text/plain": [
              "<Figure size 432x288 with 1 Axes>"
            ]
          },
          "metadata": {
            "tags": []
          }
        }
      ]
    },
    {
      "cell_type": "code",
      "metadata": {
        "id": "K-gDRYmQGpzj",
        "colab_type": "code",
        "colab": {}
      },
      "source": [
        "def plt_dynamic_auc(x, vy, ty, ax, colors=['b']):\n",
        "    ax.plot(x, vy, 'b', label=\"Validation auc\")\n",
        "    ax.plot(x, ty, 'r', label=\"Train auc\")\n",
        "    plt.legend()\n",
        "    plt.grid()\n",
        "    fig.canvas.draw()"
      ],
      "execution_count": 0,
      "outputs": []
    },
    {
      "cell_type": "code",
      "metadata": {
        "id": "P7X2FRKhGtCg",
        "colab_type": "code",
        "outputId": "8c7d5679-4f31-4231-cec1-c30bb097ac6c",
        "colab": {
          "base_uri": "https://localhost:8080/",
          "height": 285
        }
      },
      "source": [
        "ig,ax = plt.subplots(1,1)\n",
        "ax.set_xlabel('epoch') ; ax.set_ylabel('binary Crossentropy Loss')\n",
        "\n",
        "# list of epoch numbers\n",
        "x = list(range(1,8+1))\n",
        "\n",
        "# print(history.history.keys())\n",
        "# dict_keys(['val_loss', 'val_acc', 'loss', 'acc'])\n",
        "# history = model_drop.fit(X_train, Y_train, batch_size=batch_size, epochs=nb_epoch, verbose=1, validation_data=(X_test, Y_test))\n",
        "\n",
        "# we will get val_loss and val_acc only when you pass the paramter validation_data\n",
        "# val_loss : validation loss\n",
        "# val_acc : validation accuracy\n",
        "\n",
        "# loss : training loss\n",
        "# acc : train accuracy\n",
        "# for each key in histrory.histrory we will have a list of length equal to number of epochs\n",
        "\n",
        "\n",
        "vy = history_1.history['val_auroc']\n",
        "ty = history_1.history['auroc']\n",
        "plt_dynamic_auc(x, vy, ty, ax)"
      ],
      "execution_count": 0,
      "outputs": [
        {
          "output_type": "display_data",
          "data": {
            "image/png": "[encoded data removed]",
            "text/plain": [
              "<Figure size 432x288 with 1 Axes>"
            ]
          },
          "metadata": {
            "tags": []
          }
        }
      ]
    },
    {
      "cell_type": "markdown",
      "metadata": {
        "id": "NOAluq39QPfl",
        "colab_type": "text"
      },
      "source": [
        "#Tensorboard Screenshot\n"
      ]
    },
    {
      "cell_type": "code",
      "metadata": {
        "id": "R9vZkddRQFGU",
        "colab_type": "code",
        "outputId": "155e322f-024b-4eee-f628-b06c13b94322",
        "colab": {
          "base_uri": "https://localhost:8080/",
          "height": 365
        }
      },
      "source": [
        "Image(retina=True, filename=working_dir+'tb_1.png')"
      ],
      "execution_count": 0,
      "outputs": [
        {
          "output_type": "execute_result",
          "data": {
            "image/png": "[encoded data removed]",
            "text/plain": [
              "<IPython.core.display.Image object>"
            ]
          },
          "metadata": {
            "tags": [],
            "image/png": {
              "width": 672,
              "height": 348
            }
          },
          "execution_count": 43
        }
      ]
    },
    {
      "cell_type": "markdown",
      "metadata": {
        "id": "-Nbjci4jfkV_",
        "colab_type": "text"
      },
      "source": [
        "### Model-2"
      ]
    },
    {
      "cell_type": "markdown",
      "metadata": {
        "id": "VQTVg6-0fkWA",
        "colab_type": "text"
      },
      "source": [
        "Use the same model as above but for 'input_seq_total_text_data' give only some words in the sentance not all the words. Filter the words as below. "
      ]
    },
    {
      "cell_type": "markdown",
      "metadata": {
        "id": "VSIqHznBfkWB",
        "colab_type": "text"
      },
      "source": [
        "<pre>\n",
        "1. Train the TF-IDF on the Train data feature 'essay' <br>\n",
        "2. Get the idf value for each word we have in the train data. <br>\n",
        "3. Remove the low idf value and high idf value words from our data. Do some analysis on the Idf values and based on those values choose the low and high threshold value. Because very frequent words and very very rare words don't give much information. (you can plot a box plots and take only the idf scores within IQR range and corresponding words)<br>\n",
        "4. Train the LSTM after removing the Low and High idf value words. (In model-1 Train on total data but in Model-2 train on data after removing some words based on IDF values)\n",
        "</pre>"
      ]
    },
    {
      "cell_type": "markdown",
      "metadata": {
        "id": "8sB52VkgKTYd",
        "colab_type": "text"
      },
      "source": [
        "#TF-idf vectorizer"
      ]
    },
    {
      "cell_type": "code",
      "metadata": {
        "id": "ud5V5cV6KWtZ",
        "colab_type": "code",
        "outputId": "3280e01e-3f0f-45c0-e2fd-a5eb194fed95",
        "colab": {
          "base_uri": "https://localhost:8080/",
          "height": 52
        }
      },
      "source": [
        "vectorizer = TfidfVectorizer(min_df=10, max_features=10000)\n",
        "x_train_essay_tfidf = vectorizer.fit_transform(X_train['essay'].values)\n",
        "print(\"After vectorizations\")\n",
        "print(x_train_essay_tfidf.shape, Y_train.shape)"
      ],
      "execution_count": 0,
      "outputs": [
        {
          "output_type": "stream",
          "text": [
            "After vectorizations\n",
            "(69918, 10000) (69918, 2)\n"
          ],
          "name": "stdout"
        }
      ]
    },
    {
      "cell_type": "code",
      "metadata": {
        "id": "tj4Z7vkPKb9s",
        "colab_type": "code",
        "outputId": "5c6e4bd1-4c1c-4f74-fb64-2908e390c4ed",
        "colab": {
          "base_uri": "https://localhost:8080/",
          "height": 284
        }
      },
      "source": [
        "idf_score = vectorizer.idf_\n",
        "sns.boxplot(data=idf_score)\n",
        "plt.title('Box plot')\n",
        "plt.ylabel('idf_score')\n",
        "plt.show()"
      ],
      "execution_count": 0,
      "outputs": [
        {
          "output_type": "display_data",
          "data": {
            "image/png": "[encoded data removed]",
            "text/plain": [
              "<Figure size 432x288 with 1 Axes>"
            ]
          },
          "metadata": {
            "tags": []
          }
        }
      ]
    },
    {
      "cell_type": "code",
      "metadata": {
        "id": "4zSbO9rQKjgr",
        "colab_type": "code",
        "outputId": "6faa59aa-d30d-41a4-83a6-219aba1dd3ac",
        "colab": {
          "base_uri": "https://localhost:8080/",
          "height": 52
        }
      },
      "source": [
        "# getting all words\n",
        "feature_names = np.asarray(vectorizer.get_feature_names()) \n",
        "\n",
        "index = []\n",
        "for i in range(0,len(idf_score)):\n",
        "    if idf_score[i] >= 4 and idf_score[i] <=10:\n",
        "        index.append(i)\n",
        "        \n",
        "important_words = []\n",
        "for i in index:\n",
        "    important_words.append(feature_names[i])\n",
        "\n",
        "print('Total words = ', len(feature_names))\n",
        "print('Important words = ',len(important_words))"
      ],
      "execution_count": 0,
      "outputs": [
        {
          "output_type": "stream",
          "text": [
            "Total words =  10000\n",
            "Important words =  9549\n"
          ],
          "name": "stdout"
        }
      ]
    },
    {
      "cell_type": "code",
      "metadata": {
        "id": "roWJ-hGVRWsd",
        "colab_type": "code",
        "outputId": "ff1c1e84-8a6a-4d79-fc49-4c1b514d9173",
        "colab": {
          "base_uri": "https://localhost:8080/",
          "height": 66,
          "referenced_widgets": [
            "25a34bb263664682b7b0c73c352d1480",
            "3abd14c5203a499eb861ebe692c9aac1",
            "5cfaf20d545a4b1dba2d21035dc91adb",
            "483785ea6afc463bb8d85e06c5148182",
            "e98af9c6536b461caac3c2b380fbf251",
            "9a31a724dbfe48c484694148b0891a20",
            "865a543bf19d4c2aadad9539288149e4",
            "bbc3fd4764e844688abcaf1ec9231a9f"
          ]
        }
      },
      "source": [
        "# train_data\n",
        "x_train_essay_new = []\n",
        "for sentence in tqdm_notebook(X_train['essay']):\n",
        "    sen = []\n",
        "    for word in sentence.split():\n",
        "        if word in important_words:\n",
        "            sen.append(word)      \n",
        "    x_train_essay_new.append(' '.join(sen))"
      ],
      "execution_count": 0,
      "outputs": [
        {
          "output_type": "display_data",
          "data": {
            "application/vnd.jupyter.widget-view+json": {
              "model_id": "25a34bb263664682b7b0c73c352d1480",
              "version_minor": 0,
              "version_major": 2
            },
            "text/plain": [
              "HBox(children=(IntProgress(value=0, max=69918), HTML(value='')))"
            ]
          },
          "metadata": {
            "tags": []
          }
        },
        {
          "output_type": "stream",
          "text": [
            "\n"
          ],
          "name": "stdout"
        }
      ]
    },
    {
      "cell_type": "code",
      "metadata": {
        "id": "PpQfsDoJKqCn",
        "colab_type": "code",
        "outputId": "f8074064-2095-4379-9294-53f678e4d433",
        "colab": {
          "base_uri": "https://localhost:8080/",
          "height": 116,
          "referenced_widgets": [
            "a92b7b1fa2434b6fb01794c0c9527bfc",
            "6c6822f202df41c39712b3adfb23e1bf",
            "7376b90cf6b24b6183807cea29a0d072",
            "09b42ff53c4b4fa69d184d7ee3e2ae3a",
            "f4f97060190f4ad682c81ff0087fb4eb",
            "d3d71012207548bda4390d7f7796b783",
            "f526b26962b6430c892efbc0700fbe4e",
            "4705468d531b484186d4ac21cb2f6c2d",
            "35005dc514b1457498575ae1ac776344",
            "9051da359c3449d2beaa9c07ab37d24b",
            "29b846c63dec46378f32b9621dc57ed6",
            "b3ce48b7378b44ea977616e1af4eb07e",
            "6bb10922674e4e17a2c4e16866dd69f4",
            "6ed9417470b5460aba3837d5430db201",
            "6d42994eb2c34a5e9e00734ce5aaadd2",
            "09471638a0614ff48cf07f99a58809f3"
          ]
        }
      },
      "source": [
        "# cv_data\n",
        "x_cv_essay_new = []\n",
        "for sentence in tqdm_notebook(X_cv['essay']):\n",
        "    sen = []\n",
        "    for word in sentence.split():\n",
        "        if word in important_words:\n",
        "            sen.append(word)      \n",
        "    x_cv_essay_new.append(' '.join(sen))\n",
        "\n",
        "#test_data\n",
        "x_test_essay_new = []\n",
        "for sentence in tqdm_notebook(X_test['essay']):\n",
        "    sen = []\n",
        "    for word in sentence.split():\n",
        "        if word in important_words:\n",
        "            sen.append(word)    \n",
        "    x_test_essay_new.append(' '.join(sen))"
      ],
      "execution_count": 0,
      "outputs": [
        {
          "output_type": "display_data",
          "data": {
            "application/vnd.jupyter.widget-view+json": {
              "model_id": "a92b7b1fa2434b6fb01794c0c9527bfc",
              "version_minor": 0,
              "version_major": 2
            },
            "text/plain": [
              "HBox(children=(IntProgress(value=0, max=17480), HTML(value='')))"
            ]
          },
          "metadata": {
            "tags": []
          }
        },
        {
          "output_type": "stream",
          "text": [
            "\n"
          ],
          "name": "stdout"
        },
        {
          "output_type": "display_data",
          "data": {
            "application/vnd.jupyter.widget-view+json": {
              "model_id": "35005dc514b1457498575ae1ac776344",
              "version_minor": 0,
              "version_major": 2
            },
            "text/plain": [
              "HBox(children=(IntProgress(value=0, max=21850), HTML(value='')))"
            ]
          },
          "metadata": {
            "tags": []
          }
        },
        {
          "output_type": "stream",
          "text": [
            "\n"
          ],
          "name": "stdout"
        }
      ]
    },
    {
      "cell_type": "code",
      "metadata": {
        "id": "3JDCm5ym1anL",
        "colab_type": "code",
        "colab": {}
      },
      "source": [
        "import pickle\n",
        "\n",
        "with open(working_dir+'train-essay-imp.pkl', 'wb') as f:\n",
        "  pickle.dump(x_train_essay_new, f)\n",
        "\n",
        "with open(working_dir+'cv-essay-imp.pkl', 'wb') as f:\n",
        "  pickle.dump(x_cv_essay_new, f)\n",
        "\n",
        "with open(working_dir+'test-essay-imp.pkl', 'wb') as f:\n",
        "  pickle.dump(x_test_essay_new, f)"
      ],
      "execution_count": 0,
      "outputs": []
    },
    {
      "cell_type": "code",
      "metadata": {
        "id": "zDuzVxewKwqZ",
        "colab_type": "code",
        "outputId": "7fc44c5b-de49-4c3d-aff1-bf964da26fd7",
        "colab": {
          "base_uri": "https://localhost:8080/",
          "height": 69
        }
      },
      "source": [
        "print(len(x_train_essay_new))\n",
        "print(len(x_cv_essay_new))\n",
        "print(len(x_test_essay_new))"
      ],
      "execution_count": 0,
      "outputs": [
        {
          "output_type": "stream",
          "text": [
            "69918\n",
            "17480\n",
            "21850\n"
          ],
          "name": "stdout"
        }
      ]
    },
    {
      "cell_type": "code",
      "metadata": {
        "id": "oJ1GYLdhK3v5",
        "colab_type": "code",
        "outputId": "e2c7359f-6e16-4e52-ba7d-ddd71146badb",
        "colab": {
          "base_uri": "https://localhost:8080/",
          "height": 34
        }
      },
      "source": [
        "text_essay = Tokenizer()\n",
        "text_essay.fit_on_texts(x_train_essay_new)\n",
        "vocab_size = len(text_essay.word_index) + 1\n",
        "print('Total unique words in the x_train_essay_new',vocab_size)\n",
        "encoded_train_new = text_essay.texts_to_sequences(x_train_essay_new)\n",
        "encoded_cv_new = text_essay.texts_to_sequences(x_cv_essay_new)\n",
        "encoded_test_new = text_essay.texts_to_sequences(x_test_essay_new)"
      ],
      "execution_count": 0,
      "outputs": [
        {
          "output_type": "stream",
          "text": [
            "Total unique words in the x_train_essay_new 9550\n"
          ],
          "name": "stdout"
        }
      ]
    },
    {
      "cell_type": "code",
      "metadata": {
        "id": "ppcutQxUK6oo",
        "colab_type": "code",
        "outputId": "7f1c1b52-7a16-4559-ad04-9b925f83ebec",
        "colab": {
          "base_uri": "https://localhost:8080/",
          "height": 69
        }
      },
      "source": [
        "max_length = 300\n",
        "padded_train_essay_new = pad_sequences(encoded_train_new, maxlen=max_length, padding='post')\n",
        "padded_cv_essay_new = pad_sequences(encoded_cv_new, maxlen=max_length, padding='post')\n",
        "padded_test_essay_new = pad_sequences(encoded_test_new, maxlen=max_length, padding='post')\n",
        "print(\"length of padded_train_new data\",len(padded_train_essay_new))\n",
        "print(\"length of padded_cv_new data\",len(padded_cv_essay_new))\n",
        "print(\"length of padded_test_new data\",len(padded_test_essay_new))"
      ],
      "execution_count": 0,
      "outputs": [
        {
          "output_type": "stream",
          "text": [
            "length of padded_train_new data 69918\n",
            "length of padded_cv_new data 17480\n",
            "length of padded_test_new data 21850\n"
          ],
          "name": "stdout"
        }
      ]
    },
    {
      "cell_type": "markdown",
      "metadata": {
        "id": "s-EY8MrGLVel",
        "colab_type": "text"
      },
      "source": [
        "# Using Glove embedding for essays"
      ]
    },
    {
      "cell_type": "code",
      "metadata": {
        "id": "lL0pU1oOLAPq",
        "colab_type": "code",
        "colab": {}
      },
      "source": [
        "def get_embedding_matrix(tokenizer,vocab_size):\n",
        "  '''\n",
        "  Takes input a tokenizer trained on the training set and vocabulary size\n",
        "  \n",
        "  Returns glove vector encoding for each word in the vocabulary (300 dim)\n",
        "  as embedding_matrix.\n",
        "  '''\n",
        "\n",
        "  with open(root_path+'glove_vectors', 'rb') as f:\n",
        "      model = pickle.load(f)\n",
        "      glove_words =  set(model.keys())\n",
        "\n",
        "  embedding_matrix = np.zeros((vocab_size, 300))\n",
        "  cnt=0\n",
        "  for word, i in tokenizer.word_index.items():\n",
        "    if word in glove_words:\n",
        "      embedding_matrix[i] = model[word]\n",
        "  return embedding_matrix"
      ],
      "execution_count": 0,
      "outputs": []
    },
    {
      "cell_type": "code",
      "metadata": {
        "id": "ruFRu9KbL5XU",
        "colab_type": "code",
        "outputId": "94821984-6747-4049-80e6-81843082ec89",
        "colab": {
          "base_uri": "https://localhost:8080/",
          "height": 34
        }
      },
      "source": [
        "embedding_matrix_train_2 = get_embedding_matrix(text_essay,vocab_size)\n",
        "print(embedding_matrix_train_2.shape)"
      ],
      "execution_count": 0,
      "outputs": [
        {
          "output_type": "stream",
          "text": [
            "(9550, 300)\n"
          ],
          "name": "stdout"
        }
      ]
    },
    {
      "cell_type": "code",
      "metadata": {
        "id": "ni9ST7ycMDr9",
        "colab_type": "code",
        "outputId": "c494bd08-123c-4bdf-9508-59301d72f911",
        "colab": {
          "base_uri": "https://localhost:8080/",
          "height": 1000
        }
      },
      "source": [
        "# https://stats.stackexchange.com/questions/270546/how-does-keras-embedding-layer-work\n",
        "\n",
        "#First Input : Essays\n",
        "essay_input = Input(shape=(300,), name='essay_input')\n",
        "embedding = Embedding(input_dim=vocab_size,output_dim=300,weights=[embedding_matrix_train_2],input_length=300, trainable=False)(essay_input)\n",
        "lstm_output = LSTM(units=150,dropout=0.5,return_sequences=True)(embedding)\n",
        "flatten_1 = Flatten()(lstm_output)\n",
        "\n",
        "#Second Input: school state\n",
        "\n",
        "state_input = Input(shape=(1,),name='school_state')\n",
        "state_embedding = Embedding(input_dim=school_state_vocab_size,output_dim=school_state_embd_size,input_length=1)(state_input)\n",
        "flatten_2 = Flatten()(state_embedding)\n",
        "\n",
        "#Third Input: project grade category\n",
        "project_grade_cat_input = Input(shape=(1,),name='project_grade_category')\n",
        "proj_gr_cat_embd = Embedding(input_dim=project_grade_cat_size,output_dim=project_grade_cat_embd_size,input_length=1)(project_grade_cat_input)\n",
        "flatten_3 = Flatten()(proj_gr_cat_embd)\n",
        "\n",
        "#Fourth Input: Project Category\n",
        "project_cat_input = Input(shape=(1,), name='project_category')\n",
        "proj_cat_embd = Embedding(input_dim=project_grade_cat_size,output_dim=project_grade_cat_embd_size,input_length=1)(project_cat_input)\n",
        "flatten_4 = Flatten()(proj_cat_embd)\n",
        "\n",
        "#Fifth Input: Teacher Prefix\n",
        "teacher_pre_input = Input(shape=(1,),name='teacher_prefix')\n",
        "teacher_pr_embd = Embedding(input_dim=teacher_prefix_vocab_size,output_dim=teacher_prefix_embd_size,input_length=1)(teacher_pre_input)\n",
        "flatten_5 = Flatten()(teacher_pr_embd)\n",
        "\n",
        "#Sixth Input: Project Subucategories\n",
        "subcat_input = Input(shape=(1,),name='project_subcategory')\n",
        "subcat_embd = Embedding(input_dim=subcategory_vocab_size,output_dim=subcategory_vocab_size,input_length=1)(subcat_input)\n",
        "flatten_6 = Flatten()(subcat_embd)\n",
        "\n",
        "#Remaining Input: Price, Number of previously posted project\n",
        "remaining_input = Input(shape=(2,),name='remaining_input')\n",
        "dense_1 = Dense(1, activation='relu',kernel_initializer=\"he_normal\",kernel_regularizer=l2(0.001))(remaining_input)\n",
        "\n",
        "#concatenating all inputs together\n",
        "cacatenated_inputs = concatenate([flatten_1,flatten_2,flatten_3,flatten_4,flatten_5,flatten_6,dense_1])\n",
        "# x = Dense(256,kernel_initializer=\"glorot_normal\",kernel_regularizer=l2(0.001))(x)\n",
        "# x = LeakyReLU(alpha=0.3)(x)\n",
        "# x = Dropout(0.6)(x)\n",
        "# # x = BatchNormalization()(x)\n",
        "\n",
        "# x = Dense(128,kernel_initializer=\"glorot_normal\",kernel_regularizer=l2(0.001))(x)\n",
        "# x = LeakyReLU(alpha=0.3)(x)\n",
        "# x = Dropout(0.5)(x)\n",
        "# # x = BatchNormalization()(x)\n",
        "# x = Dense(64,kernel_initializer=\"glorot_normal\",kernel_regularizer=l2(0.001))(x)\n",
        "# x = LeakyReLU(alpha=0.3)(x)\n",
        "# x = Dropout(0.5)(x)\n",
        "# x = Dense(32,kernel_initializer=\"glorot_normal\",kernel_regularizer=l2(0.001))(x)\n",
        "# x = LeakyReLU(alpha=0.3)(x)\n",
        "# x = Dropout(0.5)(x)\n",
        "# x = Dense(16, kernel_initializer=\"glorot_normal\",kernel_regularizer=l2(0.001))(x)\n",
        "# x = LeakyReLU(alpha=0.3)(x)\n",
        "\n",
        "\n",
        "\n",
        "x = Dense(256, activation='relu',kernel_initializer=\"he_normal\",kernel_regularizer=l2(0.001))(cacatenated_inputs)\n",
        "x = Dropout(.5)(x)\n",
        "x = Dense(128, activation='relu',kernel_initializer=\"he_normal\",kernel_regularizer=l2(0.001))(x)\n",
        "x = Dropout(.5)(x)\n",
        "x = BatchNormalization()(x)\n",
        "\n",
        "x = Dense(64, activation='relu',kernel_initializer=\"he_normal\",kernel_regularizer=l2(0.001))(x)\n",
        "\n",
        "\n",
        "final_output = Dense(2, activation='softmax')(x)\n",
        "\n",
        "model_2 = Model(inputs=[essay_input, state_input, project_grade_cat_input, project_cat_input, teacher_pre_input, subcat_input, remaining_input], outputs=final_output)\n",
        "print(model_2.summary())"
      ],
      "execution_count": 0,
      "outputs": [
        {
          "output_type": "stream",
          "text": [
            "Model: \"model_2\"\n",
            "__________________________________________________________________________________________________\n",
            "Layer (type)                    Output Shape         Param #     Connected to                     \n",
            "==================================================================================================\n",
            "essay_input (InputLayer)        (None, 300)          0                                            \n",
            "__________________________________________________________________________________________________\n",
            "embedding_7 (Embedding)         (None, 300, 300)     2865000     essay_input[0][0]                \n",
            "__________________________________________________________________________________________________\n",
            "school_state (InputLayer)       (None, 1)            0                                            \n",
            "__________________________________________________________________________________________________\n",
            "project_grade_category (InputLa (None, 1)            0                                            \n",
            "__________________________________________________________________________________________________\n",
            "project_category (InputLayer)   (None, 1)            0                                            \n",
            "__________________________________________________________________________________________________\n",
            "teacher_prefix (InputLayer)     (None, 1)            0                                            \n",
            "__________________________________________________________________________________________________\n",
            "project_subcategory (InputLayer (None, 1)            0                                            \n",
            "__________________________________________________________________________________________________\n",
            "lstm_2 (LSTM)                   (None, 300, 150)     270600      embedding_7[0][0]                \n",
            "__________________________________________________________________________________________________\n",
            "embedding_8 (Embedding)         (None, 1, 27)        1404        school_state[0][0]               \n",
            "__________________________________________________________________________________________________\n",
            "embedding_9 (Embedding)         (None, 1, 3)         15          project_grade_category[0][0]     \n",
            "__________________________________________________________________________________________________\n",
            "embedding_10 (Embedding)        (None, 1, 3)         15          project_category[0][0]           \n",
            "__________________________________________________________________________________________________\n",
            "embedding_11 (Embedding)        (None, 1, 4)         24          teacher_prefix[0][0]             \n",
            "__________________________________________________________________________________________________\n",
            "embedding_12 (Embedding)        (None, 1, 388)       150544      project_subcategory[0][0]        \n",
            "__________________________________________________________________________________________________\n",
            "remaining_input (InputLayer)    (None, 2)            0                                            \n",
            "__________________________________________________________________________________________________\n",
            "flatten_7 (Flatten)             (None, 45000)        0           lstm_2[0][0]                     \n",
            "__________________________________________________________________________________________________\n",
            "flatten_8 (Flatten)             (None, 27)           0           embedding_8[0][0]                \n",
            "__________________________________________________________________________________________________\n",
            "flatten_9 (Flatten)             (None, 3)            0           embedding_9[0][0]                \n",
            "__________________________________________________________________________________________________\n",
            "flatten_10 (Flatten)            (None, 3)            0           embedding_10[0][0]               \n",
            "__________________________________________________________________________________________________\n",
            "flatten_11 (Flatten)            (None, 4)            0           embedding_11[0][0]               \n",
            "__________________________________________________________________________________________________\n",
            "flatten_12 (Flatten)            (None, 388)          0           embedding_12[0][0]               \n",
            "__________________________________________________________________________________________________\n",
            "dense_6 (Dense)                 (None, 1)            3           remaining_input[0][0]            \n",
            "__________________________________________________________________________________________________\n",
            "concatenate_2 (Concatenate)     (None, 45426)        0           flatten_7[0][0]                  \n",
            "                                                                 flatten_8[0][0]                  \n",
            "                                                                 flatten_9[0][0]                  \n",
            "                                                                 flatten_10[0][0]                 \n",
            "                                                                 flatten_11[0][0]                 \n",
            "                                                                 flatten_12[0][0]                 \n",
            "                                                                 dense_6[0][0]                    \n",
            "__________________________________________________________________________________________________\n",
            "dense_7 (Dense)                 (None, 256)          11629312    concatenate_2[0][0]              \n",
            "__________________________________________________________________________________________________\n",
            "dropout_3 (Dropout)             (None, 256)          0           dense_7[0][0]                    \n",
            "__________________________________________________________________________________________________\n",
            "dense_8 (Dense)                 (None, 128)          32896       dropout_3[0][0]                  \n",
            "__________________________________________________________________________________________________\n",
            "dropout_4 (Dropout)             (None, 128)          0           dense_8[0][0]                    \n",
            "__________________________________________________________________________________________________\n",
            "batch_normalization_2 (BatchNor (None, 128)          512         dropout_4[0][0]                  \n",
            "__________________________________________________________________________________________________\n",
            "dense_9 (Dense)                 (None, 64)           8256        batch_normalization_2[0][0]      \n",
            "__________________________________________________________________________________________________\n",
            "dense_10 (Dense)                (None, 2)            130         dense_9[0][0]                    \n",
            "==================================================================================================\n",
            "Total params: 14,958,711\n",
            "Trainable params: 12,093,455\n",
            "Non-trainable params: 2,865,256\n",
            "__________________________________________________________________________________________________\n",
            "None\n"
          ],
          "name": "stdout"
        }
      ]
    },
    {
      "cell_type": "code",
      "metadata": {
        "id": "EvbrsSh8TLvP",
        "colab_type": "code",
        "outputId": "19fd9bc4-a658-4be2-ad25-2833d2fb66dc",
        "colab": {
          "base_uri": "https://localhost:8080/",
          "height": 69
        }
      },
      "source": [
        "# checkpoint\n",
        "file_path=working_dir+\"weights-improvement-{epoch:02d}-{val_auroc:.2f}.hdf5\"\n",
        "checkpoint_2 = ModelCheckpoint(filepath=file_path,\n",
        "                             monitor=\"val_auroc\",\n",
        "                             mode=\"max\",\n",
        "                             save_best_only = True,\n",
        "                             verbose=1)\n",
        "\n",
        "# earlystop_2 = EarlyStopping(monitor='val_loss', patience=2, verbose=1)\n",
        "\n",
        "# reduce_lr_2 = ReduceLROnPlateau(monitor='val_loss', factor=0.2, patience=1, min_lr=0.002,verbose = 1)\n",
        "# earlystop_2 = EarlyStopping(monitor = 'val_auroc', \n",
        "#                             mode=\"max\",\n",
        "#                             min_delta = 0, \n",
        "#                             patience = 3,\n",
        "#                             verbose = 1,)\n",
        "# reduce_lr_2 = ReduceLROnPlateau(monitor = 'val_loss', factor = 0.2, patience = 2, verbose = 1, min_delta = 0.0001)\n",
        "\n",
        "tbc_2=TensorBoardColab()"
      ],
      "execution_count": 0,
      "outputs": [
        {
          "output_type": "stream",
          "text": [
            "Wait for 8 seconds...\n",
            "TensorBoard link:\n",
            "https://6f9e244c.ngrok.io\n"
          ],
          "name": "stdout"
        }
      ]
    },
    {
      "cell_type": "code",
      "metadata": {
        "id": "ZGww57ICV2_9",
        "colab_type": "code",
        "colab": {}
      },
      "source": [
        "callbacks_list = [checkpoint_2, TensorBoardColabCallback(tbc_2)]\n",
        "\n",
        "train_2 = [padded_train_essay_new,\n",
        "           school_state_encoded_train,\n",
        "           project_grade_cat_encoded_train,\n",
        "           category_encoded_train,\n",
        "           teacher_prefix_encoded_train,\n",
        "           subcategory_encoded_train,\n",
        "           remaining_train]\n",
        "\n",
        "\n",
        "cv_2 = [padded_cv_essay_new,\n",
        "           school_state_encoded_cv,\n",
        "           project_grade_cat_encoded_cv,\n",
        "           category_encoded_cv,\n",
        "           teacher_prefix_encoded_cv,\n",
        "           subcategory_encoded_cv,\n",
        "           remaining_cv]\n",
        "\n",
        "test_2 = [padded_test_essay_new,\n",
        "           school_state_encoded_test,\n",
        "           project_grade_cat_encoded_test,\n",
        "           category_encoded_test,\n",
        "           teacher_prefix_encoded_test,\n",
        "           subcategory_encoded_test,\n",
        "           remaining_test]"
      ],
      "execution_count": 0,
      "outputs": []
    },
    {
      "cell_type": "code",
      "metadata": {
        "id": "-NrJqLUbVVzy",
        "colab_type": "code",
        "outputId": "86d70c65-b9cd-4a56-c94a-142a59d2c1a5",
        "colab": {
          "base_uri": "https://localhost:8080/",
          "height": 1000
        }
      },
      "source": [
        "# model_2.compile(optimizer='adam', loss='categorical_crossentropy', metrics=[auroc])\n",
        "model_2.compile(loss='categorical_crossentropy', optimizer=optimizers.Adam(lr=0.0006,decay = 1e-4),metrics=[auroc])\n",
        "history_2 = model_2.fit(train_2,Y_train,validation_data=(cv_2,Y_cv),epochs=50,batch_size=512,verbose=1,callbacks=callbacks_list)"
      ],
      "execution_count": 0,
      "outputs": [
        {
          "output_type": "stream",
          "text": [
            "Train on 69918 samples, validate on 17480 samples\n",
            "Epoch 1/50\n",
            "69918/69918 [==============================] - 118s 2ms/step - loss: 0.9592 - auroc: 0.5416 - val_loss: 0.7789 - val_auroc: 0.5906\n",
            "\n",
            "Epoch 00001: val_auroc improved from -inf to 0.59057, saving model to /content/gdrive/My Drive/model-weights-lstm/weights-improvement-01-0.59.hdf5\n",
            "WARNING:tensorflow:From /usr/local/lib/python3.6/dist-packages/tensorboardcolab/callbacks.py:51: The name tf.Summary is deprecated. Please use tf.compat.v1.Summary instead.\n",
            "\n",
            "Epoch 2/50\n",
            "69918/69918 [==============================] - 120s 2ms/step - loss: 0.7046 - auroc: 0.6163 - val_loss: 0.6525 - val_auroc: 0.6492\n",
            "\n",
            "Epoch 00002: val_auroc improved from 0.59057 to 0.64923, saving model to /content/gdrive/My Drive/model-weights-lstm/weights-improvement-02-0.65.hdf5\n",
            "Epoch 3/50\n",
            "69918/69918 [==============================] - 117s 2ms/step - loss: 0.6136 - auroc: 0.6500 - val_loss: 0.5941 - val_auroc: 0.6834\n",
            "\n",
            "Epoch 00003: val_auroc improved from 0.64923 to 0.68342, saving model to /content/gdrive/My Drive/model-weights-lstm/weights-improvement-03-0.68.hdf5\n",
            "Epoch 4/50\n",
            "69918/69918 [==============================] - 118s 2ms/step - loss: 0.5653 - auroc: 0.6654 - val_loss: 0.5361 - val_auroc: 0.6896\n",
            "\n",
            "Epoch 00004: val_auroc improved from 0.68342 to 0.68962, saving model to /content/gdrive/My Drive/model-weights-lstm/weights-improvement-04-0.69.hdf5\n",
            "Epoch 5/50\n",
            "69918/69918 [==============================] - 118s 2ms/step - loss: 0.5298 - auroc: 0.6682 - val_loss: 0.5135 - val_auroc: 0.6866\n",
            "\n",
            "Epoch 00005: val_auroc did not improve from 0.68962\n",
            "Epoch 6/50\n",
            "69918/69918 [==============================] - 121s 2ms/step - loss: 0.5219 - auroc: 0.6429 - val_loss: 0.5895 - val_auroc: 0.6678\n",
            "\n",
            "Epoch 00006: val_auroc did not improve from 0.68962\n",
            "Epoch 7/50\n",
            "69918/69918 [==============================] - 122s 2ms/step - loss: 0.4861 - auroc: 0.6820 - val_loss: 0.5016 - val_auroc: 0.6950\n",
            "\n",
            "Epoch 00007: val_auroc improved from 0.68962 to 0.69496, saving model to /content/gdrive/My Drive/model-weights-lstm/weights-improvement-07-0.69.hdf5\n",
            "Epoch 8/50\n",
            "69918/69918 [==============================] - 118s 2ms/step - loss: 0.4670 - auroc: 0.6929 - val_loss: 0.4836 - val_auroc: 0.7023\n",
            "\n",
            "Epoch 00008: val_auroc improved from 0.69496 to 0.70232, saving model to /content/gdrive/My Drive/model-weights-lstm/weights-improvement-08-0.70.hdf5\n",
            "Epoch 9/50\n",
            "69918/69918 [==============================] - 116s 2ms/step - loss: 0.4551 - auroc: 0.6929 - val_loss: 0.4773 - val_auroc: 0.6461\n",
            "\n",
            "Epoch 00009: val_auroc did not improve from 0.70232\n",
            "Epoch 10/50\n",
            "69918/69918 [==============================] - 116s 2ms/step - loss: 0.4573 - auroc: 0.6703 - val_loss: 0.4669 - val_auroc: 0.7023\n",
            "\n",
            "Epoch 00010: val_auroc did not improve from 0.70232\n",
            "Epoch 11/50\n",
            "69918/69918 [==============================] - 116s 2ms/step - loss: 0.4367 - auroc: 0.6985 - val_loss: 0.4419 - val_auroc: 0.7066\n",
            "\n",
            "Epoch 00011: val_auroc improved from 0.70232 to 0.70658, saving model to /content/gdrive/My Drive/model-weights-lstm/weights-improvement-11-0.71.hdf5\n",
            "Epoch 12/50\n",
            "69918/69918 [==============================] - 115s 2ms/step - loss: 0.4293 - auroc: 0.7028 - val_loss: 0.4369 - val_auroc: 0.7075\n",
            "\n",
            "Epoch 00012: val_auroc improved from 0.70658 to 0.70752, saving model to /content/gdrive/My Drive/model-weights-lstm/weights-improvement-12-0.71.hdf5\n",
            "Epoch 13/50\n",
            "69918/69918 [==============================] - 118s 2ms/step - loss: 0.4238 - auroc: 0.7075 - val_loss: 0.4212 - val_auroc: 0.7114\n",
            "\n",
            "Epoch 00013: val_auroc improved from 0.70752 to 0.71136, saving model to /content/gdrive/My Drive/model-weights-lstm/weights-improvement-13-0.71.hdf5\n",
            "Epoch 14/50\n",
            "69918/69918 [==============================] - 117s 2ms/step - loss: 0.4231 - auroc: 0.7018 - val_loss: 0.4227 - val_auroc: 0.7118\n",
            "\n",
            "Epoch 00014: val_auroc improved from 0.71136 to 0.71182, saving model to /content/gdrive/My Drive/model-weights-lstm/weights-improvement-14-0.71.hdf5\n",
            "Epoch 15/50\n",
            "69918/69918 [==============================] - 117s 2ms/step - loss: 0.4238 - auroc: 0.7071 - val_loss: 0.4211 - val_auroc: 0.7128\n",
            "\n",
            "Epoch 00015: val_auroc improved from 0.71182 to 0.71282, saving model to /content/gdrive/My Drive/model-weights-lstm/weights-improvement-15-0.71.hdf5\n",
            "Epoch 16/50\n",
            "69918/69918 [==============================] - 118s 2ms/step - loss: 0.4171 - auroc: 0.7099 - val_loss: 0.4157 - val_auroc: 0.7120\n",
            "\n",
            "Epoch 00016: val_auroc did not improve from 0.71282\n",
            "Epoch 17/50\n",
            "69918/69918 [==============================] - 119s 2ms/step - loss: 0.4107 - auroc: 0.7164 - val_loss: 0.4137 - val_auroc: 0.7126\n",
            "\n",
            "Epoch 00017: val_auroc did not improve from 0.71282\n",
            "Epoch 18/50\n",
            "69918/69918 [==============================] - 122s 2ms/step - loss: 0.4097 - auroc: 0.7152 - val_loss: 0.4091 - val_auroc: 0.7115\n",
            "\n",
            "Epoch 00018: val_auroc did not improve from 0.71282\n",
            "Epoch 19/50\n",
            "69918/69918 [==============================] - 117s 2ms/step - loss: 0.4079 - auroc: 0.7200 - val_loss: 0.4129 - val_auroc: 0.7124\n",
            "\n",
            "Epoch 00019: val_auroc did not improve from 0.71282\n",
            "Epoch 20/50\n",
            "69918/69918 [==============================] - 116s 2ms/step - loss: 0.4063 - auroc: 0.7218 - val_loss: 0.4066 - val_auroc: 0.7144\n",
            "\n",
            "Epoch 00020: val_auroc improved from 0.71282 to 0.71445, saving model to /content/gdrive/My Drive/model-weights-lstm/weights-improvement-20-0.71.hdf5\n",
            "Epoch 21/50\n",
            "69918/69918 [==============================] - 116s 2ms/step - loss: 0.4031 - auroc: 0.7243 - val_loss: 0.4146 - val_auroc: 0.7118\n",
            "\n",
            "Epoch 00021: val_auroc did not improve from 0.71445\n",
            "Epoch 22/50\n",
            "69918/69918 [==============================] - 116s 2ms/step - loss: 0.4011 - auroc: 0.7263 - val_loss: 0.4071 - val_auroc: 0.7155\n",
            "\n",
            "Epoch 00022: val_auroc improved from 0.71445 to 0.71548, saving model to /content/gdrive/My Drive/model-weights-lstm/weights-improvement-22-0.72.hdf5\n",
            "Epoch 23/50\n",
            "69918/69918 [==============================] - 116s 2ms/step - loss: 0.4010 - auroc: 0.7287 - val_loss: 0.4097 - val_auroc: 0.7144\n",
            "\n",
            "Epoch 00023: val_auroc did not improve from 0.71548\n",
            "Epoch 24/50\n",
            "69918/69918 [==============================] - 118s 2ms/step - loss: 0.3993 - auroc: 0.7297 - val_loss: 0.4097 - val_auroc: 0.7179\n",
            "\n",
            "Epoch 00024: val_auroc improved from 0.71548 to 0.71792, saving model to /content/gdrive/My Drive/model-weights-lstm/weights-improvement-24-0.72.hdf5\n",
            "Epoch 25/50\n",
            "69918/69918 [==============================] - 117s 2ms/step - loss: 0.4001 - auroc: 0.7312 - val_loss: 0.4119 - val_auroc: 0.7137\n",
            "\n",
            "Epoch 00025: val_auroc did not improve from 0.71792\n",
            "Epoch 26/50\n",
            "69918/69918 [==============================] - 116s 2ms/step - loss: 0.3962 - auroc: 0.7336 - val_loss: 0.4171 - val_auroc: 0.7144\n",
            "\n",
            "Epoch 00026: val_auroc did not improve from 0.71792\n",
            "Epoch 27/50\n",
            "69918/69918 [==============================] - 117s 2ms/step - loss: 0.3947 - auroc: 0.7379 - val_loss: 0.4047 - val_auroc: 0.7178\n",
            "\n",
            "Epoch 00027: val_auroc did not improve from 0.71792\n",
            "Epoch 28/50\n",
            "69918/69918 [==============================] - 117s 2ms/step - loss: 0.3936 - auroc: 0.7390 - val_loss: 0.4065 - val_auroc: 0.7200\n",
            "\n",
            "Epoch 00028: val_auroc improved from 0.71792 to 0.72000, saving model to /content/gdrive/My Drive/model-weights-lstm/weights-improvement-28-0.72.hdf5\n",
            "Epoch 29/50\n",
            "69918/69918 [==============================] - 121s 2ms/step - loss: 0.3955 - auroc: 0.7381 - val_loss: 0.4070 - val_auroc: 0.7183\n",
            "\n",
            "Epoch 00029: val_auroc did not improve from 0.72000\n",
            "Epoch 30/50\n",
            "69918/69918 [==============================] - 118s 2ms/step - loss: 0.3939 - auroc: 0.7424 - val_loss: 0.4136 - val_auroc: 0.7169\n",
            "\n",
            "Epoch 00030: val_auroc did not improve from 0.72000\n",
            "Epoch 31/50\n",
            "69918/69918 [==============================] - 116s 2ms/step - loss: 0.3921 - auroc: 0.7437 - val_loss: 0.4039 - val_auroc: 0.7160\n",
            "\n",
            "Epoch 00031: val_auroc did not improve from 0.72000\n",
            "Epoch 32/50\n",
            "69918/69918 [==============================] - 116s 2ms/step - loss: 0.3906 - auroc: 0.7474 - val_loss: 0.4119 - val_auroc: 0.7118\n",
            "\n",
            "Epoch 00032: val_auroc did not improve from 0.72000\n",
            "Epoch 33/50\n",
            "69918/69918 [==============================] - 116s 2ms/step - loss: 0.3899 - auroc: 0.7503 - val_loss: 0.4049 - val_auroc: 0.7163\n",
            "\n",
            "Epoch 00033: val_auroc did not improve from 0.72000\n",
            "Epoch 34/50\n",
            "69918/69918 [==============================] - 116s 2ms/step - loss: 0.3870 - auroc: 0.7519 - val_loss: 0.4183 - val_auroc: 0.7182\n",
            "\n",
            "Epoch 00034: val_auroc did not improve from 0.72000\n",
            "Epoch 35/50\n",
            "69918/69918 [==============================] - 116s 2ms/step - loss: 0.3864 - auroc: 0.7548 - val_loss: 0.4064 - val_auroc: 0.7190\n",
            "\n",
            "Epoch 00035: val_auroc did not improve from 0.72000\n",
            "Epoch 36/50\n",
            "69918/69918 [==============================] - 117s 2ms/step - loss: 0.3841 - auroc: 0.7587 - val_loss: 0.4123 - val_auroc: 0.7194\n",
            "\n",
            "Epoch 00036: val_auroc did not improve from 0.72000\n",
            "Epoch 37/50\n",
            "69918/69918 [==============================] - 116s 2ms/step - loss: 0.3831 - auroc: 0.7612 - val_loss: 0.4166 - val_auroc: 0.7169\n",
            "\n",
            "Epoch 00037: val_auroc did not improve from 0.72000\n",
            "Epoch 38/50\n",
            "69918/69918 [==============================] - 117s 2ms/step - loss: 0.3795 - auroc: 0.7630 - val_loss: 0.4120 - val_auroc: 0.7167\n",
            "\n",
            "Epoch 00038: val_auroc did not improve from 0.72000\n",
            "Epoch 39/50\n",
            "69918/69918 [==============================] - 116s 2ms/step - loss: 0.3803 - auroc: 0.7654 - val_loss: 0.4128 - val_auroc: 0.7171\n",
            "\n",
            "Epoch 00039: val_auroc did not improve from 0.72000\n",
            "Epoch 40/50\n",
            "69918/69918 [==============================] - 121s 2ms/step - loss: 0.3761 - auroc: 0.7688 - val_loss: 0.4097 - val_auroc: 0.7161\n",
            "\n",
            "Epoch 00040: val_auroc did not improve from 0.72000\n",
            "Epoch 41/50\n",
            "69918/69918 [==============================] - 120s 2ms/step - loss: 0.3741 - auroc: 0.7732 - val_loss: 0.4143 - val_auroc: 0.7145\n",
            "\n",
            "Epoch 00041: val_auroc did not improve from 0.72000\n",
            "Epoch 42/50\n",
            "69918/69918 [==============================] - 116s 2ms/step - loss: 0.3728 - auroc: 0.7752 - val_loss: 0.4088 - val_auroc: 0.7128\n",
            "\n",
            "Epoch 00042: val_auroc did not improve from 0.72000\n",
            "Epoch 43/50\n",
            "69918/69918 [==============================] - 116s 2ms/step - loss: 0.3707 - auroc: 0.7778 - val_loss: 0.4204 - val_auroc: 0.7152\n",
            "\n",
            "Epoch 00043: val_auroc did not improve from 0.72000\n",
            "Epoch 44/50\n",
            "69918/69918 [==============================] - 115s 2ms/step - loss: 0.3673 - auroc: 0.7813 - val_loss: 0.4274 - val_auroc: 0.7070\n",
            "\n",
            "Epoch 00044: val_auroc did not improve from 0.72000\n",
            "Epoch 45/50\n",
            "69918/69918 [==============================] - 115s 2ms/step - loss: 0.3671 - auroc: 0.7818 - val_loss: 0.4222 - val_auroc: 0.7117\n",
            "\n",
            "Epoch 00045: val_auroc did not improve from 0.72000\n",
            "Epoch 46/50\n",
            "69918/69918 [==============================] - 116s 2ms/step - loss: 0.3675 - auroc: 0.7835 - val_loss: 0.4456 - val_auroc: 0.7081\n",
            "\n",
            "Epoch 00046: val_auroc did not improve from 0.72000\n",
            "Epoch 47/50\n",
            "69918/69918 [==============================] - 118s 2ms/step - loss: 0.3650 - auroc: 0.7886 - val_loss: 0.4144 - val_auroc: 0.7111\n",
            "\n",
            "Epoch 00047: val_auroc did not improve from 0.72000\n",
            "Epoch 48/50\n",
            "69918/69918 [==============================] - 116s 2ms/step - loss: 0.3634 - auroc: 0.7888 - val_loss: 0.4145 - val_auroc: 0.7088\n",
            "\n",
            "Epoch 00048: val_auroc did not improve from 0.72000\n",
            "Epoch 49/50\n",
            "69918/69918 [==============================] - 116s 2ms/step - loss: 0.3605 - auroc: 0.7953 - val_loss: 0.4190 - val_auroc: 0.7099\n",
            "\n",
            "Epoch 00049: val_auroc did not improve from 0.72000\n",
            "Epoch 50/50\n",
            "69918/69918 [==============================] - 117s 2ms/step - loss: 0.3610 - auroc: 0.7962 - val_loss: 0.4282 - val_auroc: 0.7079\n",
            "\n",
            "Epoch 00050: val_auroc did not improve from 0.72000\n"
          ],
          "name": "stdout"
        }
      ]
    },
    {
      "cell_type": "code",
      "metadata": {
        "id": "vN5535ChYCyu",
        "colab_type": "code",
        "colab": {}
      },
      "source": [
        "#https://stackoverflow.com/posts/54978213/revisions\n",
        "custom_objects = {\"auroc\":auroc}\n",
        "from keras.models import load_model\n",
        "best_model_2 = load_model('/content/gdrive/My Drive/model-weights-lstm/weights-improvement-28-0.72.hdf5',custom_objects=custom_objects)"
      ],
      "execution_count": 0,
      "outputs": []
    },
    {
      "cell_type": "code",
      "metadata": {
        "id": "oar9hXCJYtU5",
        "colab_type": "code",
        "outputId": "12bb8b17-74ea-4f60-f8d8-33a33ca08ecb",
        "colab": {
          "base_uri": "https://localhost:8080/",
          "height": 69
        }
      },
      "source": [
        "result = best_model_2.evaluate(x=test_2, y=Y_test, batch_size=512)\n",
        "print(\"{} of test data {}\". format(best_model_2.metrics_names[0],result[0]))\n",
        "print(\"{} of test data {}\". format(best_model_2.metrics_names[1],result[1]))"
      ],
      "execution_count": 0,
      "outputs": [
        {
          "output_type": "stream",
          "text": [
            "21850/21850 [==============================] - 15s 673us/step\n",
            "loss of test data 0.405921457484876\n",
            "auroc of test data 0.7163328799352613\n"
          ],
          "name": "stdout"
        }
      ]
    },
    {
      "cell_type": "code",
      "metadata": {
        "id": "oWgEnq4gY_Qy",
        "colab_type": "code",
        "outputId": "31f75635-a532-4b93-ab12-402196358b02",
        "colab": {
          "base_uri": "https://localhost:8080/",
          "height": 34
        }
      },
      "source": [
        "from sklearn.metrics import roc_auc_score\n",
        "roc_auc_score(Y_test,best_model_2.predict(test_2,batch_size=512))"
      ],
      "execution_count": 0,
      "outputs": [
        {
          "output_type": "execute_result",
          "data": {
            "text/plain": [
              "0.7158541673812986"
            ]
          },
          "metadata": {
            "tags": []
          },
          "execution_count": 52
        }
      ]
    },
    {
      "cell_type": "code",
      "metadata": {
        "id": "FN5j_yNfYH2b",
        "colab_type": "code",
        "outputId": "1ee9df98-7914-466e-ec85-3fd65b8d2128",
        "colab": {
          "base_uri": "https://localhost:8080/",
          "height": 553
        }
      },
      "source": [
        "best_model_2.save(working_dir+\"best_model_2.h5\")\n",
        "\n",
        "fig,ax = plt.subplots(1,1)\n",
        "ax.set_xlabel('epoch') ; ax.set_ylabel('binary Crossentropy Loss')\n",
        "\n",
        "# list of epoch numbers\n",
        "x = list(range(1,50+1))\n",
        "\n",
        "# print(history.history.keys())\n",
        "# dict_keys(['val_loss', 'val_acc', 'loss', 'acc'])\n",
        "# history = model_drop.fit(X_train, Y_train, batch_size=batch_size, epochs=nb_epoch, verbose=1, validation_data=(X_test, Y_test))\n",
        "\n",
        "# we will get val_loss and val_acc only when you pass the paramter validation_data\n",
        "# val_loss : validation loss\n",
        "# val_acc : validation accuracy\n",
        "\n",
        "# loss : training loss\n",
        "# acc : train accuracy\n",
        "# for each key in histrory.histrory we will have a list of length equal to number of epochs\n",
        "\n",
        "\n",
        "vy = history_2.history['val_loss']\n",
        "ty = history_2.history['loss']\n",
        "plt_dynamic(x, vy, ty, ax)\n",
        "\n",
        "\n",
        "def plt_dynamic_auc(x, vy, ty, ax, colors=['b']):\n",
        "    ax.plot(x, vy, 'b', label=\"Validation auc\")\n",
        "    ax.plot(x, ty, 'r', label=\"Train auc\")\n",
        "    plt.legend()\n",
        "    plt.grid()\n",
        "    fig.canvas.draw()\n",
        "\n",
        "\n",
        "ig,ax = plt.subplots(1,1)\n",
        "ax.set_xlabel('epoch') ; ax.set_ylabel('binary Crossentropy Loss')\n",
        "\n",
        "# list of epoch numbers\n",
        "x = list(range(1,50+1))\n",
        "\n",
        "# print(history.history.keys())\n",
        "# dict_keys(['val_loss', 'val_acc', 'loss', 'acc'])\n",
        "# history = model_drop.fit(X_train, Y_train, batch_size=batch_size, epochs=nb_epoch, verbose=1, validation_data=(X_test, Y_test))\n",
        "\n",
        "# we will get val_loss and val_acc only when you pass the paramter validation_data\n",
        "# val_loss : validation loss\n",
        "# val_acc : validation accuracy\n",
        "\n",
        "# loss : training loss\n",
        "# acc : train accuracy\n",
        "# for each key in histrory.histrory we will have a list of length equal to number of epochs\n",
        "\n",
        "\n",
        "vy = history_2.history['val_auroc']\n",
        "ty = history_2.history['auroc']\n",
        "plt_dynamic_auc(x, vy, ty, ax)"
      ],
      "execution_count": 0,
      "outputs": [
        {
          "output_type": "display_data",
          "data": {
            "image/png": "[encoded data removed]",
            "text/plain": [
              "<Figure size 432x288 with 1 Axes>"
            ]
          },
          "metadata": {
            "tags": []
          }
        },
        {
          "output_type": "display_data",
          "data": {
            "image/png": "[encoded data removed]",
            "text/plain": [
              "<Figure size 432x288 with 1 Axes>"
            ]
          },
          "metadata": {
            "tags": []
          }
        }
      ]
    },
    {
      "cell_type": "markdown",
      "metadata": {
        "id": "ATDRna-qfkWD",
        "colab_type": "text"
      },
      "source": [
        "### Model-3"
      ]
    },
    {
      "cell_type": "markdown",
      "metadata": {
        "id": "129xgZdbfkWE",
        "colab_type": "text"
      },
      "source": [
        "<img src='https://i.imgur.com/fkQ8nGo.png'>\n",
        "ref: https://i.imgur.com/fkQ8nGo.png"
      ]
    },
    {
      "cell_type": "markdown",
      "metadata": {
        "id": "sekXNaVbfkWF",
        "colab_type": "text"
      },
      "source": [
        "\n",
        "- __input_seq_total_text_data__: <br>\n",
        "<pre>\n",
        "    . Use text column('essay'), and use the Embedding layer to get word vectors. <br>\n",
        "    . Use given predefined glove word vectors, don't train any word vectors. <br>\n",
        "    . Use LSTM that is given above, get the LSTM output and Flatten that output. <br>\n",
        "    . You are free to preprocess the input text as you needed. <br>\n",
        "</pre>\n",
        "- __Other_than_text_data__:<br>\n",
        "<pre>\n",
        "    . Convert all your Categorical values to onehot coded and then concatenate all these onehot vectors <br>\n",
        "    . Neumerical values and use <a href='https://keras.io/getting-started/sequential-model-guide/#sequence-classification-with-1d-convolutions'>CNN1D</a> as shown in above figure. <br>\n",
        "    . You are free to choose all CNN parameters like kernel sizes, stride.<br>\n",
        "    \n",
        "</pre>"
      ]
    },
    {
      "cell_type": "markdown",
      "metadata": {
        "id": "T7SVYYx-5uKe",
        "colab_type": "text"
      },
      "source": [
        "#Encoding Categorical Features"
      ]
    },
    {
      "cell_type": "markdown",
      "metadata": {
        "id": "CC47QRYI54bl",
        "colab_type": "text"
      },
      "source": [
        "#### One hot encoding: clean_categories\n"
      ]
    },
    {
      "cell_type": "code",
      "metadata": {
        "id": "61EcLvMsaqp2",
        "colab_type": "code",
        "colab": {}
      },
      "source": [
        "my_counter = Counter()\n",
        "for word in X_train['clean_categories'].values:\n",
        "    my_counter.update(word.split())\n",
        "\n",
        "cat_dict = dict(my_counter)\n",
        "sorted_cat_dict = dict(sorted(cat_dict.items(), key=lambda kv: kv[1]))"
      ],
      "execution_count": 0,
      "outputs": []
    },
    {
      "cell_type": "code",
      "metadata": {
        "id": "QiQH9kuO6ELt",
        "colab_type": "code",
        "colab": {
          "base_uri": "https://localhost:8080/",
          "height": 176
        },
        "outputId": "4b21444f-4d65-4042-f5a8-83c0cb44268e"
      },
      "source": [
        "# we use count vectorizer to convert the values into one \n",
        "vectorizer_category = CountVectorizer(vocabulary=list(sorted_cat_dict.keys()), lowercase=False, binary=True)\n",
        "vectorizer_category.fit(X_train['clean_categories'].values)\n",
        "\n",
        "X_train_category_ohe = vectorizer_category.transform(X_train['clean_categories'].values)\n",
        "X_cv_category_ohe = vectorizer_category.transform(X_cv['clean_categories'].values)\n",
        "X_test_category_ohe = vectorizer_category.transform(X_test['clean_categories'].values)\n",
        "\n",
        "print(vectorizer_category.get_feature_names())\n",
        "print(\"Shape of X_train after one hot encodig \",X_train_category_ohe.shape)\n",
        "print(\"Shape of X_cv after one hot encodig \",X_cv_category_ohe.shape)\n",
        "print(\"Shape of X_test after one hot encodig \",X_test_category_ohe.shape)\n",
        "print(\"Print some random encoded categories: \")\n",
        "print(X_train_category_ohe[0].toarray())\n",
        "print(X_cv_category_ohe[0].toarray())\n",
        "print(X_test_category_ohe[15].toarray())"
      ],
      "execution_count": 123,
      "outputs": [
        {
          "output_type": "stream",
          "text": [
            "['warmth', 'care_hunger', 'history_civics', 'music_arts', 'appliedlearning', 'specialneeds', 'health_sports', 'math_science', 'literacy_language']\n",
            "Shape of X_train after one hot encodig  (69918, 9)\n",
            "Shape of X_cv after one hot encodig  (17480, 9)\n",
            "Shape of X_test after one hot encodig  (21850, 9)\n",
            "Print some random encoded categories: \n",
            "[[0 0 0 0 0 1 0 0 0]]\n",
            "[[0 0 0 0 0 0 0 1 0]]\n",
            "[[0 0 0 0 0 0 1 0 0]]\n"
          ],
          "name": "stdout"
        }
      ]
    },
    {
      "cell_type": "markdown",
      "metadata": {
        "id": "h-rpuxXm69fS",
        "colab_type": "text"
      },
      "source": [
        "#### One hot encoding: clean_subcategories\n"
      ]
    },
    {
      "cell_type": "code",
      "metadata": {
        "id": "2PfZtHpY67_V",
        "colab_type": "code",
        "colab": {
          "base_uri": "https://localhost:8080/",
          "height": 176
        },
        "outputId": "3d0c0e10-4728-4881-e3e8-f368e990a79e"
      },
      "source": [
        "# count of all the words in corpus python: https://stackoverflow.com/a/22898595/4084039\n",
        "my_counter = Counter()\n",
        "for word in X_train['clean_subcategories'].values:\n",
        "    my_counter.update(word.split())\n",
        "    \n",
        "sub_cat_dict = dict(my_counter)\n",
        "sorted_sub_cat_dict = dict(sorted(sub_cat_dict.items(), key=lambda kv: kv[1]))\n",
        "\n",
        "# we use count vectorizer to convert the values into one \n",
        "vectorizer_subcategory = CountVectorizer(vocabulary=list(sorted_sub_cat_dict.keys()), lowercase=False, binary=True)\n",
        "vectorizer_subcategory.fit(X_train['clean_subcategories'].values)\n",
        "\n",
        "X_train_subcategory_ohe = vectorizer_subcategory.transform(X_train['clean_subcategories'].values)\n",
        "X_cv_subcategory_ohe = vectorizer_subcategory.transform(X_cv['clean_subcategories'].values)\n",
        "X_test_subcategory_ohe = vectorizer_subcategory.transform(X_test['clean_subcategories'].values)\n",
        "\n",
        "print(vectorizer_subcategory.get_feature_names())\n",
        "print(\"Shape of X_train subcategory after one hot encoding \",X_train_subcategory_ohe.shape)\n",
        "print(\"Shape of X_cv subcategory after one hot encoding \",X_cv_subcategory_ohe.shape)\n",
        "print(\"Shape of X_test subcategory after one hot encoding \",X_test_subcategory_ohe.shape)\n",
        "print(\"Print some random encoded categories: \")\n",
        "\n",
        "print(X_train_subcategory_ohe[0].toarray())\n",
        "print(X_cv_subcategory_ohe[0].toarray())\n",
        "print(X_test_subcategory_ohe[10].toarray())"
      ],
      "execution_count": 124,
      "outputs": [
        {
          "output_type": "stream",
          "text": [
            "['economics', 'communityservice', 'financialliteracy', 'parentinvolvement', 'civics_government', 'extracurricular', 'foreignlanguages', 'nutritioneducation', 'warmth', 'care_hunger', 'performingarts', 'socialsciences', 'charactereducation', 'teamsports', 'other', 'college_careerprep', 'music', 'history_geography', 'health_lifescience', 'earlydevelopment', 'esl', 'gym_fitness', 'environmentalscience', 'visualarts', 'health_wellness', 'appliedsciences', 'specialneeds', 'literature_writing', 'mathematics', 'literacy']\n",
            "Shape of X_train subcategory after one hot encoding  (69918, 30)\n",
            "Shape of X_cv subcategory after one hot encoding  (17480, 30)\n",
            "Shape of X_test subcategory after one hot encoding  (21850, 30)\n",
            "Print some random encoded categories: \n",
            "[[0 0 0 0 0 0 0 0 0 0 0 0 0 0 0 0 0 0 0 0 0 0 0 0 0 0 1 0 0 0]]\n",
            "[[0 0 0 0 0 0 0 0 0 0 0 0 0 0 0 0 0 0 1 0 0 0 0 0 0 0 0 0 1 0]]\n",
            "[[0 0 0 0 0 0 0 0 0 0 0 0 0 0 0 0 0 1 0 0 0 0 0 0 0 0 0 1 0 0]]\n"
          ],
          "name": "stdout"
        }
      ]
    },
    {
      "cell_type": "markdown",
      "metadata": {
        "id": "7YHdkR1y7s_I",
        "colab_type": "text"
      },
      "source": [
        "####  One hot encoding: school_state\n"
      ]
    },
    {
      "cell_type": "code",
      "metadata": {
        "id": "j5qgkUkn7sre",
        "colab_type": "code",
        "colab": {
          "base_uri": "https://localhost:8080/",
          "height": 228
        },
        "outputId": "e398f62c-7488-4cb8-ff8a-5bcac3aee0a2"
      },
      "source": [
        "# create a vocabulary for states\n",
        "unique_states = np.unique(X_train['school_state'].values)\n",
        "\n",
        "vectorizer_state = CountVectorizer(vocabulary=unique_states,lowercase=False,binary=True)\n",
        "vectorizer_state.fit(X_train['school_state'].values)\n",
        "\n",
        "X_train_school_state_ohe = vectorizer_state.transform(X_train['school_state'].values)\n",
        "X_cv_school_state_ohe = vectorizer_state.transform(X_cv['school_state'].values)\n",
        "X_test_school_state_ohe = vectorizer_state.transform(X_test['school_state'].values)\n",
        "\n",
        "print(vectorizer_state.get_feature_names())\n",
        "print(\"Shape of X_train school_state after one hot encodig \",X_train_school_state_ohe.shape)\n",
        "print(\"Shape of X_cv school_state after one hot encodig \",X_cv_school_state_ohe.shape)\n",
        "print(\"Shape of X_test school_state after one hot encodig \",X_test_school_state_ohe.shape)\n",
        "print(\"Print some random encoded school_state: \")\n",
        "print(X_train_school_state_ohe[0].toarray())\n",
        "print(X_cv_school_state_ohe[0].toarray())\n",
        "print(X_test_school_state_ohe[15].toarray())"
      ],
      "execution_count": 125,
      "outputs": [
        {
          "output_type": "stream",
          "text": [
            "['ak', 'al', 'ar', 'az', 'ca', 'co', 'ct', 'dc', 'de', 'fl', 'ga', 'hi', 'ia', 'id', 'il', 'in', 'ks', 'ky', 'la', 'ma', 'md', 'me', 'mi', 'mn', 'mo', 'ms', 'mt', 'nc', 'nd', 'ne', 'nh', 'nj', 'nm', 'nv', 'ny', 'oh', 'ok', 'or', 'pa', 'ri', 'sc', 'sd', 'tn', 'tx', 'ut', 'va', 'vt', 'wa', 'wi', 'wv', 'wy']\n",
            "Shape of X_train school_state after one hot encodig  (69918, 51)\n",
            "Shape of X_cv school_state after one hot encodig  (17480, 51)\n",
            "Shape of X_test school_state after one hot encodig  (21850, 51)\n",
            "Print some random encoded school_state: \n",
            "[[0 1 0 0 0 0 0 0 0 0 0 0 0 0 0 0 0 0 0 0 0 0 0 0 0 0 0 0 0 0 0 0 0 0 0 0\n",
            "  0 0 0 0 0 0 0 0 0 0 0 0 0 0 0]]\n",
            "[[0 0 0 0 0 0 0 0 0 0 0 0 0 0 0 0 0 0 0 0 0 0 0 0 0 0 0 0 0 0 0 0 0 0 0 0\n",
            "  0 0 0 0 0 0 0 1 0 0 0 0 0 0 0]]\n",
            "[[0 0 0 0 0 0 0 0 0 0 0 0 0 0 0 0 0 0 0 0 0 0 0 0 0 0 0 0 0 0 0 0 0 0 1 0\n",
            "  0 0 0 0 0 0 0 0 0 0 0 0 0 0 0]]\n"
          ],
          "name": "stdout"
        }
      ]
    },
    {
      "cell_type": "markdown",
      "metadata": {
        "id": "nEly-uL49UJi",
        "colab_type": "text"
      },
      "source": [
        "#### One hot encoding: teacher_prefix\n"
      ]
    },
    {
      "cell_type": "code",
      "metadata": {
        "id": "rKWO14oO7X_7",
        "colab_type": "code",
        "colab": {
          "base_uri": "https://localhost:8080/",
          "height": 156
        },
        "outputId": "026fb0f3-636a-4f77-f8d5-60250dc4e686"
      },
      "source": [
        "unique_teacher_prefix = np.unique(X_train['teacher_prefix'])\n",
        "\n",
        "vectorizer_teacher_prefix = CountVectorizer(vocabulary=unique_teacher_prefix,lowercase=False,binary=True)\n",
        "vectorizer_teacher_prefix.fit(X_train['teacher_prefix'].values)\n",
        "\n",
        "X_train_teacher_prefix_ohe = vectorizer_teacher_prefix.transform(X_train['teacher_prefix'].values)\n",
        "X_cv_teacher_prefix_ohe = vectorizer_teacher_prefix.transform(X_cv['teacher_prefix'].values)\n",
        "X_test_teacher_prefix_ohe = vectorizer_teacher_prefix.transform(X_test['teacher_prefix'].values)\n",
        "\n",
        "print(vectorizer_teacher_prefix.get_feature_names())\n",
        "print(\"Shape of X_train clean_teacher_prefix after one hot encodig \",X_train_teacher_prefix_ohe.shape)\n",
        "print(\"Shape of X_cv clean_teacher_prefix after one hot encodig \",X_cv_teacher_prefix_ohe.shape)\n",
        "print(\"Shape of X_test clean_teacher_prefix after one hot encodig \",X_test_teacher_prefix_ohe.shape)\n",
        "print(\"Print some random encoded clean_teacher_prefix: \")\n",
        "print(X_train_teacher_prefix_ohe[0].toarray())\n",
        "print(X_cv_teacher_prefix_ohe[0].toarray())\n",
        "print(X_test_teacher_prefix_ohe[15].toarray())"
      ],
      "execution_count": 126,
      "outputs": [
        {
          "output_type": "stream",
          "text": [
            "['dr', 'mr', 'mrs', 'ms', 'teacher']\n",
            "Shape of X_train clean_teacher_prefix after one hot encodig  (69918, 5)\n",
            "Shape of X_cv clean_teacher_prefix after one hot encodig  (17480, 5)\n",
            "Shape of X_test clean_teacher_prefix after one hot encodig  (21850, 5)\n",
            "Print some random encoded clean_teacher_prefix: \n",
            "[[0 0 1 0 0]]\n",
            "[[0 1 0 0 0]]\n",
            "[[0 0 0 1 0]]\n"
          ],
          "name": "stdout"
        }
      ]
    },
    {
      "cell_type": "markdown",
      "metadata": {
        "id": "z5pAe9UTCgAK",
        "colab_type": "text"
      },
      "source": [
        "#### One hot encoding: project_grade_category\n"
      ]
    },
    {
      "cell_type": "code",
      "metadata": {
        "id": "U9UyfZQ_9x8Q",
        "colab_type": "code",
        "colab": {
          "base_uri": "https://localhost:8080/",
          "height": 156
        },
        "outputId": "4a9ccdf9-4da3-4e8b-ea8d-1c4fabbd0699"
      },
      "source": [
        "unique_grades = np.unique(X_train['project_grade_category'])\n",
        "\n",
        "vectorizer_grade = CountVectorizer(vocabulary=unique_grades,lowercase=False,binary=True)\n",
        "vectorizer_grade.fit(X_train['project_grade_category'].values)\n",
        "\n",
        "\n",
        "X_train_grade_category_ohe = vectorizer_grade.transform(X_train['project_grade_category'].values)\n",
        "X_cv_grade_category_ohe = vectorizer_grade.transform(X_cv['project_grade_category'].values)\n",
        "X_test_grade_category_ohe = vectorizer_grade.transform(X_test['project_grade_category'].values)\n",
        "\n",
        "print(vectorizer_grade.get_feature_names())\n",
        "print(\"Shape of X_train clean_grade_category after one hot encodig \",X_train_grade_category_ohe.shape)\n",
        "print(\"Shape of X_cv clean_grade_category after one hot encodig \",X_cv_grade_category_ohe.shape)\n",
        "print(\"Shape of X_test clean_grade_category after one hot encodig \",X_test_grade_category_ohe.shape)\n",
        "print(\"Print some random encoded clean_grade_category: \")\n",
        "print(X_train_grade_category_ohe[0].toarray())\n",
        "print(X_cv_grade_category_ohe[0].toarray())\n",
        "print(X_test_grade_category_ohe[15].toarray())"
      ],
      "execution_count": 127,
      "outputs": [
        {
          "output_type": "stream",
          "text": [
            "['grades_3_5', 'grades_6_8', 'grades_9_12', 'grades_prek_2']\n",
            "Shape of X_train clean_grade_category after one hot encodig  (69918, 4)\n",
            "Shape of X_cv clean_grade_category after one hot encodig  (17480, 4)\n",
            "Shape of X_test clean_grade_category after one hot encodig  (21850, 4)\n",
            "Print some random encoded clean_grade_category: \n",
            "[[1 0 0 0]]\n",
            "[[1 0 0 0]]\n",
            "[[0 1 0 0]]\n"
          ],
          "name": "stdout"
        }
      ]
    },
    {
      "cell_type": "code",
      "metadata": {
        "id": "1ohu9TQgDFkW",
        "colab_type": "code",
        "colab": {
          "base_uri": "https://localhost:8080/",
          "height": 139
        },
        "outputId": "65db263e-c9aa-4c49-982b-8ca21c347a51"
      },
      "source": [
        "print(X_train_category_ohe.shape)\n",
        "print(X_train_subcategory_ohe.shape)\n",
        "print(X_train_school_state_ohe.shape)\n",
        "print(X_train_grade_category_ohe.shape)\n",
        "print(X_train_teacher_prefix_ohe.shape)\n",
        "print(X_train_normal_previous_project.shape)\n",
        "print(X_train_price_normalized.shape)"
      ],
      "execution_count": 128,
      "outputs": [
        {
          "output_type": "stream",
          "text": [
            "(69918, 9)\n",
            "(69918, 30)\n",
            "(69918, 51)\n",
            "(69918, 4)\n",
            "(69918, 5)\n",
            "(69918, 1)\n",
            "(69918, 1)\n"
          ],
          "name": "stdout"
        }
      ]
    },
    {
      "cell_type": "code",
      "metadata": {
        "id": "N9RQ6E9p-WmN",
        "colab_type": "code",
        "colab": {}
      },
      "source": [
        "f1 = X_train_school_state_ohe\n",
        "f2 = X_train_category_ohe\n",
        "f3 = X_train_subcategory_ohe\n",
        "f4 = X_train_grade_category_ohe\n",
        "f5 = X_train_teacher_prefix_ohe\n",
        "f6 = np.array(X_train_price_normalized)\n",
        "f7 = np.array(X_train_normal_previous_project)\n",
        "remaining_xtrain = hstack((f1,f2,f3,f4,f5,f6,f7))"
      ],
      "execution_count": 0,
      "outputs": []
    },
    {
      "cell_type": "code",
      "metadata": {
        "id": "P6s7pheSNE5N",
        "colab_type": "code",
        "colab": {}
      },
      "source": [
        "remaining_xtrain = np.array(remaining_xtrain.todense())\n",
        "remaining_xtrain = np.expand_dims(remaining_xtrain,2)#remaining_xtrain.reshape(remaining_xtrain.shape[0],remaining_xtrain.shape[1],1)"
      ],
      "execution_count": 0,
      "outputs": []
    },
    {
      "cell_type": "code",
      "metadata": {
        "id": "l6mVnPB4N1hk",
        "colab_type": "code",
        "colab": {
          "base_uri": "https://localhost:8080/",
          "height": 34
        },
        "outputId": "23548efc-cc1d-4941-f280-2a40599d732d"
      },
      "source": [
        "remaining_xtrain.shape"
      ],
      "execution_count": 131,
      "outputs": [
        {
          "output_type": "execute_result",
          "data": {
            "text/plain": [
              "(69918, 101, 1)"
            ]
          },
          "metadata": {
            "tags": []
          },
          "execution_count": 131
        }
      ]
    },
    {
      "cell_type": "code",
      "metadata": {
        "id": "R_ERZtbYJeXg",
        "colab_type": "code",
        "colab": {
          "base_uri": "https://localhost:8080/",
          "height": 34
        },
        "outputId": "9ab176a8-7e61-4b09-8980-329faef595a1"
      },
      "source": [
        "f1 = X_cv_school_state_ohe\n",
        "f2 = X_cv_category_ohe\n",
        "f3 = X_cv_subcategory_ohe\n",
        "f4 = X_cv_grade_category_ohe\n",
        "f5 = X_cv_teacher_prefix_ohe\n",
        "f6 = np.array(X_cv_price_normalized)\n",
        "f7 = np.array(X_cv_normal_previous_project)\n",
        "remaining_xcv = hstack((f1,f2,f3,f4,f5,f6,f7))\n",
        "print(remaining_xcv.shape)"
      ],
      "execution_count": 132,
      "outputs": [
        {
          "output_type": "stream",
          "text": [
            "(17480, 101)\n"
          ],
          "name": "stdout"
        }
      ]
    },
    {
      "cell_type": "code",
      "metadata": {
        "id": "YXr-SmzmPt0l",
        "colab_type": "code",
        "colab": {
          "base_uri": "https://localhost:8080/",
          "height": 34
        },
        "outputId": "b4faab93-f02f-46a5-c0d4-fafc46712de5"
      },
      "source": [
        "remaining_xcv  = np.array(remaining_xcv.todense())\n",
        "remaining_xcv = np.expand_dims(remaining_xcv,2)\n",
        "remaining_xcv.shape"
      ],
      "execution_count": 133,
      "outputs": [
        {
          "output_type": "execute_result",
          "data": {
            "text/plain": [
              "(17480, 101, 1)"
            ]
          },
          "metadata": {
            "tags": []
          },
          "execution_count": 133
        }
      ]
    },
    {
      "cell_type": "code",
      "metadata": {
        "id": "M2vzIOvQJeKO",
        "colab_type": "code",
        "colab": {
          "base_uri": "https://localhost:8080/",
          "height": 34
        },
        "outputId": "e3e121cb-59e3-461e-fdaa-14e1163d60e6"
      },
      "source": [
        "f1 = X_test_school_state_ohe\n",
        "f2 = X_test_category_ohe\n",
        "f3 = X_test_subcategory_ohe\n",
        "f4 = X_test_grade_category_ohe\n",
        "f5 = X_test_teacher_prefix_ohe\n",
        "f6 = np.array(X_test_price_normalized)\n",
        "f7 = np.array(X_test_normal_previous_project)\n",
        "remaining_xtest = hstack((f1,f2,f3,f4,f5,f6,f7))\n",
        "print(remaining_xtest.shape)"
      ],
      "execution_count": 134,
      "outputs": [
        {
          "output_type": "stream",
          "text": [
            "(21850, 101)\n"
          ],
          "name": "stdout"
        }
      ]
    },
    {
      "cell_type": "code",
      "metadata": {
        "id": "ETL3uGs6P-5s",
        "colab_type": "code",
        "colab": {
          "base_uri": "https://localhost:8080/",
          "height": 34
        },
        "outputId": "5ffb32a1-a162-44e0-9cfe-cabdcc06fa99"
      },
      "source": [
        "remaining_xtest  = np.array(remaining_xtest.todense())\n",
        "remaining_xtest = np.expand_dims(remaining_xtest,2)\n",
        "remaining_xtest.shape"
      ],
      "execution_count": 135,
      "outputs": [
        {
          "output_type": "execute_result",
          "data": {
            "text/plain": [
              "(21850, 101, 1)"
            ]
          },
          "metadata": {
            "tags": []
          },
          "execution_count": 135
        }
      ]
    },
    {
      "cell_type": "code",
      "metadata": {
        "id": "2VVht4oHE40J",
        "colab_type": "code",
        "colab": {
          "base_uri": "https://localhost:8080/",
          "height": 746
        },
        "outputId": "f254a5b7-1199-4049-866a-c56003303cc8"
      },
      "source": [
        "# https://stats.stackexchange.com/questions/270546/how-does-keras-embedding-layer-work\n",
        "\n",
        "#First Input : Essays\n",
        "essay_input = Input(shape=(300,), name='essay_input')\n",
        "embedding = Embedding(input_dim=vocab_size,output_dim=300,weights=[embedding_matrix_train],input_length=300, trainable=False)(essay_input)\n",
        "lstm_output = LSTM(units=150,dropout=0.5,return_sequences=True)(embedding)\n",
        "flatten_1 = Flatten()(lstm_output)\n",
        "\n",
        "#Remaining Input\n",
        "remaining_input = Input(shape=(101,1),name='remaining_input')\n",
        "\n",
        "x = Conv1D(filters=128, kernel_size = 3, padding='valid', activation='relu', kernel_initializer='he_normal',)(remaining_input)\n",
        "x = Conv1D(filters=128, kernel_size = 3, padding='valid', activation='relu', kernel_initializer='he_normal',)(x)\n",
        "x = Flatten()(x)\n",
        "\n",
        "#concatenating all inputs together\n",
        "cacatenated_inputs = concatenate([flatten_1, x])\n",
        "\n",
        "x = Dense(256, activation='relu',kernel_initializer=\"he_normal\",kernel_regularizer=l2(0.001))(cacatenated_inputs)\n",
        "x = Dropout(.5)(x)\n",
        "x = Dense(128, activation='relu',kernel_initializer=\"he_normal\",kernel_regularizer=l2(0.001))(x)\n",
        "x = Dropout(.5)(x)\n",
        "x = BatchNormalization()(x)\n",
        "x = Dense(64, activation='relu',kernel_initializer=\"he_normal\",kernel_regularizer=l2(0.001))(x)\n",
        "final_output = Dense(2, activation='softmax')(x)\n",
        "\n",
        "model_3 = Model(inputs=[essay_input, remaining_input], outputs=[final_output])\n",
        "print(model_3.summary())"
      ],
      "execution_count": 137,
      "outputs": [
        {
          "output_type": "stream",
          "text": [
            "Model: \"model_5\"\n",
            "__________________________________________________________________________________________________\n",
            "Layer (type)                    Output Shape         Param #     Connected to                     \n",
            "==================================================================================================\n",
            "essay_input (InputLayer)        (None, 300)          0                                            \n",
            "__________________________________________________________________________________________________\n",
            "remaining_input (InputLayer)    (None, 101, 1)       0                                            \n",
            "__________________________________________________________________________________________________\n",
            "embedding_7 (Embedding)         (None, 300, 300)     14200800    essay_input[0][0]                \n",
            "__________________________________________________________________________________________________\n",
            "conv1d_12 (Conv1D)              (None, 99, 128)      512         remaining_input[0][0]            \n",
            "__________________________________________________________________________________________________\n",
            "lstm_7 (LSTM)                   (None, 300, 150)     270600      embedding_7[0][0]                \n",
            "__________________________________________________________________________________________________\n",
            "conv1d_13 (Conv1D)              (None, 97, 128)      49280       conv1d_12[0][0]                  \n",
            "__________________________________________________________________________________________________\n",
            "flatten_12 (Flatten)            (None, 45000)        0           lstm_7[0][0]                     \n",
            "__________________________________________________________________________________________________\n",
            "flatten_13 (Flatten)            (None, 12416)        0           conv1d_13[0][0]                  \n",
            "__________________________________________________________________________________________________\n",
            "concatenate_5 (Concatenate)     (None, 57416)        0           flatten_12[0][0]                 \n",
            "                                                                 flatten_13[0][0]                 \n",
            "__________________________________________________________________________________________________\n",
            "dense_17 (Dense)                (None, 256)          14698752    concatenate_5[0][0]              \n",
            "__________________________________________________________________________________________________\n",
            "dropout_9 (Dropout)             (None, 256)          0           dense_17[0][0]                   \n",
            "__________________________________________________________________________________________________\n",
            "dense_18 (Dense)                (None, 128)          32896       dropout_9[0][0]                  \n",
            "__________________________________________________________________________________________________\n",
            "dropout_10 (Dropout)            (None, 128)          0           dense_18[0][0]                   \n",
            "__________________________________________________________________________________________________\n",
            "batch_normalization_5 (BatchNor (None, 128)          512         dropout_10[0][0]                 \n",
            "__________________________________________________________________________________________________\n",
            "dense_19 (Dense)                (None, 64)           8256        batch_normalization_5[0][0]      \n",
            "__________________________________________________________________________________________________\n",
            "dense_20 (Dense)                (None, 2)            130         dense_19[0][0]                   \n",
            "==================================================================================================\n",
            "Total params: 29,261,738\n",
            "Trainable params: 15,060,682\n",
            "Non-trainable params: 14,201,056\n",
            "__________________________________________________________________________________________________\n",
            "None\n"
          ],
          "name": "stdout"
        }
      ]
    },
    {
      "cell_type": "code",
      "metadata": {
        "id": "PKXVgVyDKZLS",
        "colab_type": "code",
        "colab": {
          "base_uri": "https://localhost:8080/",
          "height": 69
        },
        "outputId": "f5e49dc0-f512-4a79-aa8a-e08f972ac3f3"
      },
      "source": [
        "# checkpoint\n",
        "file_path=working_dir+\"weights-improvement-{epoch:02d}-{val_auroc:.2f}.hdf5\"\n",
        "checkpoint_3 = ModelCheckpoint(filepath=file_path,\n",
        "                             monitor=\"val_auroc\",\n",
        "                             mode=\"max\",\n",
        "                             save_best_only = True,\n",
        "                             verbose=1)\n",
        "tbc_3 = TensorBoardColab()"
      ],
      "execution_count": 138,
      "outputs": [
        {
          "output_type": "stream",
          "text": [
            "Wait for 8 seconds...\n",
            "TensorBoard link:\n",
            "https://970ea298.ngrok.io\n"
          ],
          "name": "stdout"
        }
      ]
    },
    {
      "cell_type": "code",
      "metadata": {
        "id": "tJ3yUUV_GzpV",
        "colab_type": "code",
        "colab": {}
      },
      "source": [
        "callbacks_list = [checkpoint_3, TensorBoardColabCallback(tbc_3)]\n",
        "\n",
        "train_3 = [padded_train_essay, remaining_xtrain]\n",
        "\n",
        "cv_3 = [padded_cv_essay,remaining_xcv]\n",
        "      \n",
        "test_3 = [padded_test_essay,remaining_xtest]"
      ],
      "execution_count": 0,
      "outputs": []
    },
    {
      "cell_type": "code",
      "metadata": {
        "id": "uQT7fe4jKqbr",
        "colab_type": "code",
        "colab": {
          "base_uri": "https://localhost:8080/",
          "height": 1000
        },
        "outputId": "3894061c-d8a3-4462-e0da-72449359edc5"
      },
      "source": [
        "model_3.compile(loss='categorical_crossentropy', optimizer=optimizers.Adam(lr=0.0006,decay = 1e-4),metrics=[auroc])\n",
        "history_3 = model_3.fit(train_3,Y_train,validation_data=(cv_3,Y_cv),epochs=50,batch_size=512,verbose=1,callbacks=callbacks_list)"
      ],
      "execution_count": 140,
      "outputs": [
        {
          "output_type": "stream",
          "text": [
            "WARNING:tensorflow:From /usr/local/lib/python3.6/dist-packages/tensorflow_core/python/ops/math_grad.py:1424: where (from tensorflow.python.ops.array_ops) is deprecated and will be removed in a future version.\n",
            "Instructions for updating:\n",
            "Use tf.where in 2.0, which has the same broadcast rule as np.where\n",
            "WARNING:tensorflow:From /usr/local/lib/python3.6/dist-packages/keras/backend/tensorflow_backend.py:1033: The name tf.assign_add is deprecated. Please use tf.compat.v1.assign_add instead.\n",
            "\n",
            "WARNING:tensorflow:From /usr/local/lib/python3.6/dist-packages/keras/backend/tensorflow_backend.py:1020: The name tf.assign is deprecated. Please use tf.compat.v1.assign instead.\n",
            "\n",
            "Train on 69918 samples, validate on 17480 samples\n",
            "WARNING:tensorflow:From /usr/local/lib/python3.6/dist-packages/tensorboardcolab/core.py:49: The name tf.summary.FileWriter is deprecated. Please use tf.compat.v1.summary.FileWriter instead.\n",
            "\n",
            "WARNING:tensorflow:From /usr/local/lib/python3.6/dist-packages/keras/callbacks.py:1122: The name tf.summary.merge_all is deprecated. Please use tf.compat.v1.summary.merge_all instead.\n",
            "\n",
            "Epoch 1/50\n",
            "69918/69918 [==============================] - 74s 1ms/step - loss: 1.1136 - auroc: 0.5101 - val_loss: 0.8220 - val_auroc: 0.5471\n",
            "\n",
            "Epoch 00001: val_auroc improved from -inf to 0.54714, saving model to /content/gdrive/My Drive/model-weights-lstm/weights-improvement-01-0.55.hdf5\n",
            "WARNING:tensorflow:From /usr/local/lib/python3.6/dist-packages/tensorboardcolab/callbacks.py:51: The name tf.Summary is deprecated. Please use tf.compat.v1.Summary instead.\n",
            "\n",
            "Epoch 2/50\n",
            "69918/69918 [==============================] - 68s 969us/step - loss: 0.7480 - auroc: 0.5209 - val_loss: 0.6682 - val_auroc: 0.6204\n",
            "\n",
            "Epoch 00002: val_auroc improved from 0.54714 to 0.62042, saving model to /content/gdrive/My Drive/model-weights-lstm/weights-improvement-02-0.62.hdf5\n",
            "Epoch 3/50\n",
            "69918/69918 [==============================] - 68s 970us/step - loss: 0.6413 - auroc: 0.5808 - val_loss: 0.5908 - val_auroc: 0.6955\n",
            "\n",
            "Epoch 00003: val_auroc improved from 0.62042 to 0.69546, saving model to /content/gdrive/My Drive/model-weights-lstm/weights-improvement-03-0.70.hdf5\n",
            "Epoch 4/50\n",
            "69918/69918 [==============================] - 69s 982us/step - loss: 0.5852 - auroc: 0.6491 - val_loss: 0.5395 - val_auroc: 0.7102\n",
            "\n",
            "Epoch 00004: val_auroc improved from 0.69546 to 0.71017, saving model to /content/gdrive/My Drive/model-weights-lstm/weights-improvement-04-0.71.hdf5\n",
            "Epoch 5/50\n",
            "69918/69918 [==============================] - 70s 1ms/step - loss: 0.5386 - auroc: 0.6759 - val_loss: 0.5135 - val_auroc: 0.7213\n",
            "\n",
            "Epoch 00005: val_auroc improved from 0.71017 to 0.72134, saving model to /content/gdrive/My Drive/model-weights-lstm/weights-improvement-05-0.72.hdf5\n",
            "Epoch 6/50\n",
            "69918/69918 [==============================] - 69s 994us/step - loss: 0.5077 - auroc: 0.6927 - val_loss: 0.4975 - val_auroc: 0.7395\n",
            "\n",
            "Epoch 00006: val_auroc improved from 0.72134 to 0.73954, saving model to /content/gdrive/My Drive/model-weights-lstm/weights-improvement-06-0.74.hdf5\n",
            "Epoch 7/50\n",
            "69918/69918 [==============================] - 69s 993us/step - loss: 0.4865 - auroc: 0.7004 - val_loss: 0.4681 - val_auroc: 0.7448\n",
            "\n",
            "Epoch 00007: val_auroc improved from 0.73954 to 0.74477, saving model to /content/gdrive/My Drive/model-weights-lstm/weights-improvement-07-0.74.hdf5\n",
            "Epoch 8/50\n",
            "69918/69918 [==============================] - 69s 990us/step - loss: 0.4641 - auroc: 0.7147 - val_loss: 0.4524 - val_auroc: 0.7357\n",
            "\n",
            "Epoch 00008: val_auroc did not improve from 0.74477\n",
            "Epoch 9/50\n",
            "69918/69918 [==============================] - 69s 993us/step - loss: 0.4520 - auroc: 0.7164 - val_loss: 0.4322 - val_auroc: 0.7496\n",
            "\n",
            "Epoch 00009: val_auroc improved from 0.74477 to 0.74965, saving model to /content/gdrive/My Drive/model-weights-lstm/weights-improvement-09-0.75.hdf5\n",
            "Epoch 10/50\n",
            "69918/69918 [==============================] - 69s 992us/step - loss: 0.4377 - auroc: 0.7261 - val_loss: 0.4268 - val_auroc: 0.7543\n",
            "\n",
            "Epoch 00010: val_auroc improved from 0.74965 to 0.75431, saving model to /content/gdrive/My Drive/model-weights-lstm/weights-improvement-10-0.75.hdf5\n",
            "Epoch 11/50\n",
            "69918/69918 [==============================] - 69s 982us/step - loss: 0.4304 - auroc: 0.7273 - val_loss: 0.4173 - val_auroc: 0.7493\n",
            "\n",
            "Epoch 00011: val_auroc did not improve from 0.75431\n",
            "Epoch 12/50\n",
            "69918/69918 [==============================] - 67s 965us/step - loss: 0.4208 - auroc: 0.7341 - val_loss: 0.4108 - val_auroc: 0.7522\n",
            "\n",
            "Epoch 00012: val_auroc did not improve from 0.75431\n",
            "Epoch 13/50\n",
            "69918/69918 [==============================] - 67s 955us/step - loss: 0.4228 - auroc: 0.7169 - val_loss: 0.4741 - val_auroc: 0.6442\n",
            "\n",
            "Epoch 00013: val_auroc did not improve from 0.75431\n",
            "Epoch 14/50\n",
            "69918/69918 [==============================] - 67s 953us/step - loss: 0.4375 - auroc: 0.6772 - val_loss: 0.4480 - val_auroc: 0.7488\n",
            "\n",
            "Epoch 00014: val_auroc did not improve from 0.75431\n",
            "Epoch 15/50\n",
            "69918/69918 [==============================] - 67s 958us/step - loss: 0.4110 - auroc: 0.7348 - val_loss: 0.4109 - val_auroc: 0.7542\n",
            "\n",
            "Epoch 00015: val_auroc did not improve from 0.75431\n",
            "Epoch 16/50\n",
            "69918/69918 [==============================] - 67s 954us/step - loss: 0.4053 - auroc: 0.7397 - val_loss: 0.4127 - val_auroc: 0.7575\n",
            "\n",
            "Epoch 00016: val_auroc improved from 0.75431 to 0.75747, saving model to /content/gdrive/My Drive/model-weights-lstm/weights-improvement-16-0.76.hdf5\n",
            "Epoch 17/50\n",
            "69918/69918 [==============================] - 67s 959us/step - loss: 0.4010 - auroc: 0.7417 - val_loss: 0.4048 - val_auroc: 0.7581\n",
            "\n",
            "Epoch 00017: val_auroc improved from 0.75747 to 0.75805, saving model to /content/gdrive/My Drive/model-weights-lstm/weights-improvement-17-0.76.hdf5\n",
            "Epoch 18/50\n",
            "69918/69918 [==============================] - 66s 950us/step - loss: 0.3978 - auroc: 0.7445 - val_loss: 0.3909 - val_auroc: 0.7571\n",
            "\n",
            "Epoch 00018: val_auroc did not improve from 0.75805\n",
            "Epoch 19/50\n",
            "69918/69918 [==============================] - 66s 948us/step - loss: 0.3959 - auroc: 0.7459 - val_loss: 0.3920 - val_auroc: 0.7581\n",
            "\n",
            "Epoch 00019: val_auroc improved from 0.75805 to 0.75808, saving model to /content/gdrive/My Drive/model-weights-lstm/weights-improvement-19-0.76.hdf5\n",
            "Epoch 20/50\n",
            "69918/69918 [==============================] - 67s 962us/step - loss: 0.3919 - auroc: 0.7495 - val_loss: 0.3900 - val_auroc: 0.7568\n",
            "\n",
            "Epoch 00020: val_auroc did not improve from 0.75808\n",
            "Epoch 21/50\n",
            "69918/69918 [==============================] - 67s 956us/step - loss: 0.3882 - auroc: 0.7534 - val_loss: 0.3848 - val_auroc: 0.7547\n",
            "\n",
            "Epoch 00021: val_auroc did not improve from 0.75808\n",
            "Epoch 22/50\n",
            "69918/69918 [==============================] - 66s 942us/step - loss: 0.3881 - auroc: 0.7541 - val_loss: 0.3866 - val_auroc: 0.7581\n",
            "\n",
            "Epoch 00022: val_auroc improved from 0.75808 to 0.75809, saving model to /content/gdrive/My Drive/model-weights-lstm/weights-improvement-22-0.76.hdf5\n",
            "Epoch 23/50\n",
            "69918/69918 [==============================] - 66s 949us/step - loss: 0.3844 - auroc: 0.7564 - val_loss: 0.3910 - val_auroc: 0.7622\n",
            "\n",
            "Epoch 00023: val_auroc improved from 0.75809 to 0.76218, saving model to /content/gdrive/My Drive/model-weights-lstm/weights-improvement-23-0.76.hdf5\n",
            "Epoch 24/50\n",
            "69918/69918 [==============================] - 67s 952us/step - loss: 0.3850 - auroc: 0.7553 - val_loss: 0.3813 - val_auroc: 0.7608\n",
            "\n",
            "Epoch 00024: val_auroc did not improve from 0.76218\n",
            "Epoch 25/50\n",
            "69918/69918 [==============================] - 66s 951us/step - loss: 0.3829 - auroc: 0.7581 - val_loss: 0.3816 - val_auroc: 0.7615\n",
            "\n",
            "Epoch 00025: val_auroc did not improve from 0.76218\n",
            "Epoch 26/50\n",
            "69918/69918 [==============================] - 66s 949us/step - loss: 0.3793 - auroc: 0.7614 - val_loss: 0.3756 - val_auroc: 0.7606\n",
            "\n",
            "Epoch 00026: val_auroc did not improve from 0.76218\n",
            "Epoch 27/50\n",
            "69918/69918 [==============================] - 66s 942us/step - loss: 0.3769 - auroc: 0.7620 - val_loss: 0.3783 - val_auroc: 0.7606\n",
            "\n",
            "Epoch 00027: val_auroc did not improve from 0.76218\n",
            "Epoch 28/50\n",
            "69918/69918 [==============================] - 65s 935us/step - loss: 0.3784 - auroc: 0.7626 - val_loss: 0.3772 - val_auroc: 0.7649\n",
            "\n",
            "Epoch 00028: val_auroc improved from 0.76218 to 0.76489, saving model to /content/gdrive/My Drive/model-weights-lstm/weights-improvement-28-0.76.hdf5\n",
            "Epoch 29/50\n",
            "69918/69918 [==============================] - 67s 954us/step - loss: 0.3765 - auroc: 0.7644 - val_loss: 0.3780 - val_auroc: 0.7662\n",
            "\n",
            "Epoch 00029: val_auroc improved from 0.76489 to 0.76618, saving model to /content/gdrive/My Drive/model-weights-lstm/weights-improvement-29-0.77.hdf5\n",
            "Epoch 30/50\n",
            "69918/69918 [==============================] - 68s 968us/step - loss: 0.3756 - auroc: 0.7665 - val_loss: 0.3760 - val_auroc: 0.7666\n",
            "\n",
            "Epoch 00030: val_auroc improved from 0.76618 to 0.76661, saving model to /content/gdrive/My Drive/model-weights-lstm/weights-improvement-30-0.77.hdf5\n",
            "Epoch 31/50\n",
            "69918/69918 [==============================] - 69s 981us/step - loss: 0.3740 - auroc: 0.7680 - val_loss: 0.3750 - val_auroc: 0.7645\n",
            "\n",
            "Epoch 00031: val_auroc did not improve from 0.76661\n",
            "Epoch 32/50\n",
            "69918/69918 [==============================] - 68s 977us/step - loss: 0.3718 - auroc: 0.7726 - val_loss: 0.3735 - val_auroc: 0.7642\n",
            "\n",
            "Epoch 00032: val_auroc did not improve from 0.76661\n",
            "Epoch 33/50\n",
            "69918/69918 [==============================] - 67s 959us/step - loss: 0.3719 - auroc: 0.7702 - val_loss: 0.3736 - val_auroc: 0.7643\n",
            "\n",
            "Epoch 00033: val_auroc did not improve from 0.76661\n",
            "Epoch 34/50\n",
            "69918/69918 [==============================] - 66s 948us/step - loss: 0.3695 - auroc: 0.7728 - val_loss: 0.3722 - val_auroc: 0.7654\n",
            "\n",
            "Epoch 00034: val_auroc did not improve from 0.76661\n",
            "Epoch 35/50\n",
            "69918/69918 [==============================] - 66s 941us/step - loss: 0.3685 - auroc: 0.7744 - val_loss: 0.3743 - val_auroc: 0.7638\n",
            "\n",
            "Epoch 00035: val_auroc did not improve from 0.76661\n",
            "Epoch 36/50\n",
            "69918/69918 [==============================] - 66s 938us/step - loss: 0.3678 - auroc: 0.7766 - val_loss: 0.3755 - val_auroc: 0.7639\n",
            "\n",
            "Epoch 00036: val_auroc did not improve from 0.76661\n",
            "Epoch 37/50\n",
            "69918/69918 [==============================] - 66s 943us/step - loss: 0.3671 - auroc: 0.7774 - val_loss: 0.3762 - val_auroc: 0.7659\n",
            "\n",
            "Epoch 00037: val_auroc did not improve from 0.76661\n",
            "Epoch 38/50\n",
            "69918/69918 [==============================] - 66s 947us/step - loss: 0.3661 - auroc: 0.7788 - val_loss: 0.3743 - val_auroc: 0.7641\n",
            "\n",
            "Epoch 00038: val_auroc did not improve from 0.76661\n",
            "Epoch 39/50\n",
            "69918/69918 [==============================] - 67s 959us/step - loss: 0.3640 - auroc: 0.7825 - val_loss: 0.3746 - val_auroc: 0.7661\n",
            "\n",
            "Epoch 00039: val_auroc did not improve from 0.76661\n",
            "Epoch 40/50\n",
            "69918/69918 [==============================] - 66s 950us/step - loss: 0.3640 - auroc: 0.7833 - val_loss: 0.3726 - val_auroc: 0.7641\n",
            "\n",
            "Epoch 00040: val_auroc did not improve from 0.76661\n",
            "Epoch 41/50\n",
            "69918/69918 [==============================] - 66s 942us/step - loss: 0.3625 - auroc: 0.7863 - val_loss: 0.3753 - val_auroc: 0.7583\n",
            "\n",
            "Epoch 00041: val_auroc did not improve from 0.76661\n",
            "Epoch 42/50\n",
            "69918/69918 [==============================] - 66s 949us/step - loss: 0.3634 - auroc: 0.7848 - val_loss: 0.3748 - val_auroc: 0.7645\n",
            "\n",
            "Epoch 00042: val_auroc did not improve from 0.76661\n",
            "Epoch 43/50\n",
            "69918/69918 [==============================] - 69s 983us/step - loss: 0.3617 - auroc: 0.7880 - val_loss: 0.3746 - val_auroc: 0.7626\n",
            "\n",
            "Epoch 00043: val_auroc did not improve from 0.76661\n",
            "Epoch 44/50\n",
            "69918/69918 [==============================] - 69s 983us/step - loss: 0.3598 - auroc: 0.7911 - val_loss: 0.3787 - val_auroc: 0.7570\n",
            "\n",
            "Epoch 00044: val_auroc did not improve from 0.76661\n",
            "Epoch 45/50\n",
            "69918/69918 [==============================] - 68s 970us/step - loss: 0.3592 - auroc: 0.7906 - val_loss: 0.3721 - val_auroc: 0.7663\n",
            "\n",
            "Epoch 00045: val_auroc did not improve from 0.76661\n",
            "Epoch 46/50\n",
            "69918/69918 [==============================] - 67s 962us/step - loss: 0.3572 - auroc: 0.7936 - val_loss: 0.3736 - val_auroc: 0.7648\n",
            "\n",
            "Epoch 00046: val_auroc did not improve from 0.76661\n",
            "Epoch 47/50\n",
            "69918/69918 [==============================] - 68s 967us/step - loss: 0.3580 - auroc: 0.7929 - val_loss: 0.3734 - val_auroc: 0.7655\n",
            "\n",
            "Epoch 00047: val_auroc did not improve from 0.76661\n",
            "Epoch 48/50\n",
            "69918/69918 [==============================] - 68s 976us/step - loss: 0.3554 - auroc: 0.7968 - val_loss: 0.3758 - val_auroc: 0.7616\n",
            "\n",
            "Epoch 00048: val_auroc did not improve from 0.76661\n",
            "Epoch 49/50\n",
            "69918/69918 [==============================] - 68s 966us/step - loss: 0.3536 - auroc: 0.7987 - val_loss: 0.3824 - val_auroc: 0.7613\n",
            "\n",
            "Epoch 00049: val_auroc did not improve from 0.76661\n",
            "Epoch 50/50\n",
            "69918/69918 [==============================] - 67s 963us/step - loss: 0.3552 - auroc: 0.7982 - val_loss: 0.3860 - val_auroc: 0.7588\n",
            "\n",
            "Epoch 00050: val_auroc did not improve from 0.76661\n"
          ],
          "name": "stdout"
        }
      ]
    },
    {
      "cell_type": "code",
      "metadata": {
        "id": "e3VCjw0eiWNK",
        "colab_type": "code",
        "colab": {}
      },
      "source": [
        "#https://stackoverflow.com/posts/54978213/revisions\n",
        "custom_objects = {\"auroc\":auroc}\n",
        "from keras.models import load_model\n",
        "best_model_3 = load_model('/content/gdrive/My Drive/model-weights-lstm/weights-improvement-30-0.77.hdf5',custom_objects=custom_objects)"
      ],
      "execution_count": 0,
      "outputs": []
    },
    {
      "cell_type": "code",
      "metadata": {
        "id": "iSKPiZ9OiZZy",
        "colab_type": "code",
        "colab": {
          "base_uri": "https://localhost:8080/",
          "height": 69
        },
        "outputId": "43e51010-9c6f-4b76-f361-03b7c8f0cb4d"
      },
      "source": [
        "result = best_model_3.evaluate(x=test_3, y=Y_test, batch_size=512)\n",
        "print(\"{} of test data {}\". format(best_model_3.metrics_names[0],result[0]))\n",
        "print(\"{} of test data {}\". format(best_model_3.metrics_names[1],result[1]))"
      ],
      "execution_count": 142,
      "outputs": [
        {
          "output_type": "stream",
          "text": [
            "21850/21850 [==============================] - 9s 392us/step\n",
            "loss of test data 0.3775796339277272\n",
            "auroc of test data 0.7668925418496343\n"
          ],
          "name": "stdout"
        }
      ]
    },
    {
      "cell_type": "code",
      "metadata": {
        "id": "aXnBOlpuieA8",
        "colab_type": "code",
        "colab": {
          "base_uri": "https://localhost:8080/",
          "height": 553
        },
        "outputId": "9a820f19-6e95-4fa7-8e16-9e0e90a312ee"
      },
      "source": [
        "best_model_3.save(working_dir+\"best_model_3.h5\")\n",
        "\n",
        "fig,ax = plt.subplots(1,1)\n",
        "ax.set_xlabel('epoch') ; ax.set_ylabel('binary Crossentropy Loss')\n",
        "\n",
        "# list of epoch numbers\n",
        "x = list(range(1,50+1))\n",
        "\n",
        "# print(history.history.keys())\n",
        "# dict_keys(['val_loss', 'val_acc', 'loss', 'acc'])\n",
        "# history = model_drop.fit(X_train, Y_train, batch_size=batch_size, epochs=nb_epoch, verbose=1, validation_data=(X_test, Y_test))\n",
        "\n",
        "# we will get val_loss and val_acc only when you pass the paramter validation_data\n",
        "# val_loss : validation loss\n",
        "# val_acc : validation accuracy\n",
        "\n",
        "# loss : training loss\n",
        "# acc : train accuracy\n",
        "# for each key in histrory.histrory we will have a list of length equal to number of epochs\n",
        "\n",
        "\n",
        "vy = history_3.history['val_loss']\n",
        "ty = history_3.history['loss']\n",
        "plt_dynamic(x, vy, ty, ax)\n",
        "\n",
        "\n",
        "def plt_dynamic_auc(x, vy, ty, ax, colors=['b']):\n",
        "    ax.plot(x, vy, 'b', label=\"Validation auc\")\n",
        "    ax.plot(x, ty, 'r', label=\"Train auc\")\n",
        "    plt.legend()\n",
        "    plt.grid()\n",
        "    fig.canvas.draw()\n",
        "\n",
        "\n",
        "ig,ax = plt.subplots(1,1)\n",
        "ax.set_xlabel('epoch') ; ax.set_ylabel('binary Crossentropy Loss')\n",
        "\n",
        "# list of epoch numbers\n",
        "x = list(range(1,50+1))\n",
        "\n",
        "# print(history.history.keys())\n",
        "# dict_keys(['val_loss', 'val_acc', 'loss', 'acc'])\n",
        "# history = model_drop.fit(X_train, Y_train, batch_size=batch_size, epochs=nb_epoch, verbose=1, validation_data=(X_test, Y_test))\n",
        "\n",
        "# we will get val_loss and val_acc only when you pass the paramter validation_data\n",
        "# val_loss : validation loss\n",
        "# val_acc : validation accuracy\n",
        "\n",
        "# loss : training loss\n",
        "# acc : train accuracy\n",
        "# for each key in histrory.histrory we will have a list of length equal to number of epochs\n",
        "\n",
        "\n",
        "vy = history_3.history['val_auroc']\n",
        "ty = history_3.history['auroc']\n",
        "plt_dynamic_auc(x, vy, ty, ax)"
      ],
      "execution_count": 143,
      "outputs": [
        {
          "output_type": "display_data",
          "data": {
            "image/png": "[encoded data removed]",
            "text/plain": [
              "<Figure size 432x288 with 1 Axes>"
            ]
          },
          "metadata": {
            "tags": []
          }
        },
        {
          "output_type": "display_data",
          "data": {
            "image/png": "[encoded data removed]",
            "text/plain": [
              "<Figure size 432x288 with 1 Axes>"
            ]
          },
          "metadata": {
            "tags": []
          }
        }
      ]
    },
    {
      "cell_type": "code",
      "metadata": {
        "id": "1IeLEXdLjXew",
        "colab_type": "code",
        "colab": {
          "base_uri": "https://localhost:8080/",
          "height": 350
        },
        "outputId": "b6a04a0e-813a-4b44-a119-ae4d073c6c0a"
      },
      "source": [
        "Image(retina=True, filename=working_dir+'tb3.png')"
      ],
      "execution_count": 145,
      "outputs": [
        {
          "output_type": "execute_result",
          "data": {
            "image/png": "[encoded data removed]",
            "text/plain": [
              "<IPython.core.display.Image object>"
            ]
          },
          "metadata": {
            "tags": [],
            "image/png": {
              "width": 680,
              "height": 333
            }
          },
          "execution_count": 145
        }
      ]
    },
    {
      "cell_type": "markdown",
      "metadata": {
        "id": "8PcptjBMj5sA",
        "colab_type": "text"
      },
      "source": [
        "# Conclusion"
      ]
    },
    {
      "cell_type": "code",
      "metadata": {
        "id": "SI_cnc8kj40O",
        "colab_type": "code",
        "colab": {
          "base_uri": "https://localhost:8080/",
          "height": 139
        },
        "outputId": "df814d17-15b8-4837-b6b6-b4876a19e728"
      },
      "source": [
        "from prettytable import PrettyTable\n",
        "x = PrettyTable()\n",
        "\n",
        "x.field_names = [\"Model\", \"train_auc\", \"val_auc\", \"test_auc\",\"val_loss\",\"test_loss\"]\n",
        "\n",
        "x.add_row([\"Model_1\", 0.7926,0.7465,0.7424,0.4562,0.4563])\n",
        "x.add_row([\"Model_2\", 0.7962, 0.7079,0.7163,0.4282,0.4034])\n",
        "x.add_row([\"Model_3\", 0.7666,0.7558,0.7668,0.3680,0.37757])\n",
        "\n",
        "print(x)"
      ],
      "execution_count": 147,
      "outputs": [
        {
          "output_type": "stream",
          "text": [
            "+---------+-----------+---------+----------+----------+-----------+\n",
            "|  Model  | train_auc | val_auc | test_auc | val_loss | test_loss |\n",
            "+---------+-----------+---------+----------+----------+-----------+\n",
            "| Model_1 |   0.7926  |  0.7465 |  0.7424  |  0.4562  |   0.4563  |\n",
            "| Model_2 |   0.7962  |  0.7079 |  0.7163  |  0.4282  |   0.4034  |\n",
            "| Model_3 |   0.7666  |  0.7558 |  0.7668  |  0.368   |  0.37757  |\n",
            "+---------+-----------+---------+----------+----------+-----------+\n"
          ],
          "name": "stdout"
        }
      ]
    }
  ]
}